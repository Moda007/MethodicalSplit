{
 "cells": [
  {
   "cell_type": "markdown",
   "metadata": {
    "id": "eC-Vn7LDUeCk"
   },
   "source": [
    "#Clone the repo"
   ]
  },
  {
   "cell_type": "code",
   "execution_count": null,
   "metadata": {
    "colab": {
     "base_uri": "https://localhost:8080/"
    },
    "executionInfo": {
     "elapsed": 1985,
     "status": "ok",
     "timestamp": 1606560713680,
     "user": {
      "displayName": "Modafar Al-Shouha",
      "photoUrl": "",
      "userId": "08841682443665180805"
     },
     "user_tz": -60
    },
    "id": "q8syRlXZUf_o",
    "outputId": "1b4ccf89-f2a1-4c7e-d506-3b8e2f9c59f7",
    "scrolled": true
   },
   "outputs": [],
   "source": [
    "!git clone https://github.com/Moda007/MethodicalSplit.git"
   ]
  },
  {
   "cell_type": "code",
   "execution_count": null,
   "metadata": {
    "executionInfo": {
     "elapsed": 7604,
     "status": "ok",
     "timestamp": 1606560719306,
     "user": {
      "displayName": "Modafar Al-Shouha",
      "photoUrl": "",
      "userId": "08841682443665180805"
     },
     "user_tz": -60
    },
    "id": "m6RA55ybUkCH"
   },
   "outputs": [],
   "source": [
    "from MethodicalSplit import Functions as Fn\n",
    "from MethodicalSplit.ExpModel import ExpModel"
   ]
  },
  {
   "cell_type": "markdown",
   "metadata": {
    "id": "8Snsq7kuUw8m"
   },
   "source": [
    "#Define experiment details"
   ]
  },
  {
   "cell_type": "code",
   "execution_count": null,
   "metadata": {
    "colab": {
     "base_uri": "https://localhost:8080/"
    },
    "executionInfo": {
     "elapsed": 21107,
     "status": "ok",
     "timestamp": 1606560732852,
     "user": {
      "displayName": "Modafar Al-Shouha",
      "photoUrl": "",
      "userId": "08841682443665180805"
     },
     "user_tz": -60
    },
    "id": "tIetyqWxUz27",
    "outputId": "69747667-d96e-415d-d70b-8681cf125700"
   },
   "outputs": [],
   "source": [
    "DataSet, ModelName, group_idx, exp_idx, Avg, Sub, Rare, stratify, train = Fn.expDetails(Fn.all_exp)"
   ]
  },
  {
   "cell_type": "markdown",
   "metadata": {
    "id": "8R5MmBJ4OWEZ"
   },
   "source": [
    "#Colab"
   ]
  },
  {
   "cell_type": "markdown",
   "metadata": {
    "id": "q5a_NWs0tl69"
   },
   "source": [
    "##Ignore Warnings"
   ]
  },
  {
   "cell_type": "code",
   "execution_count": null,
   "metadata": {
    "executionInfo": {
     "elapsed": 1283,
     "status": "ok",
     "timestamp": 1606560737091,
     "user": {
      "displayName": "Modafar Al-Shouha",
      "photoUrl": "",
      "userId": "08841682443665180805"
     },
     "user_tz": -60
    },
    "id": "D8HRA1sEseKY"
   },
   "outputs": [],
   "source": [
    "import warnings\n",
    "warnings.filterwarnings('ignore')"
   ]
  },
  {
   "cell_type": "markdown",
   "metadata": {
    "id": "ZCPkvD-LtpQ1"
   },
   "source": [
    "##Mount Drive"
   ]
  },
  {
   "cell_type": "code",
   "execution_count": null,
   "metadata": {
    "colab": {
     "base_uri": "https://localhost:8080/"
    },
    "executionInfo": {
     "elapsed": 23582,
     "status": "ok",
     "timestamp": 1606560760534,
     "user": {
      "displayName": "Modafar Al-Shouha",
      "photoUrl": "",
      "userId": "08841682443665180805"
     },
     "user_tz": -60
    },
    "id": "nc9LE3cAStjB",
    "outputId": "64b4265e-e207-4a32-91fb-42cf5d1c6824"
   },
   "outputs": [],
   "source": [
    "from google.colab import drive\n",
    "drive.mount('/content/drive')"
   ]
  },
  {
   "cell_type": "markdown",
   "metadata": {
    "id": "F58DatcZk-T_"
   },
   "source": [
    "#Importing Packages and Libraries"
   ]
  },
  {
   "cell_type": "code",
   "execution_count": null,
   "metadata": {
    "colab": {
     "base_uri": "https://localhost:8080/"
    },
    "executionInfo": {
     "elapsed": 60036,
     "status": "ok",
     "timestamp": 1606560819581,
     "user": {
      "displayName": "Modafar Al-Shouha",
      "photoUrl": "",
      "userId": "08841682443665180805"
     },
     "user_tz": -60
    },
    "id": "8jRrVAmpcCqJ",
    "outputId": "5ebc47b9-1ac6-4240-e1a3-970ad0cf4b24"
   },
   "outputs": [],
   "source": [
    "!pip install hdbscan"
   ]
  },
  {
   "cell_type": "code",
   "execution_count": null,
   "metadata": {
    "executionInfo": {
     "elapsed": 58620,
     "status": "ok",
     "timestamp": 1606560819583,
     "user": {
      "displayName": "Modafar Al-Shouha",
      "photoUrl": "",
      "userId": "08841682443665180805"
     },
     "user_tz": -60
    },
    "id": "IKZtfEh9k-T_"
   },
   "outputs": [],
   "source": [
    "import numpy as np\n",
    "import matplotlib.pyplot as plt\n",
    "import seaborn as sns\n",
    "import tensorflow as tf\n",
    "\n",
    "import umap\n",
    "import hdbscan\n",
    "import sklearn.cluster as cluster\n",
    "from sklearn.metrics import adjusted_rand_score, adjusted_mutual_info_score"
   ]
  },
  {
   "cell_type": "markdown",
   "metadata": {
    "id": "G4ejsZkTlsaC"
   },
   "source": [
    "#Dataset"
   ]
  },
  {
   "cell_type": "markdown",
   "metadata": {
    "id": "tY7yX9KHmYpx"
   },
   "source": [
    "##Importing Dataset"
   ]
  },
  {
   "cell_type": "code",
   "execution_count": null,
   "metadata": {
    "colab": {
     "base_uri": "https://localhost:8080/",
     "height": 365,
     "referenced_widgets": [
      "b4e517e3506c4145b042eb8a008ce1e6",
      "90149f3329b34eb3a1a2fec4ad5f9299",
      "dd2b6c94b06c406d8071e04e84622aed",
      "cdcffbbd0049444bbe2d7b5a0234a4d4",
      "5258bab4b4bc4d96899af57a9cefefce",
      "cfc545a3c8fa4115a7eb574e6d5b9459",
      "75a19b55c65243e590df64895b2ecced",
      "bf50bd7a3e4948279fbcf431466e89b7",
      "ca221bacd2a44a619074c4f57485f567",
      "5e0386f4bbab48d494fe78ad7d4ee04a",
      "cd0d186656204816bd948e8647c083e5",
      "71d1474a0d3349b5b8e3132354e5a787",
      "6d3377a99cd04419b2edaf9adbc681e3",
      "69f7442f87c94e3eb14d3f8e2b246b05",
      "61f7c8f7eabd4e5bb2f4a15d507ddcff",
      "eebf52195ef44492b7ee97bd41991986",
      "6b2972f3020149f482a3e98a8ab58060",
      "deb3ee50e0004a359e18324e57fbf390",
      "81330234bba3459cbb3f15ead13fd434",
      "61a4084d93554e889ac2d5e60ea53e16",
      "b27606018c394ad9bfd6eece644bf83f",
      "cccb72d270ee441dad54e1ae4d5ef9c7",
      "28a67eb1fd5242a0be2bc29db27504dc",
      "a5bb7b70e1b9492e86f1db55e1dce1e3",
      "d95ecf4c67ad4b5994bbe2576e0083bf",
      "f2a6da98a2c84c31aa33cfb2cf13cd85",
      "52dc356938234605ba70102aec4cea6f",
      "1b44641795824795b3fd1cb53d98039b",
      "4f72a19c13f444f0ad39d51294c1f5a4",
      "2f3213af20554d51a918cd296a40763e",
      "1584f31c0c914478815d535d64e9a0a9",
      "efab8ab15b1949beb5a6f7f298d8d20d",
      "f5496ee1fba9489ea41918d6e1f254c6",
      "4f0330a770264aeb9c9e17a0bcfa4f8a",
      "5ca873033a974470893ba86af4eee215",
      "25b4f8c5e67549f685efadcdc21fe906",
      "9578622a58324e049f03d4006d56c755",
      "908b31e97e634aa8b82c094c1c793474",
      "91c683673d4f49fd8ce8a552d7c355b3",
      "441b240accc54930877d6fcfe3272d19",
      "aee120cb5a794d2ebfe7d9d9897ac11d",
      "47f81e7fe22f400eb0acfe27a78fcf85",
      "35df074cc07243568079376ea4936994",
      "173aed36fe794ca3959640eac0f9c84b",
      "c23802a4271141d9ac8a71d72c5d70d8",
      "4e6e20c53d4d442b8265e95e8be9d468",
      "54e5322d7fdd47b8b4b803232087b1e1",
      "7b153bd1d5c94ff2b15ac9f1d292f305",
      "a54b1307a11f4778a53a8cf7fdbb848d",
      "5ea1a323e059411d8229bb0edcfc3a53",
      "0bea5bf3a25c4783897d0200dc63ee60",
      "8fbfe98ad4904c7b99d02d919473129a",
      "b9417329ff6a4c07baf47592819814e0",
      "a94357c5744046ccae0d950c091db0ba",
      "37a3d96cb9d34f67aaa40b721d58fe26",
      "1b7cc86db5a34a2e98de2d15b1d003e0"
     ]
    },
    "executionInfo": {
     "elapsed": 196054,
     "status": "ok",
     "timestamp": 1606560961061,
     "user": {
      "displayName": "Modafar Al-Shouha",
      "photoUrl": "",
      "userId": "08841682443665180805"
     },
     "user_tz": -60
    },
    "id": "PkdXdi9HmL-H",
    "outputId": "c636bd2a-78da-4347-9b5d-c06b8189a595"
   },
   "outputs": [],
   "source": [
    "import tensorflow_datasets as tfds\n",
    "# Construct a tf.data.Dataset\n",
    "train, test = tfds.load('smallnorb', split=[\"train\", \"test\"], as_supervised=True, shuffle_files=True)\n",
    "# Convert to Numpy\n",
    "(x_train, y_train), (x_test, y_test) = Fn.TFDStoNP(train), Fn.TFDStoNP(test)"
   ]
  },
  {
   "cell_type": "code",
   "execution_count": null,
   "metadata": {
    "colab": {
     "base_uri": "https://localhost:8080/"
    },
    "executionInfo": {
     "elapsed": 194191,
     "status": "ok",
     "timestamp": 1606560961068,
     "user": {
      "displayName": "Modafar Al-Shouha",
      "photoUrl": "",
      "userId": "08841682443665180805"
     },
     "user_tz": -60
    },
    "id": "5b32ImdjvZ_9",
    "outputId": "33e775a1-7adb-4fa4-b12c-3f7f97080985"
   },
   "outputs": [],
   "source": [
    "print(\"x_train shape:\", x_train.shape)\n",
    "print(\"x_test shape:\", x_test.shape)\n",
    "print(\"y_train shape:\", y_train.shape)\n",
    "print(\"y_test shape:\", y_test.shape)"
   ]
  },
  {
   "cell_type": "markdown",
   "metadata": {
    "id": "lsOf-c-emcvm"
   },
   "source": [
    "##Concatenate train and test dataset"
   ]
  },
  {
   "cell_type": "code",
   "execution_count": null,
   "metadata": {
    "colab": {
     "base_uri": "https://localhost:8080/"
    },
    "executionInfo": {
     "elapsed": 192873,
     "status": "ok",
     "timestamp": 1606560961069,
     "user": {
      "displayName": "Modafar Al-Shouha",
      "photoUrl": "",
      "userId": "08841682443665180805"
     },
     "user_tz": -60
    },
    "id": "xrUmC6YgjyBw",
    "outputId": "b62dceb3-1725-4392-8255-ed31a9bb227b"
   },
   "outputs": [],
   "source": [
    "x_data = np.concatenate([x_train, x_test], axis=0)\n",
    "y_data = np.concatenate([y_train, y_test], axis=0)\n",
    "print(\"x_data shape:\", x_data.shape)\n",
    "print(\"y_data shape:\", y_data.shape)"
   ]
  },
  {
   "cell_type": "markdown",
   "metadata": {
    "id": "4FXQx0pzA3J-"
   },
   "source": [
    "##Split test data (holdout)"
   ]
  },
  {
   "cell_type": "code",
   "execution_count": null,
   "metadata": {
    "colab": {
     "base_uri": "https://localhost:8080/"
    },
    "executionInfo": {
     "elapsed": 190938,
     "status": "ok",
     "timestamp": 1606560961357,
     "user": {
      "displayName": "Modafar Al-Shouha",
      "photoUrl": "",
      "userId": "08841682443665180805"
     },
     "user_tz": -60
    },
    "id": "bdmANJFNA_c8",
    "outputId": "7ff61205-45e8-4193-f27e-9852799218bb"
   },
   "outputs": [],
   "source": [
    "from sklearn.model_selection import train_test_split\n",
    "\n",
    "x_data, x_test, y_data, y_test = train_test_split(x_data, y_data, train_size= 0.9, test_size= 0.1)\n",
    "\n",
    "print(\"x_data shape:\", x_data.shape)\n",
    "print(\"x_test shape:\", x_test.shape)\n",
    "print(\"y_data shape:\", y_data.shape)\n",
    "print(\"y_test shape:\", y_test.shape)"
   ]
  },
  {
   "cell_type": "markdown",
   "metadata": {
    "id": "wuftUZ_zmmbq"
   },
   "source": [
    "##Flatten dataset"
   ]
  },
  {
   "cell_type": "code",
   "execution_count": null,
   "metadata": {
    "colab": {
     "base_uri": "https://localhost:8080/"
    },
    "executionInfo": {
     "elapsed": 188928,
     "status": "ok",
     "timestamp": 1606560961359,
     "user": {
      "displayName": "Modafar Al-Shouha",
      "photoUrl": "",
      "userId": "08841682443665180805"
     },
     "user_tz": -60
    },
    "id": "tik1wkfKmPt-",
    "outputId": "0cf6094a-4180-4111-dbde-a0324d0c0ae8"
   },
   "outputs": [],
   "source": [
    "flatten_x = x_data.reshape((x_data.shape[0], -1))\n",
    "print(\"flatten_x shape:\", flatten_x.shape)\n",
    "x_test = x_test.reshape((x_test.shape[0], -1))\n",
    "print(\"x_test shape:\", x_test.shape)"
   ]
  },
  {
   "cell_type": "code",
   "execution_count": null,
   "metadata": {
    "executionInfo": {
     "elapsed": 185868,
     "status": "ok",
     "timestamp": 1606560961361,
     "user": {
      "displayName": "Modafar Al-Shouha",
      "photoUrl": "",
      "userId": "08841682443665180805"
     },
     "user_tz": -60
    },
    "id": "-Ok4GepO_RT1"
   },
   "outputs": [],
   "source": [
    "train = 'avg'\n",
    "is_colored = False"
   ]
  },
  {
   "cell_type": "markdown",
   "metadata": {
    "id": "yaSdl7Fkm6wR"
   },
   "source": [
    "#Model (Loop)"
   ]
  },
  {
   "cell_type": "markdown",
   "metadata": {
    "id": "Yzhq8e73HcxL"
   },
   "source": [
    "##>>> Experiment"
   ]
  },
  {
   "cell_type": "code",
   "execution_count": null,
   "metadata": {
    "executionInfo": {
     "elapsed": 176032,
     "status": "ok",
     "timestamp": 1606560961365,
     "user": {
      "displayName": "Modafar Al-Shouha",
      "photoUrl": "",
      "userId": "08841682443665180805"
     },
     "user_tz": -60
    },
    "id": "xAOfmVErptoo"
   },
   "outputs": [],
   "source": [
    "looped = True\n",
    "if looped:\n",
    "  looped = 'looped_'\n",
    "else:\n",
    "  looped = ''\n",
    "\n",
    "ds_path = '/content/drive/My Drive/Thesis Notebooks/' + DataSet + '/'\n",
    "exp_path = ds_path + ModelName + '/Group_' + group_idx + '/Exp' + exp_idx + '/'"
   ]
  },
  {
   "cell_type": "code",
   "execution_count": null,
   "metadata": {
    "executionInfo": {
     "elapsed": 807,
     "status": "ok",
     "timestamp": 1606560962188,
     "user": {
      "displayName": "Modafar Al-Shouha",
      "photoUrl": "",
      "userId": "08841682443665180805"
     },
     "user_tz": -60
    },
    "id": "XwuyC_I0sWdN"
   },
   "outputs": [],
   "source": [
    "def plotResults(DataSet, ModelName, group_idx, exp_idx, history, loop_no=''):\n",
    "  # plot the loss and accuracy\n",
    "  global exp_path\n",
    "\n",
    "  loop_no = str(loop_no)\n",
    "  plot_path = exp_path + 'plot'\n",
    "\n",
    "  acc = history.history['acc']\n",
    "  val_acc = history.history['val_acc']\n",
    "  loss = history.history['loss']\n",
    "  val_loss = history.history['val_loss']\n",
    "  epochs = range(1, len(acc) + 1)\n",
    "\n",
    "  plt.title('Training and validation accuracy')\n",
    "  plt.plot(epochs, acc, 'red', label='Training acc')\n",
    "  plt.plot(epochs, val_acc, 'blue', label='Validation acc')\n",
    "  plt.legend()\n",
    "\n",
    "  plt.savefig(f'{plot_path}/{loop_no}TrainValidAcc.jpg')\n",
    "\n",
    "  plt.figure()\n",
    "  plt.title('Training and validation loss')\n",
    "  plt.plot(epochs, loss, 'red', label='Training loss')\n",
    "  plt.plot(epochs, val_loss, 'blue', label='Validation loss')\n",
    "  plt.legend()\n",
    "  plt.savefig(f'{plot_path}/{loop_no}TrainValidAcc&Loss.jpg')\n",
    "\n",
    "  plt.show()"
   ]
  },
  {
   "cell_type": "markdown",
   "metadata": {
    "id": "-kjmGObDRuBf"
   },
   "source": [
    "#Looped Experiment"
   ]
  },
  {
   "cell_type": "markdown",
   "metadata": {
    "id": "TLuakiwuhwdk"
   },
   "source": [
    "##Inception"
   ]
  },
  {
   "cell_type": "code",
   "execution_count": null,
   "metadata": {
    "colab": {
     "base_uri": "https://localhost:8080/",
     "height": 1000
    },
    "executionInfo": {
     "elapsed": 15265828,
     "status": "ok",
     "timestamp": 1605961004859,
     "user": {
      "displayName": "IDEC Modafar",
      "photoUrl": "",
      "userId": "15482456300573867739"
     },
     "user_tz": -180
    },
    "id": "HJQJAKxllnQ5",
    "outputId": "e718508e-8c6b-4107-c04a-479677fb4357"
   },
   "outputs": [],
   "source": [
    "#Define All Results array\n",
    "All_results = []\n",
    "\n",
    "for idx in range(5):\n",
    "  \n",
    "  global exp_path\n",
    "  plot_path = exp_path +  'plot'\n",
    "  print('*****************************')\n",
    "  print(f'Experiment {str(idx)} starts')\n",
    "  print('*****************************')\n",
    "\n",
    "  #2D Embedding - UMAP\n",
    "  standard_embedding = umap.UMAP(random_state=42, n_neighbors=30, min_dist=0.0, n_components=2).fit_transform(flatten_x)\n",
    "  #Plotting with Original Labels\n",
    "  ##2D - Plotting\n",
    "  plt.scatter(standard_embedding[:, 0], standard_embedding[:, 1], c=y_data, s=0.1, cmap='Spectral')\n",
    "  plt.savefig(f'{plot_path}/{idx}2DOriginalScatter.jpg')\n",
    "  plt. clf()\n",
    "  sns.distplot(standard_embedding, kde=True, rug=True, bins=15)\n",
    "  plt.savefig(f'{plot_path}/{idx}2DOriginalhistogram.jpg')\n",
    "  plt. clf()\n",
    "\n",
    "  #Clustering - HDBSCAN\n",
    "  hdbscan_labels = hdbscan.HDBSCAN(min_samples=10, min_cluster_size=500).fit_predict(standard_embedding)\n",
    "  (adjusted_rand_score(y_data, hdbscan_labels), adjusted_mutual_info_score(y_data, hdbscan_labels))\n",
    "  no_of_clusters = Fn.clustersDet(hdbscan_labels)\n",
    "  ##Plotting with Cluster Labels\n",
    "  ### 2D - Plotting\n",
    "  plt.scatter(standard_embedding[:, 0], standard_embedding[:, 1], c=hdbscan_labels, s=0.1, cmap='Spectral')\n",
    "  plt.savefig(f'{plot_path}/{idx}2DClustersScatter.jpg')\n",
    "  plt. clf()\n",
    "  \n",
    "  #1D  Embedding per Cluster on the original Data\n",
    "  #Using UMAP =>>> random_state=42, n_neighbors=30, min_dist=0, n_components=1\n",
    "  clusters_list, labels_list, original_images_list = Fn.embedding1D(no_of_clusters, flatten_x, hdbscan_labels, y_data, False)\n",
    "  #Plotting Clusters Scatter Diagram\n",
    "  ##All Clusters\n",
    "  #Plotting scatter diagram for all clusters together\n",
    "  #define a list of colors for clusters\n",
    "  color_maps=['tab10', 'hsv', 'gist_stern', 'Accent', 'Dark2', 'Spectral', 'rainbow', 'brg', 'Pastel1', 'coolwarm']\n",
    "\n",
    "  for u in range(no_of_clusters):\n",
    "    plt.scatter(standard_embedding[hdbscan_labels==u][:, 0], standard_embedding[hdbscan_labels==u][:, 1],\\\n",
    "              c=hdbscan_labels[hdbscan_labels==u], s=0.1, cmap=color_maps[u])\n",
    "  plt.savefig(f'{plot_path}/{idx}1DClustersScatter.jpg')\n",
    "  plt. clf()\n",
    "  for u in range(no_of_clusters):\n",
    "    plt.scatter(standard_embedding[hdbscan_labels==u][:, 0], standard_embedding[hdbscan_labels==u][:, 1],\\\n",
    "              c=hdbscan_labels[hdbscan_labels==u], s=0.1, cmap=color_maps[u])\n",
    "    plt.savefig(f'{plot_path}/{idx}1DCluster{str(u)}Scatter.jpg')\n",
    "    plt. clf()\n",
    "  \n",
    "  #Data Splitting (per cluster) using Quantile\n",
    "  Region_1, Region_2, Region_3,\\\n",
    "  Region_1_labels, Region_2_labels, Region_3_labels,\\\n",
    "  Region_1_original, Region_2_original, Region_3_original = Fn.splitData(no_of_clusters, Avg, Sub, Rare, clusters_list,\\\n",
    "                                                                       labels_list, original_images_list)\n",
    "  for u in range(no_of_clusters):\n",
    "    Fn.showSplit(Region_1, Region_2, Region_3, u)\n",
    "    plt.savefig(f'{plot_path}/{idx}Cluster{str(u)}SplitHistogram.jpg')\n",
    "    plt. clf()\n",
    "    Fn.showSamples(Region_1_original[u], Region_2_original[u], Region_3_original[u], Region_1_labels[u], Region_2_labels[u], Region_3_labels[u])\n",
    "    plt.savefig(f'{plot_path}/{idx}Samples{str(u)}.jpg')\n",
    "    plt. clf()\n",
    "  ##Data Preperation\n",
    "  ###Splitting Data into 70% Train, 30% Validate\n",
    "    x_train_X, y_train_X, x_valid_X, y_valid_X, x_test_X, y_test_X = Fn.prepareDataSpecial(no_of_clusters, Region_1_original,\\\n",
    "                                                                                       Region_1_labels, Region_2_original,\\\n",
    "                                                                                       Region_2_labels, Region_3_original,\\\n",
    "                                                                                       Region_3_labels, x_test, y_test, train)\n",
    "  print('x_train_X shape:', x_train_X.shape)\n",
    "  print('x_valid_X shape:', x_valid_X.shape)\n",
    "  print('x_test_X shape:', x_test_X.shape)\n",
    "\n",
    "  ##Train\n",
    "  thisModel = ExpModel(ModelName, DataSet, x_train_X, y_train_X, x_valid_X, y_valid_X, x_test_X, y_test_X)\n",
    "  model, history, results = thisModel.trainModel()\n",
    "\n",
    "  ##Store experiment results\n",
    "  All_results.append(results)\n",
    "\n",
    "  ##Model Saving\n",
    "  filename = str(idx) + ModelName + '_' + DataSet + '_' + group_idx + '_'+ exp_idx\n",
    "  model.save(exp_path + filename + '.h5')\n",
    "\n",
    "  # plot the loss and accuracy\n",
    "  plotResults(DataSet, ModelName, group_idx, exp_idx, history, idx)\n",
    "  \n",
    "  print('*****************************')\n",
    "  print(f'Experiment {str(idx)} ends')\n",
    "  print('*****************************')\n",
    "\n",
    "  tf.keras.backend.clear_session()"
   ]
  },
  {
   "cell_type": "markdown",
   "metadata": {
    "id": "SP4ftZ6dhwdl"
   },
   "source": [
    "##Check experiments results"
   ]
  },
  {
   "cell_type": "code",
   "execution_count": null,
   "metadata": {
    "colab": {
     "base_uri": "https://localhost:8080/"
    },
    "executionInfo": {
     "elapsed": 15264968,
     "status": "ok",
     "timestamp": 1605961004868,
     "user": {
      "displayName": "IDEC Modafar",
      "photoUrl": "",
      "userId": "15482456300573867739"
     },
     "user_tz": -180
    },
    "id": "85yTTzrlhwdl",
    "outputId": "ef3d518a-ac64-4664-edc9-4e4d8d1880ff"
   },
   "outputs": [],
   "source": [
    "if len(All_results)==5:\n",
    "  print('Results Are Complete')\n",
    "else:\n",
    "  print('Results record has issue!!!')"
   ]
  },
  {
   "cell_type": "markdown",
   "metadata": {
    "id": "S5_3Dnkphwdm"
   },
   "source": [
    "##Exporting Results to Excel"
   ]
  },
  {
   "cell_type": "code",
   "execution_count": null,
   "metadata": {
    "colab": {
     "base_uri": "https://localhost:8080/"
    },
    "executionInfo": {
     "elapsed": 15266033,
     "status": "ok",
     "timestamp": 1605961007674,
     "user": {
      "displayName": "IDEC Modafar",
      "photoUrl": "",
      "userId": "15482456300573867739"
     },
     "user_tz": -180
    },
    "id": "oY0yF3S4hwdm",
    "outputId": "3d95fcb3-c189-49ae-a1f2-cd94701ccaa7"
   },
   "outputs": [],
   "source": [
    "!pip install xlsxwriter"
   ]
  },
  {
   "cell_type": "markdown",
   "metadata": {
    "id": "Bwdyxk97hwdm"
   },
   "source": [
    "###Create Excel with columns header"
   ]
  },
  {
   "cell_type": "code",
   "execution_count": null,
   "metadata": {
    "id": "3wA8wPmKhwdn"
   },
   "outputs": [],
   "source": [
    "excel_name = ModelName + '.xlsx'\n",
    "sheet_name = group_idx + '_' + exp_idx\n",
    "filepath = ds_path + excel_name\n",
    "\n",
    "column_titles = [['Idx', 'Train Acc', 'Valid Acc', 'Train Loss', 'Valid Loss',\\\n",
    "                 'Test Acc', 'Test Precision', 'Test Recall', 'Test F-score', 'Hamming Loss']]\n",
    "df = pd.DataFrame(column_titles)"
   ]
  },
  {
   "cell_type": "code",
   "execution_count": null,
   "metadata": {
    "id": "xb6yn1Q2hwdn"
   },
   "outputs": [],
   "source": [
    "if not Path(filepath).exists():\n",
    "  # Create writer object with an engine xlsxwriter\n",
    "  writer = pd.ExcelWriter(filepath, engine='xlsxwriter')\n",
    "  # Write data to an excel\n",
    "  df.to_excel(writer, sheet_name=sheet_name, index=False, header=None)\n",
    "  writer.save()\n",
    "else:\n",
    "  book = load_workbook(filepath)\n",
    "  with pd.ExcelWriter(filepath, engine='openpyxl') as writer:\n",
    "    writer.book = book\n",
    "    writer.sheets = dict((ws.title, ws) for ws in book.worksheets)    \n",
    "    ##dataframe to append. \n",
    "    df.to_excel(writer, sheet_name=sheet_name, index=False, header=None)  \n",
    "    writer.save()"
   ]
  },
  {
   "cell_type": "markdown",
   "metadata": {
    "id": "yHsakMSZhwdn"
   },
   "source": [
    "###Parse this experiment results"
   ]
  },
  {
   "cell_type": "code",
   "execution_count": null,
   "metadata": {
    "id": "w06aVfNhhwdn"
   },
   "outputs": [],
   "source": [
    "for idx, result in enumerate(All_results):\n",
    "  this_result = [idx] + result['train'] + result['test']\n",
    "  this_result = np.array(this_result).reshape(1,-1)\n",
    "  this_result = pd.DataFrame(this_result)\n",
    "\n",
    "  writer = pd.ExcelWriter(filepath, engine='openpyxl')\n",
    "  # try to open an existing workbook\n",
    "  writer.book = load_workbook(filepath)\n",
    "  # copy existing sheets\n",
    "  writer.sheets = dict((ws.title, ws) for ws in writer.book.worksheets)\n",
    "  # read existing file\n",
    "  reader = pd.read_excel(filepath)\n",
    "  # write out the new sheet\n",
    "  this_result.to_excel(writer, sheet_name=sheet_name, index=False, header=False, startrow=idx+1)\n",
    "\n",
    "  writer.close()"
   ]
  },
  {
   "cell_type": "code",
   "execution_count": null,
   "metadata": {
    "id": "DmIwzrdU02HU"
   },
   "outputs": [],
   "source": []
  }
 ],
 "metadata": {
  "accelerator": "GPU",
  "colab": {
   "collapsed_sections": [],
   "machine_shape": "hm",
   "name": "looped_Models_SmallNorb_Exp_16.ipynb",
   "provenance": [
    {
     "file_id": "1r5GUZM8--meUwWfh1NaoADm38STMRhVN",
     "timestamp": 1601990507026
    },
    {
     "file_id": "1zeYs9o6XFVKxnm3jkRur8iaVzXQK1hF1",
     "timestamp": 1584015667796
    }
   ],
   "toc_visible": true
  },
  "kernelspec": {
   "display_name": "Python 3",
   "language": "python",
   "name": "python3"
  },
  "language_info": {
   "codemirror_mode": {
    "name": "ipython",
    "version": 3
   },
   "file_extension": ".py",
   "mimetype": "text/x-python",
   "name": "python",
   "nbconvert_exporter": "python",
   "pygments_lexer": "ipython3",
   "version": "3.7.6"
  },
  "widgets": {
   "application/vnd.jupyter.widget-state+json": {
    "0bea5bf3a25c4783897d0200dc63ee60": {
     "model_module": "@jupyter-widgets/controls",
     "model_name": "FloatProgressModel",
     "state": {
      "_dom_classes": [],
      "_model_module": "@jupyter-widgets/controls",
      "_model_module_version": "1.5.0",
      "_model_name": "FloatProgressModel",
      "_view_count": null,
      "_view_module": "@jupyter-widgets/controls",
      "_view_module_version": "1.5.0",
      "_view_name": "ProgressView",
      "bar_style": "danger",
      "description": " 97%",
      "description_tooltip": null,
      "layout": "IPY_MODEL_a94357c5744046ccae0d950c091db0ba",
      "max": 24300,
      "min": 0,
      "orientation": "horizontal",
      "style": "IPY_MODEL_b9417329ff6a4c07baf47592819814e0",
      "value": 23576
     }
    },
    "1584f31c0c914478815d535d64e9a0a9": {
     "model_module": "@jupyter-widgets/controls",
     "model_name": "DescriptionStyleModel",
     "state": {
      "_model_module": "@jupyter-widgets/controls",
      "_model_module_version": "1.5.0",
      "_model_name": "DescriptionStyleModel",
      "_view_count": null,
      "_view_module": "@jupyter-widgets/base",
      "_view_module_version": "1.2.0",
      "_view_name": "StyleView",
      "description_width": ""
     }
    },
    "173aed36fe794ca3959640eac0f9c84b": {
     "model_module": "@jupyter-widgets/controls",
     "model_name": "HTMLModel",
     "state": {
      "_dom_classes": [],
      "_model_module": "@jupyter-widgets/controls",
      "_model_module_version": "1.5.0",
      "_model_name": "HTMLModel",
      "_view_count": null,
      "_view_module": "@jupyter-widgets/controls",
      "_view_module_version": "1.5.0",
      "_view_name": "HTMLView",
      "description": "",
      "description_tooltip": null,
      "layout": "IPY_MODEL_7b153bd1d5c94ff2b15ac9f1d292f305",
      "placeholder": "​",
      "style": "IPY_MODEL_54e5322d7fdd47b8b4b803232087b1e1",
      "value": " 24300/0 [00:49&lt;00:00, 444.85 examples/s]"
     }
    },
    "1b44641795824795b3fd1cb53d98039b": {
     "model_module": "@jupyter-widgets/controls",
     "model_name": "HTMLModel",
     "state": {
      "_dom_classes": [],
      "_model_module": "@jupyter-widgets/controls",
      "_model_module_version": "1.5.0",
      "_model_name": "HTMLModel",
      "_view_count": null,
      "_view_module": "@jupyter-widgets/controls",
      "_view_module_version": "1.5.0",
      "_view_name": "HTMLView",
      "description": "",
      "description_tooltip": null,
      "layout": "IPY_MODEL_efab8ab15b1949beb5a6f7f298d8d20d",
      "placeholder": "​",
      "style": "IPY_MODEL_1584f31c0c914478815d535d64e9a0a9",
      "value": " 24300/0 [00:54&lt;00:00, 488.35 examples/s]"
     }
    },
    "1b7cc86db5a34a2e98de2d15b1d003e0": {
     "model_module": "@jupyter-widgets/base",
     "model_name": "LayoutModel",
     "state": {
      "_model_module": "@jupyter-widgets/base",
      "_model_module_version": "1.2.0",
      "_model_name": "LayoutModel",
      "_view_count": null,
      "_view_module": "@jupyter-widgets/base",
      "_view_module_version": "1.2.0",
      "_view_name": "LayoutView",
      "align_content": null,
      "align_items": null,
      "align_self": null,
      "border": null,
      "bottom": null,
      "display": null,
      "flex": null,
      "flex_flow": null,
      "grid_area": null,
      "grid_auto_columns": null,
      "grid_auto_flow": null,
      "grid_auto_rows": null,
      "grid_column": null,
      "grid_gap": null,
      "grid_row": null,
      "grid_template_areas": null,
      "grid_template_columns": null,
      "grid_template_rows": null,
      "height": null,
      "justify_content": null,
      "justify_items": null,
      "left": null,
      "margin": null,
      "max_height": null,
      "max_width": null,
      "min_height": null,
      "min_width": null,
      "object_fit": null,
      "object_position": null,
      "order": null,
      "overflow": null,
      "overflow_x": null,
      "overflow_y": null,
      "padding": null,
      "right": null,
      "top": null,
      "visibility": null,
      "width": null
     }
    },
    "25b4f8c5e67549f685efadcdc21fe906": {
     "model_module": "@jupyter-widgets/controls",
     "model_name": "HTMLModel",
     "state": {
      "_dom_classes": [],
      "_model_module": "@jupyter-widgets/controls",
      "_model_module_version": "1.5.0",
      "_model_name": "HTMLModel",
      "_view_count": null,
      "_view_module": "@jupyter-widgets/controls",
      "_view_module_version": "1.5.0",
      "_view_name": "HTMLView",
      "description": "",
      "description_tooltip": null,
      "layout": "IPY_MODEL_441b240accc54930877d6fcfe3272d19",
      "placeholder": "​",
      "style": "IPY_MODEL_91c683673d4f49fd8ce8a552d7c355b3",
      "value": " 23589/24300 [00:00&lt;00:00, 64736.74 examples/s]"
     }
    },
    "28a67eb1fd5242a0be2bc29db27504dc": {
     "model_module": "@jupyter-widgets/controls",
     "model_name": "DescriptionStyleModel",
     "state": {
      "_model_module": "@jupyter-widgets/controls",
      "_model_module_version": "1.5.0",
      "_model_name": "DescriptionStyleModel",
      "_view_count": null,
      "_view_module": "@jupyter-widgets/base",
      "_view_module_version": "1.2.0",
      "_view_name": "StyleView",
      "description_width": ""
     }
    },
    "2f3213af20554d51a918cd296a40763e": {
     "model_module": "@jupyter-widgets/base",
     "model_name": "LayoutModel",
     "state": {
      "_model_module": "@jupyter-widgets/base",
      "_model_module_version": "1.2.0",
      "_model_name": "LayoutModel",
      "_view_count": null,
      "_view_module": "@jupyter-widgets/base",
      "_view_module_version": "1.2.0",
      "_view_name": "LayoutView",
      "align_content": null,
      "align_items": null,
      "align_self": null,
      "border": null,
      "bottom": null,
      "display": null,
      "flex": null,
      "flex_flow": null,
      "grid_area": null,
      "grid_auto_columns": null,
      "grid_auto_flow": null,
      "grid_auto_rows": null,
      "grid_column": null,
      "grid_gap": null,
      "grid_row": null,
      "grid_template_areas": null,
      "grid_template_columns": null,
      "grid_template_rows": null,
      "height": null,
      "justify_content": null,
      "justify_items": null,
      "left": null,
      "margin": null,
      "max_height": null,
      "max_width": null,
      "min_height": null,
      "min_width": null,
      "object_fit": null,
      "object_position": null,
      "order": null,
      "overflow": null,
      "overflow_x": null,
      "overflow_y": null,
      "padding": null,
      "right": null,
      "top": null,
      "visibility": null,
      "width": null
     }
    },
    "35df074cc07243568079376ea4936994": {
     "model_module": "@jupyter-widgets/controls",
     "model_name": "FloatProgressModel",
     "state": {
      "_dom_classes": [],
      "_model_module": "@jupyter-widgets/controls",
      "_model_module_version": "1.5.0",
      "_model_name": "FloatProgressModel",
      "_view_count": null,
      "_view_module": "@jupyter-widgets/controls",
      "_view_module_version": "1.5.0",
      "_view_name": "ProgressView",
      "bar_style": "info",
      "description": "",
      "description_tooltip": null,
      "layout": "IPY_MODEL_4e6e20c53d4d442b8265e95e8be9d468",
      "max": 1,
      "min": 0,
      "orientation": "horizontal",
      "style": "IPY_MODEL_c23802a4271141d9ac8a71d72c5d70d8",
      "value": 1
     }
    },
    "37a3d96cb9d34f67aaa40b721d58fe26": {
     "model_module": "@jupyter-widgets/controls",
     "model_name": "DescriptionStyleModel",
     "state": {
      "_model_module": "@jupyter-widgets/controls",
      "_model_module_version": "1.5.0",
      "_model_name": "DescriptionStyleModel",
      "_view_count": null,
      "_view_module": "@jupyter-widgets/base",
      "_view_module_version": "1.2.0",
      "_view_name": "StyleView",
      "description_width": ""
     }
    },
    "441b240accc54930877d6fcfe3272d19": {
     "model_module": "@jupyter-widgets/base",
     "model_name": "LayoutModel",
     "state": {
      "_model_module": "@jupyter-widgets/base",
      "_model_module_version": "1.2.0",
      "_model_name": "LayoutModel",
      "_view_count": null,
      "_view_module": "@jupyter-widgets/base",
      "_view_module_version": "1.2.0",
      "_view_name": "LayoutView",
      "align_content": null,
      "align_items": null,
      "align_self": null,
      "border": null,
      "bottom": null,
      "display": null,
      "flex": null,
      "flex_flow": null,
      "grid_area": null,
      "grid_auto_columns": null,
      "grid_auto_flow": null,
      "grid_auto_rows": null,
      "grid_column": null,
      "grid_gap": null,
      "grid_row": null,
      "grid_template_areas": null,
      "grid_template_columns": null,
      "grid_template_rows": null,
      "height": null,
      "justify_content": null,
      "justify_items": null,
      "left": null,
      "margin": null,
      "max_height": null,
      "max_width": null,
      "min_height": null,
      "min_width": null,
      "object_fit": null,
      "object_position": null,
      "order": null,
      "overflow": null,
      "overflow_x": null,
      "overflow_y": null,
      "padding": null,
      "right": null,
      "top": null,
      "visibility": null,
      "width": null
     }
    },
    "47f81e7fe22f400eb0acfe27a78fcf85": {
     "model_module": "@jupyter-widgets/base",
     "model_name": "LayoutModel",
     "state": {
      "_model_module": "@jupyter-widgets/base",
      "_model_module_version": "1.2.0",
      "_model_name": "LayoutModel",
      "_view_count": null,
      "_view_module": "@jupyter-widgets/base",
      "_view_module_version": "1.2.0",
      "_view_name": "LayoutView",
      "align_content": null,
      "align_items": null,
      "align_self": null,
      "border": null,
      "bottom": null,
      "display": null,
      "flex": null,
      "flex_flow": null,
      "grid_area": null,
      "grid_auto_columns": null,
      "grid_auto_flow": null,
      "grid_auto_rows": null,
      "grid_column": null,
      "grid_gap": null,
      "grid_row": null,
      "grid_template_areas": null,
      "grid_template_columns": null,
      "grid_template_rows": null,
      "height": null,
      "justify_content": null,
      "justify_items": null,
      "left": null,
      "margin": null,
      "max_height": null,
      "max_width": null,
      "min_height": null,
      "min_width": null,
      "object_fit": null,
      "object_position": null,
      "order": null,
      "overflow": null,
      "overflow_x": null,
      "overflow_y": null,
      "padding": null,
      "right": null,
      "top": null,
      "visibility": null,
      "width": null
     }
    },
    "4e6e20c53d4d442b8265e95e8be9d468": {
     "model_module": "@jupyter-widgets/base",
     "model_name": "LayoutModel",
     "state": {
      "_model_module": "@jupyter-widgets/base",
      "_model_module_version": "1.2.0",
      "_model_name": "LayoutModel",
      "_view_count": null,
      "_view_module": "@jupyter-widgets/base",
      "_view_module_version": "1.2.0",
      "_view_name": "LayoutView",
      "align_content": null,
      "align_items": null,
      "align_self": null,
      "border": null,
      "bottom": null,
      "display": null,
      "flex": null,
      "flex_flow": null,
      "grid_area": null,
      "grid_auto_columns": null,
      "grid_auto_flow": null,
      "grid_auto_rows": null,
      "grid_column": null,
      "grid_gap": null,
      "grid_row": null,
      "grid_template_areas": null,
      "grid_template_columns": null,
      "grid_template_rows": null,
      "height": null,
      "justify_content": null,
      "justify_items": null,
      "left": null,
      "margin": null,
      "max_height": null,
      "max_width": null,
      "min_height": null,
      "min_width": null,
      "object_fit": null,
      "object_position": null,
      "order": null,
      "overflow": null,
      "overflow_x": null,
      "overflow_y": null,
      "padding": null,
      "right": null,
      "top": null,
      "visibility": null,
      "width": null
     }
    },
    "4f0330a770264aeb9c9e17a0bcfa4f8a": {
     "model_module": "@jupyter-widgets/base",
     "model_name": "LayoutModel",
     "state": {
      "_model_module": "@jupyter-widgets/base",
      "_model_module_version": "1.2.0",
      "_model_name": "LayoutModel",
      "_view_count": null,
      "_view_module": "@jupyter-widgets/base",
      "_view_module_version": "1.2.0",
      "_view_name": "LayoutView",
      "align_content": null,
      "align_items": null,
      "align_self": null,
      "border": null,
      "bottom": null,
      "display": null,
      "flex": null,
      "flex_flow": null,
      "grid_area": null,
      "grid_auto_columns": null,
      "grid_auto_flow": null,
      "grid_auto_rows": null,
      "grid_column": null,
      "grid_gap": null,
      "grid_row": null,
      "grid_template_areas": null,
      "grid_template_columns": null,
      "grid_template_rows": null,
      "height": null,
      "justify_content": null,
      "justify_items": null,
      "left": null,
      "margin": null,
      "max_height": null,
      "max_width": null,
      "min_height": null,
      "min_width": null,
      "object_fit": null,
      "object_position": null,
      "order": null,
      "overflow": null,
      "overflow_x": null,
      "overflow_y": null,
      "padding": null,
      "right": null,
      "top": null,
      "visibility": null,
      "width": null
     }
    },
    "4f72a19c13f444f0ad39d51294c1f5a4": {
     "model_module": "@jupyter-widgets/controls",
     "model_name": "ProgressStyleModel",
     "state": {
      "_model_module": "@jupyter-widgets/controls",
      "_model_module_version": "1.5.0",
      "_model_name": "ProgressStyleModel",
      "_view_count": null,
      "_view_module": "@jupyter-widgets/base",
      "_view_module_version": "1.2.0",
      "_view_name": "StyleView",
      "bar_color": null,
      "description_width": "initial"
     }
    },
    "5258bab4b4bc4d96899af57a9cefefce": {
     "model_module": "@jupyter-widgets/controls",
     "model_name": "ProgressStyleModel",
     "state": {
      "_model_module": "@jupyter-widgets/controls",
      "_model_module_version": "1.5.0",
      "_model_name": "ProgressStyleModel",
      "_view_count": null,
      "_view_module": "@jupyter-widgets/base",
      "_view_module_version": "1.2.0",
      "_view_name": "StyleView",
      "bar_color": null,
      "description_width": "initial"
     }
    },
    "52dc356938234605ba70102aec4cea6f": {
     "model_module": "@jupyter-widgets/controls",
     "model_name": "FloatProgressModel",
     "state": {
      "_dom_classes": [],
      "_model_module": "@jupyter-widgets/controls",
      "_model_module_version": "1.5.0",
      "_model_name": "FloatProgressModel",
      "_view_count": null,
      "_view_module": "@jupyter-widgets/controls",
      "_view_module_version": "1.5.0",
      "_view_name": "ProgressView",
      "bar_style": "info",
      "description": "",
      "description_tooltip": null,
      "layout": "IPY_MODEL_2f3213af20554d51a918cd296a40763e",
      "max": 1,
      "min": 0,
      "orientation": "horizontal",
      "style": "IPY_MODEL_4f72a19c13f444f0ad39d51294c1f5a4",
      "value": 1
     }
    },
    "54e5322d7fdd47b8b4b803232087b1e1": {
     "model_module": "@jupyter-widgets/controls",
     "model_name": "DescriptionStyleModel",
     "state": {
      "_model_module": "@jupyter-widgets/controls",
      "_model_module_version": "1.5.0",
      "_model_name": "DescriptionStyleModel",
      "_view_count": null,
      "_view_module": "@jupyter-widgets/base",
      "_view_module_version": "1.2.0",
      "_view_name": "StyleView",
      "description_width": ""
     }
    },
    "5ca873033a974470893ba86af4eee215": {
     "model_module": "@jupyter-widgets/controls",
     "model_name": "FloatProgressModel",
     "state": {
      "_dom_classes": [],
      "_model_module": "@jupyter-widgets/controls",
      "_model_module_version": "1.5.0",
      "_model_name": "FloatProgressModel",
      "_view_count": null,
      "_view_module": "@jupyter-widgets/controls",
      "_view_module_version": "1.5.0",
      "_view_name": "ProgressView",
      "bar_style": "danger",
      "description": " 97%",
      "description_tooltip": null,
      "layout": "IPY_MODEL_908b31e97e634aa8b82c094c1c793474",
      "max": 24300,
      "min": 0,
      "orientation": "horizontal",
      "style": "IPY_MODEL_9578622a58324e049f03d4006d56c755",
      "value": 23589
     }
    },
    "5e0386f4bbab48d494fe78ad7d4ee04a": {
     "model_module": "@jupyter-widgets/base",
     "model_name": "LayoutModel",
     "state": {
      "_model_module": "@jupyter-widgets/base",
      "_model_module_version": "1.2.0",
      "_model_name": "LayoutModel",
      "_view_count": null,
      "_view_module": "@jupyter-widgets/base",
      "_view_module_version": "1.2.0",
      "_view_name": "LayoutView",
      "align_content": null,
      "align_items": null,
      "align_self": null,
      "border": null,
      "bottom": null,
      "display": null,
      "flex": null,
      "flex_flow": null,
      "grid_area": null,
      "grid_auto_columns": null,
      "grid_auto_flow": null,
      "grid_auto_rows": null,
      "grid_column": null,
      "grid_gap": null,
      "grid_row": null,
      "grid_template_areas": null,
      "grid_template_columns": null,
      "grid_template_rows": null,
      "height": null,
      "justify_content": null,
      "justify_items": null,
      "left": null,
      "margin": null,
      "max_height": null,
      "max_width": null,
      "min_height": null,
      "min_width": null,
      "object_fit": null,
      "object_position": null,
      "order": null,
      "overflow": null,
      "overflow_x": null,
      "overflow_y": null,
      "padding": null,
      "right": null,
      "top": null,
      "visibility": null,
      "width": null
     }
    },
    "5ea1a323e059411d8229bb0edcfc3a53": {
     "model_module": "@jupyter-widgets/base",
     "model_name": "LayoutModel",
     "state": {
      "_model_module": "@jupyter-widgets/base",
      "_model_module_version": "1.2.0",
      "_model_name": "LayoutModel",
      "_view_count": null,
      "_view_module": "@jupyter-widgets/base",
      "_view_module_version": "1.2.0",
      "_view_name": "LayoutView",
      "align_content": null,
      "align_items": null,
      "align_self": null,
      "border": null,
      "bottom": null,
      "display": null,
      "flex": null,
      "flex_flow": null,
      "grid_area": null,
      "grid_auto_columns": null,
      "grid_auto_flow": null,
      "grid_auto_rows": null,
      "grid_column": null,
      "grid_gap": null,
      "grid_row": null,
      "grid_template_areas": null,
      "grid_template_columns": null,
      "grid_template_rows": null,
      "height": null,
      "justify_content": null,
      "justify_items": null,
      "left": null,
      "margin": null,
      "max_height": null,
      "max_width": null,
      "min_height": null,
      "min_width": null,
      "object_fit": null,
      "object_position": null,
      "order": null,
      "overflow": null,
      "overflow_x": null,
      "overflow_y": null,
      "padding": null,
      "right": null,
      "top": null,
      "visibility": null,
      "width": null
     }
    },
    "61a4084d93554e889ac2d5e60ea53e16": {
     "model_module": "@jupyter-widgets/controls",
     "model_name": "HTMLModel",
     "state": {
      "_dom_classes": [],
      "_model_module": "@jupyter-widgets/controls",
      "_model_module_version": "1.5.0",
      "_model_name": "HTMLModel",
      "_view_count": null,
      "_view_module": "@jupyter-widgets/controls",
      "_view_module_version": "1.5.0",
      "_view_name": "HTMLView",
      "description": "",
      "description_tooltip": null,
      "layout": "IPY_MODEL_a5bb7b70e1b9492e86f1db55e1dce1e3",
      "placeholder": "​",
      "style": "IPY_MODEL_28a67eb1fd5242a0be2bc29db27504dc",
      "value": " 6/6 [00:18&lt;00:00,  3.06s/ file]"
     }
    },
    "61f7c8f7eabd4e5bb2f4a15d507ddcff": {
     "model_module": "@jupyter-widgets/controls",
     "model_name": "DescriptionStyleModel",
     "state": {
      "_model_module": "@jupyter-widgets/controls",
      "_model_module_version": "1.5.0",
      "_model_name": "DescriptionStyleModel",
      "_view_count": null,
      "_view_module": "@jupyter-widgets/base",
      "_view_module_version": "1.2.0",
      "_view_name": "StyleView",
      "description_width": ""
     }
    },
    "69f7442f87c94e3eb14d3f8e2b246b05": {
     "model_module": "@jupyter-widgets/base",
     "model_name": "LayoutModel",
     "state": {
      "_model_module": "@jupyter-widgets/base",
      "_model_module_version": "1.2.0",
      "_model_name": "LayoutModel",
      "_view_count": null,
      "_view_module": "@jupyter-widgets/base",
      "_view_module_version": "1.2.0",
      "_view_name": "LayoutView",
      "align_content": null,
      "align_items": null,
      "align_self": null,
      "border": null,
      "bottom": null,
      "display": null,
      "flex": null,
      "flex_flow": null,
      "grid_area": null,
      "grid_auto_columns": null,
      "grid_auto_flow": null,
      "grid_auto_rows": null,
      "grid_column": null,
      "grid_gap": null,
      "grid_row": null,
      "grid_template_areas": null,
      "grid_template_columns": null,
      "grid_template_rows": null,
      "height": null,
      "justify_content": null,
      "justify_items": null,
      "left": null,
      "margin": null,
      "max_height": null,
      "max_width": null,
      "min_height": null,
      "min_width": null,
      "object_fit": null,
      "object_position": null,
      "order": null,
      "overflow": null,
      "overflow_x": null,
      "overflow_y": null,
      "padding": null,
      "right": null,
      "top": null,
      "visibility": null,
      "width": null
     }
    },
    "6b2972f3020149f482a3e98a8ab58060": {
     "model_module": "@jupyter-widgets/controls",
     "model_name": "HBoxModel",
     "state": {
      "_dom_classes": [],
      "_model_module": "@jupyter-widgets/controls",
      "_model_module_version": "1.5.0",
      "_model_name": "HBoxModel",
      "_view_count": null,
      "_view_module": "@jupyter-widgets/controls",
      "_view_module_version": "1.5.0",
      "_view_name": "HBoxView",
      "box_style": "",
      "children": [
       "IPY_MODEL_81330234bba3459cbb3f15ead13fd434",
       "IPY_MODEL_61a4084d93554e889ac2d5e60ea53e16"
      ],
      "layout": "IPY_MODEL_deb3ee50e0004a359e18324e57fbf390"
     }
    },
    "6d3377a99cd04419b2edaf9adbc681e3": {
     "model_module": "@jupyter-widgets/controls",
     "model_name": "ProgressStyleModel",
     "state": {
      "_model_module": "@jupyter-widgets/controls",
      "_model_module_version": "1.5.0",
      "_model_name": "ProgressStyleModel",
      "_view_count": null,
      "_view_module": "@jupyter-widgets/base",
      "_view_module_version": "1.2.0",
      "_view_name": "StyleView",
      "bar_color": null,
      "description_width": "initial"
     }
    },
    "71d1474a0d3349b5b8e3132354e5a787": {
     "model_module": "@jupyter-widgets/controls",
     "model_name": "HTMLModel",
     "state": {
      "_dom_classes": [],
      "_model_module": "@jupyter-widgets/controls",
      "_model_module_version": "1.5.0",
      "_model_name": "HTMLModel",
      "_view_count": null,
      "_view_module": "@jupyter-widgets/controls",
      "_view_module_version": "1.5.0",
      "_view_name": "HTMLView",
      "description": "",
      "description_tooltip": null,
      "layout": "IPY_MODEL_eebf52195ef44492b7ee97bd41991986",
      "placeholder": "​",
      "style": "IPY_MODEL_61f7c8f7eabd4e5bb2f4a15d507ddcff",
      "value": " 249/249 [00:18&lt;00:00, 13.55 MiB/s]"
     }
    },
    "75a19b55c65243e590df64895b2ecced": {
     "model_module": "@jupyter-widgets/controls",
     "model_name": "DescriptionStyleModel",
     "state": {
      "_model_module": "@jupyter-widgets/controls",
      "_model_module_version": "1.5.0",
      "_model_name": "DescriptionStyleModel",
      "_view_count": null,
      "_view_module": "@jupyter-widgets/base",
      "_view_module_version": "1.2.0",
      "_view_name": "StyleView",
      "description_width": ""
     }
    },
    "7b153bd1d5c94ff2b15ac9f1d292f305": {
     "model_module": "@jupyter-widgets/base",
     "model_name": "LayoutModel",
     "state": {
      "_model_module": "@jupyter-widgets/base",
      "_model_module_version": "1.2.0",
      "_model_name": "LayoutModel",
      "_view_count": null,
      "_view_module": "@jupyter-widgets/base",
      "_view_module_version": "1.2.0",
      "_view_name": "LayoutView",
      "align_content": null,
      "align_items": null,
      "align_self": null,
      "border": null,
      "bottom": null,
      "display": null,
      "flex": null,
      "flex_flow": null,
      "grid_area": null,
      "grid_auto_columns": null,
      "grid_auto_flow": null,
      "grid_auto_rows": null,
      "grid_column": null,
      "grid_gap": null,
      "grid_row": null,
      "grid_template_areas": null,
      "grid_template_columns": null,
      "grid_template_rows": null,
      "height": null,
      "justify_content": null,
      "justify_items": null,
      "left": null,
      "margin": null,
      "max_height": null,
      "max_width": null,
      "min_height": null,
      "min_width": null,
      "object_fit": null,
      "object_position": null,
      "order": null,
      "overflow": null,
      "overflow_x": null,
      "overflow_y": null,
      "padding": null,
      "right": null,
      "top": null,
      "visibility": null,
      "width": null
     }
    },
    "81330234bba3459cbb3f15ead13fd434": {
     "model_module": "@jupyter-widgets/controls",
     "model_name": "FloatProgressModel",
     "state": {
      "_dom_classes": [],
      "_model_module": "@jupyter-widgets/controls",
      "_model_module_version": "1.5.0",
      "_model_name": "FloatProgressModel",
      "_view_count": null,
      "_view_module": "@jupyter-widgets/controls",
      "_view_module_version": "1.5.0",
      "_view_name": "ProgressView",
      "bar_style": "success",
      "description": "Extraction completed...: 100%",
      "description_tooltip": null,
      "layout": "IPY_MODEL_cccb72d270ee441dad54e1ae4d5ef9c7",
      "max": 1,
      "min": 0,
      "orientation": "horizontal",
      "style": "IPY_MODEL_b27606018c394ad9bfd6eece644bf83f",
      "value": 1
     }
    },
    "8fbfe98ad4904c7b99d02d919473129a": {
     "model_module": "@jupyter-widgets/controls",
     "model_name": "HTMLModel",
     "state": {
      "_dom_classes": [],
      "_model_module": "@jupyter-widgets/controls",
      "_model_module_version": "1.5.0",
      "_model_name": "HTMLModel",
      "_view_count": null,
      "_view_module": "@jupyter-widgets/controls",
      "_view_module_version": "1.5.0",
      "_view_name": "HTMLView",
      "description": "",
      "description_tooltip": null,
      "layout": "IPY_MODEL_1b7cc86db5a34a2e98de2d15b1d003e0",
      "placeholder": "​",
      "style": "IPY_MODEL_37a3d96cb9d34f67aaa40b721d58fe26",
      "value": " 23576/24300 [00:00&lt;00:00, 64605.71 examples/s]"
     }
    },
    "90149f3329b34eb3a1a2fec4ad5f9299": {
     "model_module": "@jupyter-widgets/base",
     "model_name": "LayoutModel",
     "state": {
      "_model_module": "@jupyter-widgets/base",
      "_model_module_version": "1.2.0",
      "_model_name": "LayoutModel",
      "_view_count": null,
      "_view_module": "@jupyter-widgets/base",
      "_view_module_version": "1.2.0",
      "_view_name": "LayoutView",
      "align_content": null,
      "align_items": null,
      "align_self": null,
      "border": null,
      "bottom": null,
      "display": null,
      "flex": null,
      "flex_flow": null,
      "grid_area": null,
      "grid_auto_columns": null,
      "grid_auto_flow": null,
      "grid_auto_rows": null,
      "grid_column": null,
      "grid_gap": null,
      "grid_row": null,
      "grid_template_areas": null,
      "grid_template_columns": null,
      "grid_template_rows": null,
      "height": null,
      "justify_content": null,
      "justify_items": null,
      "left": null,
      "margin": null,
      "max_height": null,
      "max_width": null,
      "min_height": null,
      "min_width": null,
      "object_fit": null,
      "object_position": null,
      "order": null,
      "overflow": null,
      "overflow_x": null,
      "overflow_y": null,
      "padding": null,
      "right": null,
      "top": null,
      "visibility": null,
      "width": null
     }
    },
    "908b31e97e634aa8b82c094c1c793474": {
     "model_module": "@jupyter-widgets/base",
     "model_name": "LayoutModel",
     "state": {
      "_model_module": "@jupyter-widgets/base",
      "_model_module_version": "1.2.0",
      "_model_name": "LayoutModel",
      "_view_count": null,
      "_view_module": "@jupyter-widgets/base",
      "_view_module_version": "1.2.0",
      "_view_name": "LayoutView",
      "align_content": null,
      "align_items": null,
      "align_self": null,
      "border": null,
      "bottom": null,
      "display": null,
      "flex": null,
      "flex_flow": null,
      "grid_area": null,
      "grid_auto_columns": null,
      "grid_auto_flow": null,
      "grid_auto_rows": null,
      "grid_column": null,
      "grid_gap": null,
      "grid_row": null,
      "grid_template_areas": null,
      "grid_template_columns": null,
      "grid_template_rows": null,
      "height": null,
      "justify_content": null,
      "justify_items": null,
      "left": null,
      "margin": null,
      "max_height": null,
      "max_width": null,
      "min_height": null,
      "min_width": null,
      "object_fit": null,
      "object_position": null,
      "order": null,
      "overflow": null,
      "overflow_x": null,
      "overflow_y": null,
      "padding": null,
      "right": null,
      "top": null,
      "visibility": null,
      "width": null
     }
    },
    "91c683673d4f49fd8ce8a552d7c355b3": {
     "model_module": "@jupyter-widgets/controls",
     "model_name": "DescriptionStyleModel",
     "state": {
      "_model_module": "@jupyter-widgets/controls",
      "_model_module_version": "1.5.0",
      "_model_name": "DescriptionStyleModel",
      "_view_count": null,
      "_view_module": "@jupyter-widgets/base",
      "_view_module_version": "1.2.0",
      "_view_name": "StyleView",
      "description_width": ""
     }
    },
    "9578622a58324e049f03d4006d56c755": {
     "model_module": "@jupyter-widgets/controls",
     "model_name": "ProgressStyleModel",
     "state": {
      "_model_module": "@jupyter-widgets/controls",
      "_model_module_version": "1.5.0",
      "_model_name": "ProgressStyleModel",
      "_view_count": null,
      "_view_module": "@jupyter-widgets/base",
      "_view_module_version": "1.2.0",
      "_view_name": "StyleView",
      "bar_color": null,
      "description_width": "initial"
     }
    },
    "a54b1307a11f4778a53a8cf7fdbb848d": {
     "model_module": "@jupyter-widgets/controls",
     "model_name": "HBoxModel",
     "state": {
      "_dom_classes": [],
      "_model_module": "@jupyter-widgets/controls",
      "_model_module_version": "1.5.0",
      "_model_name": "HBoxModel",
      "_view_count": null,
      "_view_module": "@jupyter-widgets/controls",
      "_view_module_version": "1.5.0",
      "_view_name": "HBoxView",
      "box_style": "",
      "children": [
       "IPY_MODEL_0bea5bf3a25c4783897d0200dc63ee60",
       "IPY_MODEL_8fbfe98ad4904c7b99d02d919473129a"
      ],
      "layout": "IPY_MODEL_5ea1a323e059411d8229bb0edcfc3a53"
     }
    },
    "a5bb7b70e1b9492e86f1db55e1dce1e3": {
     "model_module": "@jupyter-widgets/base",
     "model_name": "LayoutModel",
     "state": {
      "_model_module": "@jupyter-widgets/base",
      "_model_module_version": "1.2.0",
      "_model_name": "LayoutModel",
      "_view_count": null,
      "_view_module": "@jupyter-widgets/base",
      "_view_module_version": "1.2.0",
      "_view_name": "LayoutView",
      "align_content": null,
      "align_items": null,
      "align_self": null,
      "border": null,
      "bottom": null,
      "display": null,
      "flex": null,
      "flex_flow": null,
      "grid_area": null,
      "grid_auto_columns": null,
      "grid_auto_flow": null,
      "grid_auto_rows": null,
      "grid_column": null,
      "grid_gap": null,
      "grid_row": null,
      "grid_template_areas": null,
      "grid_template_columns": null,
      "grid_template_rows": null,
      "height": null,
      "justify_content": null,
      "justify_items": null,
      "left": null,
      "margin": null,
      "max_height": null,
      "max_width": null,
      "min_height": null,
      "min_width": null,
      "object_fit": null,
      "object_position": null,
      "order": null,
      "overflow": null,
      "overflow_x": null,
      "overflow_y": null,
      "padding": null,
      "right": null,
      "top": null,
      "visibility": null,
      "width": null
     }
    },
    "a94357c5744046ccae0d950c091db0ba": {
     "model_module": "@jupyter-widgets/base",
     "model_name": "LayoutModel",
     "state": {
      "_model_module": "@jupyter-widgets/base",
      "_model_module_version": "1.2.0",
      "_model_name": "LayoutModel",
      "_view_count": null,
      "_view_module": "@jupyter-widgets/base",
      "_view_module_version": "1.2.0",
      "_view_name": "LayoutView",
      "align_content": null,
      "align_items": null,
      "align_self": null,
      "border": null,
      "bottom": null,
      "display": null,
      "flex": null,
      "flex_flow": null,
      "grid_area": null,
      "grid_auto_columns": null,
      "grid_auto_flow": null,
      "grid_auto_rows": null,
      "grid_column": null,
      "grid_gap": null,
      "grid_row": null,
      "grid_template_areas": null,
      "grid_template_columns": null,
      "grid_template_rows": null,
      "height": null,
      "justify_content": null,
      "justify_items": null,
      "left": null,
      "margin": null,
      "max_height": null,
      "max_width": null,
      "min_height": null,
      "min_width": null,
      "object_fit": null,
      "object_position": null,
      "order": null,
      "overflow": null,
      "overflow_x": null,
      "overflow_y": null,
      "padding": null,
      "right": null,
      "top": null,
      "visibility": null,
      "width": null
     }
    },
    "aee120cb5a794d2ebfe7d9d9897ac11d": {
     "model_module": "@jupyter-widgets/controls",
     "model_name": "HBoxModel",
     "state": {
      "_dom_classes": [],
      "_model_module": "@jupyter-widgets/controls",
      "_model_module_version": "1.5.0",
      "_model_name": "HBoxModel",
      "_view_count": null,
      "_view_module": "@jupyter-widgets/controls",
      "_view_module_version": "1.5.0",
      "_view_name": "HBoxView",
      "box_style": "",
      "children": [
       "IPY_MODEL_35df074cc07243568079376ea4936994",
       "IPY_MODEL_173aed36fe794ca3959640eac0f9c84b"
      ],
      "layout": "IPY_MODEL_47f81e7fe22f400eb0acfe27a78fcf85"
     }
    },
    "b27606018c394ad9bfd6eece644bf83f": {
     "model_module": "@jupyter-widgets/controls",
     "model_name": "ProgressStyleModel",
     "state": {
      "_model_module": "@jupyter-widgets/controls",
      "_model_module_version": "1.5.0",
      "_model_name": "ProgressStyleModel",
      "_view_count": null,
      "_view_module": "@jupyter-widgets/base",
      "_view_module_version": "1.2.0",
      "_view_name": "StyleView",
      "bar_color": null,
      "description_width": "initial"
     }
    },
    "b4e517e3506c4145b042eb8a008ce1e6": {
     "model_module": "@jupyter-widgets/controls",
     "model_name": "HBoxModel",
     "state": {
      "_dom_classes": [],
      "_model_module": "@jupyter-widgets/controls",
      "_model_module_version": "1.5.0",
      "_model_name": "HBoxModel",
      "_view_count": null,
      "_view_module": "@jupyter-widgets/controls",
      "_view_module_version": "1.5.0",
      "_view_name": "HBoxView",
      "box_style": "",
      "children": [
       "IPY_MODEL_dd2b6c94b06c406d8071e04e84622aed",
       "IPY_MODEL_cdcffbbd0049444bbe2d7b5a0234a4d4"
      ],
      "layout": "IPY_MODEL_90149f3329b34eb3a1a2fec4ad5f9299"
     }
    },
    "b9417329ff6a4c07baf47592819814e0": {
     "model_module": "@jupyter-widgets/controls",
     "model_name": "ProgressStyleModel",
     "state": {
      "_model_module": "@jupyter-widgets/controls",
      "_model_module_version": "1.5.0",
      "_model_name": "ProgressStyleModel",
      "_view_count": null,
      "_view_module": "@jupyter-widgets/base",
      "_view_module_version": "1.2.0",
      "_view_name": "StyleView",
      "bar_color": null,
      "description_width": "initial"
     }
    },
    "bf50bd7a3e4948279fbcf431466e89b7": {
     "model_module": "@jupyter-widgets/base",
     "model_name": "LayoutModel",
     "state": {
      "_model_module": "@jupyter-widgets/base",
      "_model_module_version": "1.2.0",
      "_model_name": "LayoutModel",
      "_view_count": null,
      "_view_module": "@jupyter-widgets/base",
      "_view_module_version": "1.2.0",
      "_view_name": "LayoutView",
      "align_content": null,
      "align_items": null,
      "align_self": null,
      "border": null,
      "bottom": null,
      "display": null,
      "flex": null,
      "flex_flow": null,
      "grid_area": null,
      "grid_auto_columns": null,
      "grid_auto_flow": null,
      "grid_auto_rows": null,
      "grid_column": null,
      "grid_gap": null,
      "grid_row": null,
      "grid_template_areas": null,
      "grid_template_columns": null,
      "grid_template_rows": null,
      "height": null,
      "justify_content": null,
      "justify_items": null,
      "left": null,
      "margin": null,
      "max_height": null,
      "max_width": null,
      "min_height": null,
      "min_width": null,
      "object_fit": null,
      "object_position": null,
      "order": null,
      "overflow": null,
      "overflow_x": null,
      "overflow_y": null,
      "padding": null,
      "right": null,
      "top": null,
      "visibility": null,
      "width": null
     }
    },
    "c23802a4271141d9ac8a71d72c5d70d8": {
     "model_module": "@jupyter-widgets/controls",
     "model_name": "ProgressStyleModel",
     "state": {
      "_model_module": "@jupyter-widgets/controls",
      "_model_module_version": "1.5.0",
      "_model_name": "ProgressStyleModel",
      "_view_count": null,
      "_view_module": "@jupyter-widgets/base",
      "_view_module_version": "1.2.0",
      "_view_name": "StyleView",
      "bar_color": null,
      "description_width": "initial"
     }
    },
    "ca221bacd2a44a619074c4f57485f567": {
     "model_module": "@jupyter-widgets/controls",
     "model_name": "HBoxModel",
     "state": {
      "_dom_classes": [],
      "_model_module": "@jupyter-widgets/controls",
      "_model_module_version": "1.5.0",
      "_model_name": "HBoxModel",
      "_view_count": null,
      "_view_module": "@jupyter-widgets/controls",
      "_view_module_version": "1.5.0",
      "_view_name": "HBoxView",
      "box_style": "",
      "children": [
       "IPY_MODEL_cd0d186656204816bd948e8647c083e5",
       "IPY_MODEL_71d1474a0d3349b5b8e3132354e5a787"
      ],
      "layout": "IPY_MODEL_5e0386f4bbab48d494fe78ad7d4ee04a"
     }
    },
    "cccb72d270ee441dad54e1ae4d5ef9c7": {
     "model_module": "@jupyter-widgets/base",
     "model_name": "LayoutModel",
     "state": {
      "_model_module": "@jupyter-widgets/base",
      "_model_module_version": "1.2.0",
      "_model_name": "LayoutModel",
      "_view_count": null,
      "_view_module": "@jupyter-widgets/base",
      "_view_module_version": "1.2.0",
      "_view_name": "LayoutView",
      "align_content": null,
      "align_items": null,
      "align_self": null,
      "border": null,
      "bottom": null,
      "display": null,
      "flex": null,
      "flex_flow": null,
      "grid_area": null,
      "grid_auto_columns": null,
      "grid_auto_flow": null,
      "grid_auto_rows": null,
      "grid_column": null,
      "grid_gap": null,
      "grid_row": null,
      "grid_template_areas": null,
      "grid_template_columns": null,
      "grid_template_rows": null,
      "height": null,
      "justify_content": null,
      "justify_items": null,
      "left": null,
      "margin": null,
      "max_height": null,
      "max_width": null,
      "min_height": null,
      "min_width": null,
      "object_fit": null,
      "object_position": null,
      "order": null,
      "overflow": null,
      "overflow_x": null,
      "overflow_y": null,
      "padding": null,
      "right": null,
      "top": null,
      "visibility": null,
      "width": null
     }
    },
    "cd0d186656204816bd948e8647c083e5": {
     "model_module": "@jupyter-widgets/controls",
     "model_name": "FloatProgressModel",
     "state": {
      "_dom_classes": [],
      "_model_module": "@jupyter-widgets/controls",
      "_model_module_version": "1.5.0",
      "_model_name": "FloatProgressModel",
      "_view_count": null,
      "_view_module": "@jupyter-widgets/controls",
      "_view_module_version": "1.5.0",
      "_view_name": "ProgressView",
      "bar_style": "success",
      "description": "Dl Size...: 100%",
      "description_tooltip": null,
      "layout": "IPY_MODEL_69f7442f87c94e3eb14d3f8e2b246b05",
      "max": 1,
      "min": 0,
      "orientation": "horizontal",
      "style": "IPY_MODEL_6d3377a99cd04419b2edaf9adbc681e3",
      "value": 1
     }
    },
    "cdcffbbd0049444bbe2d7b5a0234a4d4": {
     "model_module": "@jupyter-widgets/controls",
     "model_name": "HTMLModel",
     "state": {
      "_dom_classes": [],
      "_model_module": "@jupyter-widgets/controls",
      "_model_module_version": "1.5.0",
      "_model_name": "HTMLModel",
      "_view_count": null,
      "_view_module": "@jupyter-widgets/controls",
      "_view_module_version": "1.5.0",
      "_view_name": "HTMLView",
      "description": "",
      "description_tooltip": null,
      "layout": "IPY_MODEL_bf50bd7a3e4948279fbcf431466e89b7",
      "placeholder": "​",
      "style": "IPY_MODEL_75a19b55c65243e590df64895b2ecced",
      "value": " 6/6 [00:18&lt;00:00,  3.07s/ url]"
     }
    },
    "cfc545a3c8fa4115a7eb574e6d5b9459": {
     "model_module": "@jupyter-widgets/base",
     "model_name": "LayoutModel",
     "state": {
      "_model_module": "@jupyter-widgets/base",
      "_model_module_version": "1.2.0",
      "_model_name": "LayoutModel",
      "_view_count": null,
      "_view_module": "@jupyter-widgets/base",
      "_view_module_version": "1.2.0",
      "_view_name": "LayoutView",
      "align_content": null,
      "align_items": null,
      "align_self": null,
      "border": null,
      "bottom": null,
      "display": null,
      "flex": null,
      "flex_flow": null,
      "grid_area": null,
      "grid_auto_columns": null,
      "grid_auto_flow": null,
      "grid_auto_rows": null,
      "grid_column": null,
      "grid_gap": null,
      "grid_row": null,
      "grid_template_areas": null,
      "grid_template_columns": null,
      "grid_template_rows": null,
      "height": null,
      "justify_content": null,
      "justify_items": null,
      "left": null,
      "margin": null,
      "max_height": null,
      "max_width": null,
      "min_height": null,
      "min_width": null,
      "object_fit": null,
      "object_position": null,
      "order": null,
      "overflow": null,
      "overflow_x": null,
      "overflow_y": null,
      "padding": null,
      "right": null,
      "top": null,
      "visibility": null,
      "width": null
     }
    },
    "d95ecf4c67ad4b5994bbe2576e0083bf": {
     "model_module": "@jupyter-widgets/controls",
     "model_name": "HBoxModel",
     "state": {
      "_dom_classes": [],
      "_model_module": "@jupyter-widgets/controls",
      "_model_module_version": "1.5.0",
      "_model_name": "HBoxModel",
      "_view_count": null,
      "_view_module": "@jupyter-widgets/controls",
      "_view_module_version": "1.5.0",
      "_view_name": "HBoxView",
      "box_style": "",
      "children": [
       "IPY_MODEL_52dc356938234605ba70102aec4cea6f",
       "IPY_MODEL_1b44641795824795b3fd1cb53d98039b"
      ],
      "layout": "IPY_MODEL_f2a6da98a2c84c31aa33cfb2cf13cd85"
     }
    },
    "dd2b6c94b06c406d8071e04e84622aed": {
     "model_module": "@jupyter-widgets/controls",
     "model_name": "FloatProgressModel",
     "state": {
      "_dom_classes": [],
      "_model_module": "@jupyter-widgets/controls",
      "_model_module_version": "1.5.0",
      "_model_name": "FloatProgressModel",
      "_view_count": null,
      "_view_module": "@jupyter-widgets/controls",
      "_view_module_version": "1.5.0",
      "_view_name": "ProgressView",
      "bar_style": "success",
      "description": "Dl Completed...: 100%",
      "description_tooltip": null,
      "layout": "IPY_MODEL_cfc545a3c8fa4115a7eb574e6d5b9459",
      "max": 1,
      "min": 0,
      "orientation": "horizontal",
      "style": "IPY_MODEL_5258bab4b4bc4d96899af57a9cefefce",
      "value": 1
     }
    },
    "deb3ee50e0004a359e18324e57fbf390": {
     "model_module": "@jupyter-widgets/base",
     "model_name": "LayoutModel",
     "state": {
      "_model_module": "@jupyter-widgets/base",
      "_model_module_version": "1.2.0",
      "_model_name": "LayoutModel",
      "_view_count": null,
      "_view_module": "@jupyter-widgets/base",
      "_view_module_version": "1.2.0",
      "_view_name": "LayoutView",
      "align_content": null,
      "align_items": null,
      "align_self": null,
      "border": null,
      "bottom": null,
      "display": null,
      "flex": null,
      "flex_flow": null,
      "grid_area": null,
      "grid_auto_columns": null,
      "grid_auto_flow": null,
      "grid_auto_rows": null,
      "grid_column": null,
      "grid_gap": null,
      "grid_row": null,
      "grid_template_areas": null,
      "grid_template_columns": null,
      "grid_template_rows": null,
      "height": null,
      "justify_content": null,
      "justify_items": null,
      "left": null,
      "margin": null,
      "max_height": null,
      "max_width": null,
      "min_height": null,
      "min_width": null,
      "object_fit": null,
      "object_position": null,
      "order": null,
      "overflow": null,
      "overflow_x": null,
      "overflow_y": null,
      "padding": null,
      "right": null,
      "top": null,
      "visibility": null,
      "width": null
     }
    },
    "eebf52195ef44492b7ee97bd41991986": {
     "model_module": "@jupyter-widgets/base",
     "model_name": "LayoutModel",
     "state": {
      "_model_module": "@jupyter-widgets/base",
      "_model_module_version": "1.2.0",
      "_model_name": "LayoutModel",
      "_view_count": null,
      "_view_module": "@jupyter-widgets/base",
      "_view_module_version": "1.2.0",
      "_view_name": "LayoutView",
      "align_content": null,
      "align_items": null,
      "align_self": null,
      "border": null,
      "bottom": null,
      "display": null,
      "flex": null,
      "flex_flow": null,
      "grid_area": null,
      "grid_auto_columns": null,
      "grid_auto_flow": null,
      "grid_auto_rows": null,
      "grid_column": null,
      "grid_gap": null,
      "grid_row": null,
      "grid_template_areas": null,
      "grid_template_columns": null,
      "grid_template_rows": null,
      "height": null,
      "justify_content": null,
      "justify_items": null,
      "left": null,
      "margin": null,
      "max_height": null,
      "max_width": null,
      "min_height": null,
      "min_width": null,
      "object_fit": null,
      "object_position": null,
      "order": null,
      "overflow": null,
      "overflow_x": null,
      "overflow_y": null,
      "padding": null,
      "right": null,
      "top": null,
      "visibility": null,
      "width": null
     }
    },
    "efab8ab15b1949beb5a6f7f298d8d20d": {
     "model_module": "@jupyter-widgets/base",
     "model_name": "LayoutModel",
     "state": {
      "_model_module": "@jupyter-widgets/base",
      "_model_module_version": "1.2.0",
      "_model_name": "LayoutModel",
      "_view_count": null,
      "_view_module": "@jupyter-widgets/base",
      "_view_module_version": "1.2.0",
      "_view_name": "LayoutView",
      "align_content": null,
      "align_items": null,
      "align_self": null,
      "border": null,
      "bottom": null,
      "display": null,
      "flex": null,
      "flex_flow": null,
      "grid_area": null,
      "grid_auto_columns": null,
      "grid_auto_flow": null,
      "grid_auto_rows": null,
      "grid_column": null,
      "grid_gap": null,
      "grid_row": null,
      "grid_template_areas": null,
      "grid_template_columns": null,
      "grid_template_rows": null,
      "height": null,
      "justify_content": null,
      "justify_items": null,
      "left": null,
      "margin": null,
      "max_height": null,
      "max_width": null,
      "min_height": null,
      "min_width": null,
      "object_fit": null,
      "object_position": null,
      "order": null,
      "overflow": null,
      "overflow_x": null,
      "overflow_y": null,
      "padding": null,
      "right": null,
      "top": null,
      "visibility": null,
      "width": null
     }
    },
    "f2a6da98a2c84c31aa33cfb2cf13cd85": {
     "model_module": "@jupyter-widgets/base",
     "model_name": "LayoutModel",
     "state": {
      "_model_module": "@jupyter-widgets/base",
      "_model_module_version": "1.2.0",
      "_model_name": "LayoutModel",
      "_view_count": null,
      "_view_module": "@jupyter-widgets/base",
      "_view_module_version": "1.2.0",
      "_view_name": "LayoutView",
      "align_content": null,
      "align_items": null,
      "align_self": null,
      "border": null,
      "bottom": null,
      "display": null,
      "flex": null,
      "flex_flow": null,
      "grid_area": null,
      "grid_auto_columns": null,
      "grid_auto_flow": null,
      "grid_auto_rows": null,
      "grid_column": null,
      "grid_gap": null,
      "grid_row": null,
      "grid_template_areas": null,
      "grid_template_columns": null,
      "grid_template_rows": null,
      "height": null,
      "justify_content": null,
      "justify_items": null,
      "left": null,
      "margin": null,
      "max_height": null,
      "max_width": null,
      "min_height": null,
      "min_width": null,
      "object_fit": null,
      "object_position": null,
      "order": null,
      "overflow": null,
      "overflow_x": null,
      "overflow_y": null,
      "padding": null,
      "right": null,
      "top": null,
      "visibility": null,
      "width": null
     }
    },
    "f5496ee1fba9489ea41918d6e1f254c6": {
     "model_module": "@jupyter-widgets/controls",
     "model_name": "HBoxModel",
     "state": {
      "_dom_classes": [],
      "_model_module": "@jupyter-widgets/controls",
      "_model_module_version": "1.5.0",
      "_model_name": "HBoxModel",
      "_view_count": null,
      "_view_module": "@jupyter-widgets/controls",
      "_view_module_version": "1.5.0",
      "_view_name": "HBoxView",
      "box_style": "",
      "children": [
       "IPY_MODEL_5ca873033a974470893ba86af4eee215",
       "IPY_MODEL_25b4f8c5e67549f685efadcdc21fe906"
      ],
      "layout": "IPY_MODEL_4f0330a770264aeb9c9e17a0bcfa4f8a"
     }
    }
   }
  }
 },
 "nbformat": 4,
 "nbformat_minor": 1
}
