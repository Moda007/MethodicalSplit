{
 "cells": [
  {
   "cell_type": "markdown",
   "metadata": {
    "id": "eC-Vn7LDUeCk"
   },
   "source": [
    "#Clone the repo"
   ]
  },
  {
   "cell_type": "code",
   "execution_count": null,
   "metadata": {
    "colab": {
     "base_uri": "https://localhost:8080/"
    },
    "executionInfo": {
     "elapsed": 1922,
     "status": "ok",
     "timestamp": 1605646197925,
     "user": {
      "displayName": "Thesis Modafar",
      "photoUrl": "",
      "userId": "04085889877448088796"
     },
     "user_tz": -60
    },
    "id": "q8syRlXZUf_o",
    "outputId": "933f45dc-76c2-4869-fdbe-ab492db3ca7d",
    "scrolled": true
   },
   "outputs": [],
   "source": [
    "!git clone https://github.com/Moda007/MethodicalSplit.git"
   ]
  },
  {
   "cell_type": "code",
   "execution_count": null,
   "metadata": {
    "executionInfo": {
     "elapsed": 7468,
     "status": "ok",
     "timestamp": 1605646203477,
     "user": {
      "displayName": "Thesis Modafar",
      "photoUrl": "",
      "userId": "04085889877448088796"
     },
     "user_tz": -60
    },
    "id": "m6RA55ybUkCH"
   },
   "outputs": [],
   "source": [
    "from MethodicalSplit import Functions as Fn\n",
    "from MethodicalSplit.ExpModel import ExpModel"
   ]
  },
  {
   "cell_type": "markdown",
   "metadata": {
    "id": "8Snsq7kuUw8m"
   },
   "source": [
    "#Define experiment details"
   ]
  },
  {
   "cell_type": "code",
   "execution_count": null,
   "metadata": {
    "colab": {
     "base_uri": "https://localhost:8080/"
    },
    "executionInfo": {
     "elapsed": 20867,
     "status": "ok",
     "timestamp": 1605646221353,
     "user": {
      "displayName": "Thesis Modafar",
      "photoUrl": "",
      "userId": "04085889877448088796"
     },
     "user_tz": -60
    },
    "id": "tIetyqWxUz27",
    "outputId": "f9775fe7-05f7-4565-d1b5-63d52ea363e5"
   },
   "outputs": [],
   "source": [
    "DataSet, ModelName, group_idx, exp_idx, Avg, Sub, Rare, stratify, train = Fn.expDetails(Fn.all_exp)"
   ]
  },
  {
   "cell_type": "markdown",
   "metadata": {
    "id": "8R5MmBJ4OWEZ"
   },
   "source": [
    "#Colab"
   ]
  },
  {
   "cell_type": "markdown",
   "metadata": {
    "id": "q5a_NWs0tl69"
   },
   "source": [
    "##Ignore Warnings"
   ]
  },
  {
   "cell_type": "code",
   "execution_count": null,
   "metadata": {
    "executionInfo": {
     "elapsed": 1728,
     "status": "ok",
     "timestamp": 1605646227246,
     "user": {
      "displayName": "Thesis Modafar",
      "photoUrl": "",
      "userId": "04085889877448088796"
     },
     "user_tz": -60
    },
    "id": "D8HRA1sEseKY"
   },
   "outputs": [],
   "source": [
    "import warnings\n",
    "warnings.filterwarnings('ignore')"
   ]
  },
  {
   "cell_type": "markdown",
   "metadata": {
    "id": "ZCPkvD-LtpQ1"
   },
   "source": [
    "##Mount Drive"
   ]
  },
  {
   "cell_type": "code",
   "execution_count": null,
   "metadata": {
    "colab": {
     "base_uri": "https://localhost:8080/"
    },
    "executionInfo": {
     "elapsed": 23605,
     "status": "ok",
     "timestamp": 1605646249519,
     "user": {
      "displayName": "Thesis Modafar",
      "photoUrl": "",
      "userId": "04085889877448088796"
     },
     "user_tz": -60
    },
    "id": "nc9LE3cAStjB",
    "outputId": "fb8c694d-1605-464e-bb45-5feb4f4c3fa0"
   },
   "outputs": [],
   "source": [
    "from google.colab import drive\n",
    "drive.mount('/content/drive')"
   ]
  },
  {
   "cell_type": "markdown",
   "metadata": {
    "id": "CsZngWFkkSPv"
   },
   "source": [
    "#Importing Packages and Libraries"
   ]
  },
  {
   "cell_type": "code",
   "execution_count": null,
   "metadata": {
    "colab": {
     "base_uri": "https://localhost:8080/"
    },
    "executionInfo": {
     "elapsed": 57796,
     "status": "ok",
     "timestamp": 1605646306435,
     "user": {
      "displayName": "Thesis Modafar",
      "photoUrl": "",
      "userId": "04085889877448088796"
     },
     "user_tz": -60
    },
    "id": "8jRrVAmpcCqJ",
    "outputId": "428e9b92-1af9-421b-b480-9de1a0e98333"
   },
   "outputs": [],
   "source": [
    "!pip install hdbscan"
   ]
  },
  {
   "cell_type": "code",
   "execution_count": null,
   "metadata": {
    "executionInfo": {
     "elapsed": 55205,
     "status": "ok",
     "timestamp": 1605646306437,
     "user": {
      "displayName": "Thesis Modafar",
      "photoUrl": "",
      "userId": "04085889877448088796"
     },
     "user_tz": -60
    },
    "id": "nZHqCupPl7E-"
   },
   "outputs": [],
   "source": [
    "import numpy as np\n",
    "import matplotlib.pyplot as plt\n",
    "import seaborn as sns\n",
    "import tensorflow as tf\n",
    "\n",
    "import umap\n",
    "import hdbscan\n",
    "import sklearn.cluster as cluster\n",
    "from sklearn.metrics import adjusted_rand_score, adjusted_mutual_info_score"
   ]
  },
  {
   "cell_type": "markdown",
   "metadata": {
    "id": "G4ejsZkTlsaC"
   },
   "source": [
    "#Dataset"
   ]
  },
  {
   "cell_type": "markdown",
   "metadata": {
    "id": "tY7yX9KHmYpx"
   },
   "source": [
    "##Importing Dataset"
   ]
  },
  {
   "cell_type": "code",
   "execution_count": null,
   "metadata": {
    "colab": {
     "base_uri": "https://localhost:8080/"
    },
    "executionInfo": {
     "elapsed": 1976,
     "status": "ok",
     "timestamp": 1605646308434,
     "user": {
      "displayName": "Thesis Modafar",
      "photoUrl": "",
      "userId": "04085889877448088796"
     },
     "user_tz": -60
    },
    "id": "PkdXdi9HmL-H",
    "outputId": "08ba8cb6-e452-46c9-b4c3-2984583b09ee"
   },
   "outputs": [],
   "source": [
    "from keras.datasets import mnist\n",
    "(x_train, y_train), (x_test, y_test) = mnist.load_data()"
   ]
  },
  {
   "cell_type": "code",
   "execution_count": null,
   "metadata": {
    "colab": {
     "base_uri": "https://localhost:8080/"
    },
    "executionInfo": {
     "elapsed": 1971,
     "status": "ok",
     "timestamp": 1605646308435,
     "user": {
      "displayName": "Thesis Modafar",
      "photoUrl": "",
      "userId": "04085889877448088796"
     },
     "user_tz": -60
    },
    "id": "5b32ImdjvZ_9",
    "outputId": "03bfc177-5624-48b6-cdc9-f8b00937a1f6"
   },
   "outputs": [],
   "source": [
    "print(\"x_train shape:\", x_train.shape)\n",
    "print(\"x_test shape:\", x_test.shape)\n",
    "print(\"y_train shape:\", y_train.shape)\n",
    "print(\"y_test shape:\", y_test.shape)"
   ]
  },
  {
   "cell_type": "markdown",
   "metadata": {
    "id": "lsOf-c-emcvm"
   },
   "source": [
    "##Concatenate train and test dataset"
   ]
  },
  {
   "cell_type": "code",
   "execution_count": null,
   "metadata": {
    "colab": {
     "base_uri": "https://localhost:8080/"
    },
    "executionInfo": {
     "elapsed": 1967,
     "status": "ok",
     "timestamp": 1605646308436,
     "user": {
      "displayName": "Thesis Modafar",
      "photoUrl": "",
      "userId": "04085889877448088796"
     },
     "user_tz": -60
    },
    "id": "xrUmC6YgjyBw",
    "outputId": "ca429cae-cd17-4eaa-8efe-6394d2fdc687"
   },
   "outputs": [],
   "source": [
    "x_data = np.concatenate([x_train, x_test], axis=0)\n",
    "y_data = np.concatenate([y_train, y_test], axis=0)\n",
    "print(\"x_data shape:\", x_data.shape)\n",
    "print(\"y_data shape:\", y_data.shape)"
   ]
  },
  {
   "cell_type": "markdown",
   "metadata": {
    "id": "4FXQx0pzA3J-"
   },
   "source": [
    "##Split test data (holdout)"
   ]
  },
  {
   "cell_type": "code",
   "execution_count": null,
   "metadata": {
    "colab": {
     "base_uri": "https://localhost:8080/"
    },
    "executionInfo": {
     "elapsed": 2947,
     "status": "ok",
     "timestamp": 1605646309421,
     "user": {
      "displayName": "Thesis Modafar",
      "photoUrl": "",
      "userId": "04085889877448088796"
     },
     "user_tz": -60
    },
    "id": "bdmANJFNA_c8",
    "outputId": "c2d8982f-0687-4d1c-cd24-9a28c7087604"
   },
   "outputs": [],
   "source": [
    "from sklearn.model_selection import train_test_split\n",
    "\n",
    "x_data, x_test, y_data, y_test = train_test_split(x_data, y_data, train_size= 0.9, test_size= 0.1)\n",
    "\n",
    "print(\"x_data shape:\", x_data.shape)\n",
    "print(\"x_test shape:\", x_test.shape)\n",
    "print(\"y_data shape:\", y_data.shape)\n",
    "print(\"y_test shape:\", y_test.shape)"
   ]
  },
  {
   "cell_type": "markdown",
   "metadata": {
    "id": "wuftUZ_zmmbq"
   },
   "source": [
    "##Flatten dataset"
   ]
  },
  {
   "cell_type": "code",
   "execution_count": null,
   "metadata": {
    "colab": {
     "base_uri": "https://localhost:8080/"
    },
    "executionInfo": {
     "elapsed": 2943,
     "status": "ok",
     "timestamp": 1605646309422,
     "user": {
      "displayName": "Thesis Modafar",
      "photoUrl": "",
      "userId": "04085889877448088796"
     },
     "user_tz": -60
    },
    "id": "tik1wkfKmPt-",
    "outputId": "ea1fe914-098e-427c-af1c-12b0a795f5dd"
   },
   "outputs": [],
   "source": [
    "flatten_x = x_data.reshape((x_data.shape[0], -1))\n",
    "print(\"flatten_x shape:\", flatten_x.shape)\n",
    "x_test = x_test.reshape((x_test.shape[0], -1))\n",
    "print(\"x_test shape:\", x_test.shape)"
   ]
  },
  {
   "cell_type": "markdown",
   "metadata": {
    "id": "yaSdl7Fkm6wR"
   },
   "source": [
    "#Model (Loop)"
   ]
  },
  {
   "cell_type": "markdown",
   "metadata": {
    "id": "Yzhq8e73HcxL"
   },
   "source": [
    "##>>> Experiment"
   ]
  },
  {
   "cell_type": "code",
   "execution_count": null,
   "metadata": {
    "executionInfo": {
     "elapsed": 2941,
     "status": "ok",
     "timestamp": 1605646309423,
     "user": {
      "displayName": "Thesis Modafar",
      "photoUrl": "",
      "userId": "04085889877448088796"
     },
     "user_tz": -60
    },
    "id": "xAOfmVErptoo"
   },
   "outputs": [],
   "source": [
    "looped = True\n",
    "if looped:\n",
    "  looped = 'looped_'\n",
    "else:\n",
    "  looped = ''\n",
    "\n",
    "ds_path = '/content/drive/My Drive/Thesis Notebooks/' + DataSet + '/'\n",
    "exp_path = ds_path + ModelName + '/Group_' + group_idx + '/Exp' + exp_idx + '/'"
   ]
  },
  {
   "cell_type": "code",
   "execution_count": null,
   "metadata": {
    "executionInfo": {
     "elapsed": 2940,
     "status": "ok",
     "timestamp": 1605646309424,
     "user": {
      "displayName": "Thesis Modafar",
      "photoUrl": "",
      "userId": "04085889877448088796"
     },
     "user_tz": -60
    },
    "id": "XwuyC_I0sWdN"
   },
   "outputs": [],
   "source": [
    "def plotResults(DataSet, ModelName, group_idx, exp_idx, history, loop_no=''):\n",
    "  # plot the loss and accuracy\n",
    "  global exp_path\n",
    "\n",
    "  loop_no = str(loop_no)\n",
    "  plot_path = exp_path + 'plot'\n",
    "\n",
    "  acc = history.history['acc']\n",
    "  val_acc = history.history['val_acc']\n",
    "  loss = history.history['loss']\n",
    "  val_loss = history.history['val_loss']\n",
    "  epochs = range(1, len(acc) + 1)\n",
    "\n",
    "  plt.title('Training and validation accuracy')\n",
    "  plt.plot(epochs, acc, 'red', label='Training acc')\n",
    "  plt.plot(epochs, val_acc, 'blue', label='Validation acc')\n",
    "  plt.legend()\n",
    "\n",
    "  plt.savefig(f'{plot_path}/{loop_no}TrainValidAcc.jpg')\n",
    "\n",
    "  plt.figure()\n",
    "  plt.title('Training and validation loss')\n",
    "  plt.plot(epochs, loss, 'red', label='Training loss')\n",
    "  plt.plot(epochs, val_loss, 'blue', label='Validation loss')\n",
    "  plt.legend()\n",
    "  plt.savefig(f'{plot_path}/{loop_no}TrainValidAcc&Loss.jpg')\n",
    "\n",
    "  plt.show()"
   ]
  },
  {
   "cell_type": "markdown",
   "metadata": {
    "id": "-kjmGObDRuBf"
   },
   "source": [
    "#Looped Experiment"
   ]
  },
  {
   "cell_type": "code",
   "execution_count": null,
   "metadata": {
    "colab": {
     "base_uri": "https://localhost:8080/",
     "height": 1000
    },
    "executionInfo": {
     "elapsed": 4086818,
     "status": "ok",
     "timestamp": 1605651455498,
     "user": {
      "displayName": "Thesis Modafar",
      "photoUrl": "",
      "userId": "04085889877448088796"
     },
     "user_tz": -60
    },
    "id": "EGLKgCtwRy2j",
    "outputId": "f6343052-ff58-4aea-e51b-a1f82258e46a"
   },
   "outputs": [],
   "source": [
    "#Define All Results array\n",
    "All_results = []\n",
    "\n",
    "for idx in range(5):\n",
    "  \n",
    "  global exp_path\n",
    "  plot_path = exp_path +  'plot'\n",
    "  print('*****************************')\n",
    "  print(f'Experiment {str(idx)} starts')\n",
    "  print('*****************************')\n",
    "\n",
    "  #2D Embedding - UMAP\n",
    "  standard_embedding = umap.UMAP(random_state=42, n_neighbors=30, min_dist=0.0, n_components=2).fit_transform(flatten_x)\n",
    "  #Plotting with Original Labels\n",
    "  ##2D - Plotting\n",
    "  plt.scatter(standard_embedding[:, 0], standard_embedding[:, 1], c=y_data, s=0.1, cmap='Spectral')\n",
    "  plt.savefig(f'{plot_path}/{idx}2DOriginalScatter.jpg')\n",
    "  plt. clf()\n",
    "  sns.distplot(standard_embedding, kde=True, rug=True, bins=15)\n",
    "  plt.savefig(f'{plot_path}/{idx}2DOriginalhistogram.jpg')\n",
    "  plt. clf()\n",
    "\n",
    "  #Clustering - HDBSCAN\n",
    "  hdbscan_labels = hdbscan.HDBSCAN(min_samples=10, min_cluster_size=500).fit_predict(standard_embedding)\n",
    "  (adjusted_rand_score(y_data, hdbscan_labels), adjusted_mutual_info_score(y_data, hdbscan_labels))\n",
    "  no_of_clusters = Fn.clustersDet(hdbscan_labels)\n",
    "  ##Plotting with Cluster Labels\n",
    "  ### 2D - Plotting\n",
    "  plt.scatter(standard_embedding[:, 0], standard_embedding[:, 1], c=hdbscan_labels, s=0.1, cmap='Spectral')\n",
    "  plt.savefig(f'{plot_path}/{idx}2DClustersScatter.jpg')\n",
    "  plt. clf()\n",
    "  \n",
    "  #1D  Embedding per Cluster on the original Data\n",
    "  #Using UMAP =>>> random_state=42, n_neighbors=30, min_dist=0, n_components=1\n",
    "  clusters_list, labels_list, original_images_list = Fn.embedding1D(no_of_clusters, flatten_x, hdbscan_labels, y_data, False)\n",
    "  #Plotting Clusters Scatter Diagram\n",
    "  ##All Clusters\n",
    "  #Plotting scatter diagram for all clusters together\n",
    "  #define a list of colors for clusters\n",
    "  color_maps=['tab10', 'hsv', 'gist_stern', 'Accent', 'Dark2', 'Spectral', 'rainbow', 'brg', 'Pastel1', 'coolwarm']\n",
    "\n",
    "  for u in range(no_of_clusters):\n",
    "    plt.scatter(standard_embedding[hdbscan_labels==u][:, 0], standard_embedding[hdbscan_labels==u][:, 1],\\\n",
    "              c=hdbscan_labels[hdbscan_labels==u], s=0.1, cmap=color_maps[u])\n",
    "  plt.savefig(f'{plot_path}/{idx}1DClustersScatter.jpg')\n",
    "  plt. clf()\n",
    "  for u in range(no_of_clusters):\n",
    "    plt.scatter(standard_embedding[hdbscan_labels==u][:, 0], standard_embedding[hdbscan_labels==u][:, 1],\\\n",
    "              c=hdbscan_labels[hdbscan_labels==u], s=0.1, cmap=color_maps[u])\n",
    "    plt.savefig(f'{plot_path}/{idx}1DCluster{str(u)}Scatter.jpg')\n",
    "    plt. clf()\n",
    "  \n",
    "  #Data Splitting (per cluster) using Quantile\n",
    "  Region_1, Region_2, Region_3,\\\n",
    "  Region_1_labels, Region_2_labels, Region_3_labels,\\\n",
    "  Region_1_original, Region_2_original, Region_3_original = Fn.splitData(no_of_clusters, Avg, Sub, Rare, clusters_list,\\\n",
    "                                                                       labels_list, original_images_list)\n",
    "  for u in range(no_of_clusters):\n",
    "    Fn.showSplit(Region_1, Region_2, Region_3, u)\n",
    "    plt.savefig(f'{plot_path}/{idx}Cluster{str(u)}SplitHistogram.jpg')\n",
    "    plt. clf()\n",
    "    Fn.showSamples(Region_1_original[u], Region_2_original[u], Region_3_original[u], Region_1_labels[u], Region_2_labels[u], Region_3_labels[u])\n",
    "    plt.savefig(f'{plot_path}/{idx}Samples{str(u)}.jpg')\n",
    "    plt. clf()\n",
    "  ##Data Preperation\n",
    "  ###Splitting Data into 70% Train, 30% Validate\n",
    "  x_train_X, y_train_X, x_valid_X, y_valid_X, x_test_X, y_test_X = Fn.prepareData(no_of_clusters, Region_1_original,\\\n",
    "                                                                                       Region_1_labels, Region_2_original,\\\n",
    "                                                                                       Region_2_labels, Region_3_original,\\\n",
    "                                                                                       Region_3_labels, x_test, y_test, train)\n",
    "\n",
    "  print('x_train_X shape:', x_train_X.shape)\n",
    "  print('x_valid_X shape:', x_valid_X.shape)\n",
    "  print('x_test_X shape:', x_test_X.shape)\n",
    "\n",
    "  ##Train\n",
    "  thisModel = ExpModel(ModelName, DataSet, x_train_X, y_train_X, x_valid_X, y_valid_X, x_test_X, y_test_X)\n",
    "  model, history, results = thisModel.trainModel()\n",
    "\n",
    "  ##Store experiment results\n",
    "  All_results.append(results)\n",
    "\n",
    "  ##Model Saving\n",
    "  filename = str(idx) + ModelName + '_' + DataSet + '_' + group_idx + '_'+ exp_idx\n",
    "  model.save(exp_path + filename + '.h5')\n",
    "\n",
    "  # plot the loss and accuracy\n",
    "  plotResults(DataSet, ModelName, group_idx, exp_idx, history, idx)\n",
    "  \n",
    "  print('*****************************')\n",
    "  print(f'Experiment {str(idx)} ends')\n",
    "  print('*****************************')\n",
    "\n",
    "  tf.keras.backend.clear_session()"
   ]
  },
  {
   "cell_type": "markdown",
   "metadata": {
    "id": "ZdT3trA6YpBV"
   },
   "source": [
    "##Check experiments results"
   ]
  },
  {
   "cell_type": "code",
   "execution_count": null,
   "metadata": {
    "colab": {
     "base_uri": "https://localhost:8080/"
    },
    "executionInfo": {
     "elapsed": 832,
     "status": "ok",
     "timestamp": 1605651456363,
     "user": {
      "displayName": "Thesis Modafar",
      "photoUrl": "",
      "userId": "04085889877448088796"
     },
     "user_tz": -60
    },
    "id": "xRA4uAr8YtXz",
    "outputId": "e87efbb9-9733-4288-a992-0e7f09d64ef9"
   },
   "outputs": [],
   "source": [
    "if len(All_results)==5:\n",
    "  print('Results Are Complete')\n",
    "else:\n",
    "  print('Results record has issue!!!')"
   ]
  },
  {
   "cell_type": "markdown",
   "metadata": {
    "id": "Kuy8kh87RejV"
   },
   "source": [
    "##Exporting Results to Excel"
   ]
  },
  {
   "cell_type": "code",
   "execution_count": null,
   "metadata": {
    "colab": {
     "base_uri": "https://localhost:8080/"
    },
    "executionInfo": {
     "elapsed": 4391,
     "status": "ok",
     "timestamp": 1605651459931,
     "user": {
      "displayName": "Thesis Modafar",
      "photoUrl": "",
      "userId": "04085889877448088796"
     },
     "user_tz": -60
    },
    "id": "E55xG3NLR5Ir",
    "outputId": "e344d5ad-fa46-42f2-8dd6-b78b15215d63"
   },
   "outputs": [],
   "source": [
    "!pip install xlsxwriter"
   ]
  },
  {
   "cell_type": "markdown",
   "metadata": {
    "id": "2uFo4BzAWzfc"
   },
   "source": [
    "###Create Excel with columns header"
   ]
  },
  {
   "cell_type": "code",
   "execution_count": null,
   "metadata": {
    "executionInfo": {
     "elapsed": 5946,
     "status": "ok",
     "timestamp": 1605651461491,
     "user": {
      "displayName": "Thesis Modafar",
      "photoUrl": "",
      "userId": "04085889877448088796"
     },
     "user_tz": -60
    },
    "id": "1HVzxZXQSwF6"
   },
   "outputs": [],
   "source": [
    "import pandas as pd\n",
    "from openpyxl import load_workbook\n",
    "\n",
    "excel_name = ModelName + '.xlsx'\n",
    "sheet_name = group_idx + '_' + exp_idx\n",
    "filepath = ds_path + excel_name\n",
    "\n",
    "column_titles = [['Idx', 'Train Acc', 'Valid Acc', 'Train Loss', 'Valid Loss',\\\n",
    "                 'Test Acc', 'Test Precision', 'Test Recall', 'Test F-score', 'Hamming Loss']]\n",
    "df = pd.DataFrame(column_titles)"
   ]
  },
  {
   "cell_type": "code",
   "execution_count": null,
   "metadata": {
    "executionInfo": {
     "elapsed": 6500,
     "status": "ok",
     "timestamp": 1605651462050,
     "user": {
      "displayName": "Thesis Modafar",
      "photoUrl": "",
      "userId": "04085889877448088796"
     },
     "user_tz": -60
    },
    "id": "2Em1e9YkAK9F"
   },
   "outputs": [],
   "source": [
    "from pathlib import Path\n",
    "\n",
    "if not Path(filepath).exists():\n",
    "  # Create writer object with an engine xlsxwriter\n",
    "  writer = pd.ExcelWriter(filepath, engine='xlsxwriter')\n",
    "  # Write data to an excel\n",
    "  df.to_excel(writer, sheet_name=sheet_name, index=False, header=None)\n",
    "  writer.save()\n",
    "else:\n",
    "  book = load_workbook(filepath)\n",
    "  with pd.ExcelWriter(filepath, engine='openpyxl') as writer:\n",
    "    writer.book = book\n",
    "    writer.sheets = dict((ws.title, ws) for ws in book.worksheets)    \n",
    "    ##dataframe to append. \n",
    "    df.to_excel(writer, sheet_name=sheet_name, index=False, header=None)  \n",
    "    writer.save() "
   ]
  },
  {
   "cell_type": "markdown",
   "metadata": {
    "id": "M0OBSspQxCJV"
   },
   "source": [
    "###Parse this experiment results"
   ]
  },
  {
   "cell_type": "code",
   "execution_count": null,
   "metadata": {
    "executionInfo": {
     "elapsed": 8024,
     "status": "ok",
     "timestamp": 1605651463580,
     "user": {
      "displayName": "Thesis Modafar",
      "photoUrl": "",
      "userId": "04085889877448088796"
     },
     "user_tz": -60
    },
    "id": "CuWcIk1qxI0h"
   },
   "outputs": [],
   "source": [
    "for idx, result in enumerate(All_results):\n",
    "  this_result = [idx] + result['train'] + result['test']\n",
    "  this_result = np.array(this_result).reshape(1,-1)\n",
    "  this_result = pd.DataFrame(this_result)\n",
    "\n",
    "  writer = pd.ExcelWriter(filepath, engine='openpyxl')\n",
    "  # try to open an existing workbook\n",
    "  writer.book = load_workbook(filepath)\n",
    "  # copy existing sheets\n",
    "  writer.sheets = dict((ws.title, ws) for ws in writer.book.worksheets)\n",
    "  # read existing file\n",
    "  reader = pd.read_excel(filepath)\n",
    "  # write out the new sheet\n",
    "  this_result.to_excel(writer, sheet_name=sheet_name, index=False, header=False, startrow=idx+1)\n",
    "\n",
    "  writer.close()"
   ]
  },
  {
   "cell_type": "code",
   "execution_count": null,
   "metadata": {
    "id": "W6OjfqG2S-U8"
   },
   "outputs": [],
   "source": []
  }
 ],
 "metadata": {
  "accelerator": "GPU",
  "colab": {
   "collapsed_sections": [],
   "machine_shape": "hm",
   "name": "looped_VGG_MNIST_Exp_04.ipynb",
   "provenance": [
    {
     "file_id": "1r5GUZM8--meUwWfh1NaoADm38STMRhVN",
     "timestamp": 1601990507026
    },
    {
     "file_id": "1zeYs9o6XFVKxnm3jkRur8iaVzXQK1hF1",
     "timestamp": 1584015667796
    }
   ],
   "toc_visible": true
  },
  "kernelspec": {
   "display_name": "Python 3",
   "language": "python",
   "name": "python3"
  },
  "language_info": {
   "codemirror_mode": {
    "name": "ipython",
    "version": 3
   },
   "file_extension": ".py",
   "mimetype": "text/x-python",
   "name": "python",
   "nbconvert_exporter": "python",
   "pygments_lexer": "ipython3",
   "version": "3.7.6"
  }
 },
 "nbformat": 4,
 "nbformat_minor": 1
}
