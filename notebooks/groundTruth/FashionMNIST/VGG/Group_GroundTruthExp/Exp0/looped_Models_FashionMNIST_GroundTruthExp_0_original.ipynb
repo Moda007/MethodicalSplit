{
 "cells": [
  {
   "cell_type": "markdown",
   "metadata": {
    "id": "eC-Vn7LDUeCk"
   },
   "source": [
    "#Clone the repo"
   ]
  },
  {
   "cell_type": "code",
   "execution_count": null,
   "metadata": {
    "colab": {
     "base_uri": "https://localhost:8080/"
    },
    "executionInfo": {
     "elapsed": 2327,
     "status": "ok",
     "timestamp": 1606500026385,
     "user": {
      "displayName": "Thesis Modafar",
      "photoUrl": "",
      "userId": "04085889877448088796"
     },
     "user_tz": -180
    },
    "id": "q8syRlXZUf_o",
    "outputId": "a32d99cc-4ab6-4b0d-b05c-11bd349a7d50"
   },
   "outputs": [],
   "source": [
    "!git clone https://github.com/Moda007/MethodicalSplit.git"
   ]
  },
  {
   "cell_type": "code",
   "execution_count": null,
   "metadata": {
    "executionInfo": {
     "elapsed": 7145,
     "status": "ok",
     "timestamp": 1606500031227,
     "user": {
      "displayName": "Thesis Modafar",
      "photoUrl": "",
      "userId": "04085889877448088796"
     },
     "user_tz": -180
    },
    "id": "m6RA55ybUkCH"
   },
   "outputs": [],
   "source": [
    "from MethodicalSplit import Functions as Fn\n",
    "from MethodicalSplit.ExpModel import ExpModel"
   ]
  },
  {
   "cell_type": "markdown",
   "metadata": {
    "id": "8Snsq7kuUw8m"
   },
   "source": [
    "#Define experiment details"
   ]
  },
  {
   "cell_type": "code",
   "execution_count": null,
   "metadata": {
    "colab": {
     "base_uri": "https://localhost:8080/"
    },
    "executionInfo": {
     "elapsed": 18574,
     "status": "ok",
     "timestamp": 1606500042668,
     "user": {
      "displayName": "Thesis Modafar",
      "photoUrl": "",
      "userId": "04085889877448088796"
     },
     "user_tz": -180
    },
    "id": "tIetyqWxUz27",
    "outputId": "fbb4e14d-ec93-4456-d7e1-36321ce7d6d3"
   },
   "outputs": [],
   "source": [
    "DataSet, ModelName, group_idx, exp_idx, Avg, Sub, Rare, stratify, train = Fn.expDetails(Fn.all_exp)"
   ]
  },
  {
   "cell_type": "markdown",
   "metadata": {
    "id": "8R5MmBJ4OWEZ"
   },
   "source": [
    "#Colab"
   ]
  },
  {
   "cell_type": "markdown",
   "metadata": {
    "id": "q5a_NWs0tl69"
   },
   "source": [
    "##Ignore Warnings"
   ]
  },
  {
   "cell_type": "code",
   "execution_count": null,
   "metadata": {
    "executionInfo": {
     "elapsed": 1033,
     "status": "ok",
     "timestamp": 1606500046734,
     "user": {
      "displayName": "Thesis Modafar",
      "photoUrl": "",
      "userId": "04085889877448088796"
     },
     "user_tz": -180
    },
    "id": "D8HRA1sEseKY"
   },
   "outputs": [],
   "source": [
    "import warnings\n",
    "warnings.filterwarnings('ignore')"
   ]
  },
  {
   "cell_type": "markdown",
   "metadata": {
    "id": "ZCPkvD-LtpQ1"
   },
   "source": [
    "##Mount Drive"
   ]
  },
  {
   "cell_type": "code",
   "execution_count": null,
   "metadata": {
    "colab": {
     "base_uri": "https://localhost:8080/"
    },
    "executionInfo": {
     "elapsed": 34674,
     "status": "ok",
     "timestamp": 1606500081261,
     "user": {
      "displayName": "Thesis Modafar",
      "photoUrl": "",
      "userId": "04085889877448088796"
     },
     "user_tz": -180
    },
    "id": "nc9LE3cAStjB",
    "outputId": "d8c0c024-24be-4f9a-8dc7-67a565c847ce"
   },
   "outputs": [],
   "source": [
    "from google.colab import drive\n",
    "drive.mount('/content/drive')"
   ]
  },
  {
   "cell_type": "markdown",
   "metadata": {
    "id": "CsZngWFkkSPv"
   },
   "source": [
    "#Importing Packages and Libraries"
   ]
  },
  {
   "cell_type": "code",
   "execution_count": null,
   "metadata": {
    "executionInfo": {
     "elapsed": 7769,
     "status": "ok",
     "timestamp": 1606500081265,
     "user": {
      "displayName": "Thesis Modafar",
      "photoUrl": "",
      "userId": "04085889877448088796"
     },
     "user_tz": -180
    },
    "id": "nZHqCupPl7E-"
   },
   "outputs": [],
   "source": [
    "import numpy as np\n",
    "import matplotlib.pyplot as plt\n",
    "import seaborn as sns\n",
    "import tensorflow as tf"
   ]
  },
  {
   "cell_type": "markdown",
   "metadata": {
    "id": "G4ejsZkTlsaC"
   },
   "source": [
    "#Dataset"
   ]
  },
  {
   "cell_type": "markdown",
   "metadata": {
    "id": "tY7yX9KHmYpx"
   },
   "source": [
    "##Importing Dataset"
   ]
  },
  {
   "cell_type": "code",
   "execution_count": null,
   "metadata": {
    "colab": {
     "base_uri": "https://localhost:8080/"
    },
    "executionInfo": {
     "elapsed": 6039,
     "status": "ok",
     "timestamp": 1606500082069,
     "user": {
      "displayName": "Thesis Modafar",
      "photoUrl": "",
      "userId": "04085889877448088796"
     },
     "user_tz": -180
    },
    "id": "PkdXdi9HmL-H",
    "outputId": "06ec2350-b826-4f9d-fe4f-f521fcc5f533"
   },
   "outputs": [],
   "source": [
    "from keras.datasets import fashion_mnist\n",
    "(x_data, y_data), (x_test, y_test) = fashion_mnist.load_data()"
   ]
  },
  {
   "cell_type": "code",
   "execution_count": null,
   "metadata": {
    "colab": {
     "base_uri": "https://localhost:8080/"
    },
    "executionInfo": {
     "elapsed": 5065,
     "status": "ok",
     "timestamp": 1606500082072,
     "user": {
      "displayName": "Thesis Modafar",
      "photoUrl": "",
      "userId": "04085889877448088796"
     },
     "user_tz": -180
    },
    "id": "5b32ImdjvZ_9",
    "outputId": "bde826c6-4420-4746-f6e1-88d4a79c4af1"
   },
   "outputs": [],
   "source": [
    "print(\"x_train shape:\", x_data.shape)\n",
    "print(\"x_test shape:\", x_test.shape)\n",
    "print(\"y_train shape:\", y_data.shape)\n",
    "print(\"y_test shape:\", y_test.shape)"
   ]
  },
  {
   "cell_type": "markdown",
   "metadata": {
    "id": "yaSdl7Fkm6wR"
   },
   "source": [
    "#Model (Loop)"
   ]
  },
  {
   "cell_type": "markdown",
   "metadata": {
    "id": "Yzhq8e73HcxL"
   },
   "source": [
    "##>>> Experiment"
   ]
  },
  {
   "cell_type": "code",
   "execution_count": null,
   "metadata": {
    "executionInfo": {
     "elapsed": 865,
     "status": "ok",
     "timestamp": 1606500082508,
     "user": {
      "displayName": "Thesis Modafar",
      "photoUrl": "",
      "userId": "04085889877448088796"
     },
     "user_tz": -180
    },
    "id": "xAOfmVErptoo"
   },
   "outputs": [],
   "source": [
    "looped = True\n",
    "if looped:\n",
    "  looped = 'looped_'\n",
    "else:\n",
    "  looped = ''\n",
    "\n",
    "ds_path = '/content/drive/My Drive/Thesis Notebooks/' + DataSet + '/'\n",
    "exp_path = ds_path + ModelName + '/Group_' + group_idx + '/Exp' + exp_idx + '/'"
   ]
  },
  {
   "cell_type": "code",
   "execution_count": null,
   "metadata": {
    "executionInfo": {
     "elapsed": 538,
     "status": "ok",
     "timestamp": 1606500082796,
     "user": {
      "displayName": "Thesis Modafar",
      "photoUrl": "",
      "userId": "04085889877448088796"
     },
     "user_tz": -180
    },
    "id": "XwuyC_I0sWdN"
   },
   "outputs": [],
   "source": [
    "def plotResults(DataSet, ModelName, group_idx, exp_idx, history, loop_no=''):\n",
    "  # plot the loss and accuracy\n",
    "  global exp_path\n",
    "\n",
    "  loop_no = str(loop_no)\n",
    "  plot_path = exp_path + 'plot'\n",
    "\n",
    "  acc = history.history['acc']\n",
    "  val_acc = history.history['val_acc']\n",
    "  loss = history.history['loss']\n",
    "  val_loss = history.history['val_loss']\n",
    "  epochs = range(1, len(acc) + 1)\n",
    "\n",
    "  plt.title('Training and validation accuracy')\n",
    "  plt.plot(epochs, acc, 'red', label='Training acc')\n",
    "  plt.plot(epochs, val_acc, 'blue', label='Validation acc')\n",
    "  plt.legend()\n",
    "\n",
    "  plt.savefig(f'{plot_path}/{loop_no}TrainValidAcc.jpg')\n",
    "\n",
    "  plt.figure()\n",
    "  plt.title('Training and validation loss')\n",
    "  plt.plot(epochs, loss, 'red', label='Training loss')\n",
    "  plt.plot(epochs, val_loss, 'blue', label='Validation loss')\n",
    "  plt.legend()\n",
    "  plt.savefig(f'{plot_path}/{loop_no}TrainValidAcc&Loss.jpg')\n",
    "\n",
    "  plt.show()"
   ]
  },
  {
   "cell_type": "markdown",
   "metadata": {
    "id": "-kjmGObDRuBf"
   },
   "source": [
    "#Looped Experiment"
   ]
  },
  {
   "cell_type": "markdown",
   "metadata": {
    "id": "z84vHSYzHxOI"
   },
   "source": [
    "##VGG"
   ]
  },
  {
   "cell_type": "code",
   "execution_count": null,
   "metadata": {
    "colab": {
     "base_uri": "https://localhost:8080/",
     "height": 1000
    },
    "executionInfo": {
     "elapsed": 1605635,
     "status": "ok",
     "timestamp": 1606501693962,
     "user": {
      "displayName": "Thesis Modafar",
      "photoUrl": "",
      "userId": "04085889877448088796"
     },
     "user_tz": -180
    },
    "id": "EGLKgCtwRy2j",
    "outputId": "50064369-9a98-43ef-d31f-866411bdb3e7"
   },
   "outputs": [],
   "source": [
    "#Define All Results array\n",
    "All_results = []\n",
    "\n",
    "for idx in range(5):\n",
    "  \n",
    "  global exp_path\n",
    "\n",
    "  print('*****************************')\n",
    "  print(f'Experiment {str(idx)} starts')\n",
    "  print('*****************************')\n",
    "\n",
    "  ##Data Preperation\n",
    "  ###Splitting Data into 70% Train, 30% Validate\n",
    "\n",
    "  x_train_X, y_train_X, x_valid_X, y_valid_X, x_test_X, y_test_X = Fn.prepareDataGT(x_data, x_test, y_data, y_test, stratify)\n",
    "\n",
    "  print('x_train_X shape:', x_train_X.shape)\n",
    "  print('x_valid_X shape:', x_valid_X.shape)\n",
    "  print('x_test_X shape:', x_test_X.shape)\n",
    "\n",
    "  ##Train\n",
    "  thisModel = ExpModel(ModelName, DataSet, x_train_X, y_train_X, x_valid_X, y_valid_X, x_test_X, y_test_X)\n",
    "  model, history, results = thisModel.trainModel()\n",
    "\n",
    "  ##Store experiment results\n",
    "  All_results.append(results)\n",
    "\n",
    "  ##Model Saving\n",
    "  filename = str(idx) + ModelName + '_' + DataSet + '_' + group_idx + '_'+ exp_idx\n",
    "  model.save(exp_path + filename + '.h5')\n",
    "\n",
    "  # plot the loss and accuracy\n",
    "  plotResults(DataSet, ModelName, group_idx, exp_idx, history, idx)\n",
    "  \n",
    "  print('*****************************')\n",
    "  print(f'Experiment {str(idx)} ends')\n",
    "  print('*****************************')\n",
    "\n",
    "  tf.keras.backend.clear_session()"
   ]
  },
  {
   "cell_type": "markdown",
   "metadata": {
    "id": "ZdT3trA6YpBV"
   },
   "source": [
    "##Check experiments results"
   ]
  },
  {
   "cell_type": "code",
   "execution_count": null,
   "metadata": {
    "colab": {
     "base_uri": "https://localhost:8080/"
    },
    "executionInfo": {
     "elapsed": 1603020,
     "status": "ok",
     "timestamp": 1606501693967,
     "user": {
      "displayName": "Thesis Modafar",
      "photoUrl": "",
      "userId": "04085889877448088796"
     },
     "user_tz": -180
    },
    "id": "xRA4uAr8YtXz",
    "outputId": "dd4f4266-0491-48fd-8ed8-c026439ded78"
   },
   "outputs": [],
   "source": [
    "if len(All_results)==5:\n",
    "  print('Results Are Complete')\n",
    "else:\n",
    "  print('Results record has issue!!!')"
   ]
  },
  {
   "cell_type": "markdown",
   "metadata": {
    "id": "Kuy8kh87RejV"
   },
   "source": [
    "##Exporting Results to Excel"
   ]
  },
  {
   "cell_type": "code",
   "execution_count": null,
   "metadata": {
    "colab": {
     "base_uri": "https://localhost:8080/"
    },
    "executionInfo": {
     "elapsed": 1605081,
     "status": "ok",
     "timestamp": 1606501697046,
     "user": {
      "displayName": "Thesis Modafar",
      "photoUrl": "",
      "userId": "04085889877448088796"
     },
     "user_tz": -180
    },
    "id": "E55xG3NLR5Ir",
    "outputId": "0d3cc45c-c228-4f85-b8c9-f001c29c50d2"
   },
   "outputs": [],
   "source": [
    "!pip install xlsxwriter"
   ]
  },
  {
   "cell_type": "markdown",
   "metadata": {
    "id": "2uFo4BzAWzfc"
   },
   "source": [
    "###Create Excel with columns header"
   ]
  },
  {
   "cell_type": "code",
   "execution_count": null,
   "metadata": {
    "executionInfo": {
     "elapsed": 1604909,
     "status": "ok",
     "timestamp": 1606501697286,
     "user": {
      "displayName": "Thesis Modafar",
      "photoUrl": "",
      "userId": "04085889877448088796"
     },
     "user_tz": -180
    },
    "id": "1HVzxZXQSwF6"
   },
   "outputs": [],
   "source": [
    "import pandas as pd\n",
    "from openpyxl import load_workbook\n",
    "\n",
    "excel_name = ModelName + '.xlsx'\n",
    "sheet_name = group_idx + '_' + exp_idx\n",
    "filepath = ds_path + excel_name\n",
    "\n",
    "column_titles = [['Idx', 'Train Acc', 'Valid Acc', 'Train Loss', 'Valid Loss',\\\n",
    "                 'Test Acc', 'Test Precision', 'Test Recall', 'Test F-score', 'Hamming Loss']]\n",
    "df = pd.DataFrame(column_titles)"
   ]
  },
  {
   "cell_type": "code",
   "execution_count": null,
   "metadata": {
    "executionInfo": {
     "elapsed": 1606163,
     "status": "ok",
     "timestamp": 1606501698855,
     "user": {
      "displayName": "Thesis Modafar",
      "photoUrl": "",
      "userId": "04085889877448088796"
     },
     "user_tz": -180
    },
    "id": "wbwWm8H9WxYk"
   },
   "outputs": [],
   "source": [
    "from pathlib import Path\n",
    "\n",
    "if not Path(filepath).exists():\n",
    "  # Create writer object with an engine xlsxwriter\n",
    "  writer = pd.ExcelWriter(filepath, engine='xlsxwriter')\n",
    "  # Write data to an excel\n",
    "  df.to_excel(writer, sheet_name=sheet_name, index=False, header=None)\n",
    "  writer.save()\n",
    "else:\n",
    "  book = load_workbook(filepath)\n",
    "  with pd.ExcelWriter(filepath, engine='openpyxl') as writer:\n",
    "    writer.book = book\n",
    "    writer.sheets = dict((ws.title, ws) for ws in book.worksheets)    \n",
    "    ##dataframe to append. \n",
    "    df.to_excel(writer, sheet_name=sheet_name, index=False, header=None)  \n",
    "    writer.save()"
   ]
  },
  {
   "cell_type": "markdown",
   "metadata": {
    "id": "M0OBSspQxCJV"
   },
   "source": [
    "###Parse this experiment results"
   ]
  },
  {
   "cell_type": "code",
   "execution_count": null,
   "metadata": {
    "executionInfo": {
     "elapsed": 1606752,
     "status": "ok",
     "timestamp": 1606501700130,
     "user": {
      "displayName": "Thesis Modafar",
      "photoUrl": "",
      "userId": "04085889877448088796"
     },
     "user_tz": -180
    },
    "id": "CuWcIk1qxI0h"
   },
   "outputs": [],
   "source": [
    "for idx, result in enumerate(All_results):\n",
    "  this_result = [idx] + result['train'] + result['test']\n",
    "  this_result = np.array(this_result).reshape(1,-1)\n",
    "  this_result = pd.DataFrame(this_result)\n",
    "\n",
    "  writer = pd.ExcelWriter(filepath, engine='openpyxl')\n",
    "  # try to open an existing workbook\n",
    "  writer.book = load_workbook(filepath)\n",
    "  # copy existing sheets\n",
    "  writer.sheets = dict((ws.title, ws) for ws in writer.book.worksheets)\n",
    "  # read existing file\n",
    "  reader = pd.read_excel(filepath)\n",
    "  # write out the new sheet\n",
    "  this_result.to_excel(writer, sheet_name=sheet_name, index=False, header=False, startrow=idx+1)\n",
    "\n",
    "  writer.close()"
   ]
  }
 ],
 "metadata": {
  "accelerator": "GPU",
  "colab": {
   "collapsed_sections": [],
   "machine_shape": "hm",
   "name": "looped_Models_FashionMNIST_GroundTruthExp_0_original.ipynb",
   "provenance": [
    {
     "file_id": "1r5GUZM8--meUwWfh1NaoADm38STMRhVN",
     "timestamp": 1601990507026
    },
    {
     "file_id": "1zeYs9o6XFVKxnm3jkRur8iaVzXQK1hF1",
     "timestamp": 1584015667796
    }
   ],
   "toc_visible": true
  },
  "kernelspec": {
   "display_name": "Python 3",
   "language": "python",
   "name": "python3"
  },
  "language_info": {
   "codemirror_mode": {
    "name": "ipython",
    "version": 3
   },
   "file_extension": ".py",
   "mimetype": "text/x-python",
   "name": "python",
   "nbconvert_exporter": "python",
   "pygments_lexer": "ipython3",
   "version": "3.7.6"
  }
 },
 "nbformat": 4,
 "nbformat_minor": 1
}
