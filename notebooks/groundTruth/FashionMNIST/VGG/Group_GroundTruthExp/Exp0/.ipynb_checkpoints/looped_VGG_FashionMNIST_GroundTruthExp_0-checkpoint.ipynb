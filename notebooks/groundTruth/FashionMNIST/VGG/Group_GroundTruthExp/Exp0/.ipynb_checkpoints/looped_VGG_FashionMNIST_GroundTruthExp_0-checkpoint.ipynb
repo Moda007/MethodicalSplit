{
 "cells": [
  {
   "cell_type": "markdown",
   "metadata": {
    "id": "eC-Vn7LDUeCk"
   },
   "source": [
    "#Clone the repo"
   ]
  },
  {
   "cell_type": "code",
   "execution_count": 1,
   "metadata": {
    "colab": {
     "base_uri": "https://localhost:8080/"
    },
    "executionInfo": {
     "elapsed": 1833,
     "status": "ok",
     "timestamp": 1605557890554,
     "user": {
      "displayName": "Fidan Karimova",
      "photoUrl": "https://lh3.googleusercontent.com/a-/AOh14GheAIyUCt4VuO0U0HiniUvyjuqvryBORyB1PNL8=s64",
      "userId": "01107110239791336542"
     },
     "user_tz": -120
    },
    "id": "q8syRlXZUf_o",
    "outputId": "3165b37c-0e63-4671-9fc5-b85dd3672687"
   },
   "outputs": [
    {
     "name": "stdout",
     "output_type": "stream",
     "text": [
      "Cloning into 'MScThesis'...\n",
      "remote: Enumerating objects: 33, done.\u001b[K\n",
      "remote: Counting objects: 100% (33/33), done.\u001b[K\n",
      "remote: Compressing objects: 100% (23/23), done.\u001b[K\n",
      "remote: Total 279 (delta 17), reused 25 (delta 10), pack-reused 246\u001b[K\n",
      "Receiving objects: 100% (279/279), 52.63 KiB | 10.53 MiB/s, done.\n",
      "Resolving deltas: 100% (216/216), done.\n"
     ]
    }
   ],
   "source": [
    "!git clone https://github.com/Moda007/FairSplit.git"
   ]
  },
  {
   "cell_type": "code",
   "execution_count": null,
   "metadata": {
    "executionInfo": {
     "elapsed": 2971,
     "status": "aborted",
     "timestamp": 1605557961433,
     "user": {
      "displayName": "Fidan Karimova",
      "photoUrl": "https://lh3.googleusercontent.com/a-/AOh14GheAIyUCt4VuO0U0HiniUvyjuqvryBORyB1PNL8=s64",
      "userId": "01107110239791336542"
     },
     "user_tz": -120
    },
    "id": "m6RA55ybUkCH"
   },
   "outputs": [],
   "source": [
    "from FairSplit import Functions as Fn\n",
    "from FairSplit.ExpModel import ExpModel"
   ]
  },
  {
   "cell_type": "markdown",
   "metadata": {
    "id": "8Snsq7kuUw8m"
   },
   "source": [
    "#Define experiment details"
   ]
  },
  {
   "cell_type": "code",
   "execution_count": 4,
   "metadata": {
    "colab": {
     "base_uri": "https://localhost:8080/"
    },
    "executionInfo": {
     "elapsed": 12581,
     "status": "ok",
     "timestamp": 1605557981601,
     "user": {
      "displayName": "Fidan Karimova",
      "photoUrl": "https://lh3.googleusercontent.com/a-/AOh14GheAIyUCt4VuO0U0HiniUvyjuqvryBORyB1PNL8=s64",
      "userId": "01107110239791336542"
     },
     "user_tz": -120
    },
    "id": "tIetyqWxUz27",
    "outputId": "fc6b0bbf-cfc8-4312-8d51-f0f04452e193"
   },
   "outputs": [
    {
     "name": "stdout",
     "output_type": "stream",
     "text": [
      "\t\t\tAvg\tSub-Avg\tRare\n",
      "--------------------------------------------\n",
      "Group: 0\n",
      "Experiment: 0>\t\t0\t0\t0\n",
      "--------------------------------------------\n",
      "Group: 1\n",
      "Experiment: 1>\t\t10\t50\t40\n",
      "--------------------------------------------\n",
      "Experiment: 2>\t\t10\t45\t45\n",
      "--------------------------------------------\n",
      "Experiment: 3>\t\t10\t40\t50\n",
      "--------------------------------------------\n",
      "Experiment: 4>\t\t10\t35\t55\n",
      "--------------------------------------------\n",
      "Experiment: 5>\t\t10\t55\t35\n",
      "--------------------------------------------\n",
      "Group: 2\n",
      "Experiment: 6>\t\t15\t50\t35\n",
      "--------------------------------------------\n",
      "Experiment: 7>\t\t15\t45\t40\n",
      "--------------------------------------------\n",
      "Experiment: 8>\t\t15\t40\t45\n",
      "--------------------------------------------\n",
      "Experiment: 9>\t\t15\t35\t50\n",
      "--------------------------------------------\n",
      "Group: 3\n",
      "Experiment: 10>\t\t20\t45\t35\n",
      "--------------------------------------------\n",
      "Experiment: 11>\t\t20\t40\t40\n",
      "--------------------------------------------\n",
      "Experiment: 12>\t\t20\t35\t45\n",
      "--------------------------------------------\n",
      "Group: 4\n",
      "Experiment: 13>\t\t25\t40\t35\n",
      "--------------------------------------------\n",
      "Experiment: 14>\t\t25\t35\t40\n",
      "--------------------------------------------\n",
      "Group: 5\n",
      "Experiment: 15>\t\t30\t35\t35\n",
      "--------------------------------------------\n",
      "Group: 6\n",
      "Experiment: 16>\t\t70\t20\t10\t\t train on Average\n",
      "--------------------------------------------\n",
      "Experiment: 17>\t\t10\t20\t70\t\t train on Rare\n",
      "--------------------------------------------\n",
      "Experiment: 18>\t\t10\t70\t20\t\t train on Sub-Average\n",
      "--------------------------------------------\n",
      "Experiment: 19>\t\t20\t70\t10\t\t train on Sub-Average\n",
      "--------------------------------------------\n",
      "Group: 7\n",
      "Experiment: 20>\t\ttrain on Average validate on Sub-Average test on Rare\n",
      "--------------------------------------------\n",
      "Experiment: 21>\t\ttrain on Average validate on Rare test on Sub-avg\n",
      "--------------------------------------------\n",
      "Experiment: 22>\t\ttrain on Sub-Average validate on Rare test on Average\n",
      "--------------------------------------------\n",
      "Experiment: 23>\t\ttrain on Sub-Average validate on Average test on Rare\n",
      "--------------------------------------------\n",
      "Experiment: 24>\t\ttrain on Rare validate on Average test on Sub-Average\n",
      "--------------------------------------------\n",
      "Experiment: 25>\t\ttrain on Rare validate on Sub-Average test on Average\n",
      "--------------------------------------------\n",
      "Enter group No.\t0\n",
      "Enter exp No.\t0\n",
      "(1) MNIST\n",
      "(2) FashionMNIST\n",
      "(3) SmallNorb\n",
      "(4) Shapes3D\n",
      "(5) TrafficSign\n",
      "(6) Cifar10\n",
      "2\n",
      "(1) VGG16\n",
      "(2) InceptionV3\n",
      "(3) ResNet50\n",
      "1\n",
      "DATASET is:\t FashionMNIST\n",
      "MODEL is:\t VGG\n",
      "This is a Ground Truth Experiment\n"
     ]
    }
   ],
   "source": [
    "DataSet, ModelName, group_idx, exp_idx, Avg, Sub, Rare, stratify, train = Fn.expDetails(Fn.all_exp)"
   ]
  },
  {
   "cell_type": "markdown",
   "metadata": {
    "id": "8R5MmBJ4OWEZ"
   },
   "source": [
    "#Colab"
   ]
  },
  {
   "cell_type": "markdown",
   "metadata": {
    "id": "q5a_NWs0tl69"
   },
   "source": [
    "##Ignore Warnings"
   ]
  },
  {
   "cell_type": "code",
   "execution_count": 6,
   "metadata": {
    "executionInfo": {
     "elapsed": 784,
     "status": "ok",
     "timestamp": 1605558000262,
     "user": {
      "displayName": "Fidan Karimova",
      "photoUrl": "https://lh3.googleusercontent.com/a-/AOh14GheAIyUCt4VuO0U0HiniUvyjuqvryBORyB1PNL8=s64",
      "userId": "01107110239791336542"
     },
     "user_tz": -120
    },
    "id": "D8HRA1sEseKY"
   },
   "outputs": [],
   "source": [
    "import warnings\n",
    "warnings.filterwarnings('ignore')"
   ]
  },
  {
   "cell_type": "markdown",
   "metadata": {
    "id": "ZCPkvD-LtpQ1"
   },
   "source": [
    "##Mount Drive"
   ]
  },
  {
   "cell_type": "code",
   "execution_count": 7,
   "metadata": {
    "colab": {
     "base_uri": "https://localhost:8080/"
    },
    "executionInfo": {
     "elapsed": 20309,
     "status": "ok",
     "timestamp": 1605558021371,
     "user": {
      "displayName": "Fidan Karimova",
      "photoUrl": "https://lh3.googleusercontent.com/a-/AOh14GheAIyUCt4VuO0U0HiniUvyjuqvryBORyB1PNL8=s64",
      "userId": "01107110239791336542"
     },
     "user_tz": -120
    },
    "id": "nc9LE3cAStjB",
    "outputId": "c1a0e586-827e-43ce-fe7c-a4bc31180f29"
   },
   "outputs": [
    {
     "name": "stdout",
     "output_type": "stream",
     "text": [
      "Mounted at /content/drive\n"
     ]
    }
   ],
   "source": [
    "from google.colab import drive\n",
    "drive.mount('/content/drive')"
   ]
  },
  {
   "cell_type": "markdown",
   "metadata": {
    "id": "CsZngWFkkSPv"
   },
   "source": [
    "#Importing Packages and Libraries"
   ]
  },
  {
   "cell_type": "code",
   "execution_count": 8,
   "metadata": {
    "executionInfo": {
     "elapsed": 652,
     "status": "ok",
     "timestamp": 1605558025474,
     "user": {
      "displayName": "Fidan Karimova",
      "photoUrl": "https://lh3.googleusercontent.com/a-/AOh14GheAIyUCt4VuO0U0HiniUvyjuqvryBORyB1PNL8=s64",
      "userId": "01107110239791336542"
     },
     "user_tz": -120
    },
    "id": "nZHqCupPl7E-"
   },
   "outputs": [],
   "source": [
    "import numpy as np\n",
    "import matplotlib.pyplot as plt\n",
    "import seaborn as sns\n",
    "import tensorflow as tf"
   ]
  },
  {
   "cell_type": "markdown",
   "metadata": {
    "id": "G4ejsZkTlsaC"
   },
   "source": [
    "#Dataset"
   ]
  },
  {
   "cell_type": "markdown",
   "metadata": {
    "id": "tY7yX9KHmYpx"
   },
   "source": [
    "##Importing Dataset"
   ]
  },
  {
   "cell_type": "code",
   "execution_count": 9,
   "metadata": {
    "colab": {
     "base_uri": "https://localhost:8080/"
    },
    "executionInfo": {
     "elapsed": 1798,
     "status": "ok",
     "timestamp": 1605558029070,
     "user": {
      "displayName": "Fidan Karimova",
      "photoUrl": "https://lh3.googleusercontent.com/a-/AOh14GheAIyUCt4VuO0U0HiniUvyjuqvryBORyB1PNL8=s64",
      "userId": "01107110239791336542"
     },
     "user_tz": -120
    },
    "id": "PkdXdi9HmL-H",
    "outputId": "265ed489-3c98-42dc-d850-fc620634bf4b"
   },
   "outputs": [
    {
     "name": "stdout",
     "output_type": "stream",
     "text": [
      "Downloading data from https://storage.googleapis.com/tensorflow/tf-keras-datasets/train-labels-idx1-ubyte.gz\n",
      "32768/29515 [=================================] - 0s 0us/step\n",
      "Downloading data from https://storage.googleapis.com/tensorflow/tf-keras-datasets/train-images-idx3-ubyte.gz\n",
      "26427392/26421880 [==============================] - 0s 0us/step\n",
      "Downloading data from https://storage.googleapis.com/tensorflow/tf-keras-datasets/t10k-labels-idx1-ubyte.gz\n",
      "8192/5148 [===============================================] - 0s 0us/step\n",
      "Downloading data from https://storage.googleapis.com/tensorflow/tf-keras-datasets/t10k-images-idx3-ubyte.gz\n",
      "4423680/4422102 [==============================] - 0s 0us/step\n"
     ]
    }
   ],
   "source": [
    "from keras.datasets import fashion_mnist\n",
    "(x_train, y_train), (x_test, y_test) = fashion_mnist.load_data()"
   ]
  },
  {
   "cell_type": "code",
   "execution_count": 10,
   "metadata": {
    "colab": {
     "base_uri": "https://localhost:8080/"
    },
    "executionInfo": {
     "elapsed": 659,
     "status": "ok",
     "timestamp": 1605558032702,
     "user": {
      "displayName": "Fidan Karimova",
      "photoUrl": "https://lh3.googleusercontent.com/a-/AOh14GheAIyUCt4VuO0U0HiniUvyjuqvryBORyB1PNL8=s64",
      "userId": "01107110239791336542"
     },
     "user_tz": -120
    },
    "id": "5b32ImdjvZ_9",
    "outputId": "2717d470-bb84-497d-f97f-c6fa94b431bf"
   },
   "outputs": [
    {
     "name": "stdout",
     "output_type": "stream",
     "text": [
      "x_train shape: (60000, 28, 28)\n",
      "x_test shape: (10000, 28, 28)\n",
      "y_train shape: (60000,)\n",
      "y_test shape: (10000,)\n"
     ]
    }
   ],
   "source": [
    "print(\"x_train shape:\", x_train.shape)\n",
    "print(\"x_test shape:\", x_test.shape)\n",
    "print(\"y_train shape:\", y_train.shape)\n",
    "print(\"y_test shape:\", y_test.shape)"
   ]
  },
  {
   "cell_type": "markdown",
   "metadata": {
    "id": "lsOf-c-emcvm"
   },
   "source": [
    "##Concatenate train and test dataset"
   ]
  },
  {
   "cell_type": "code",
   "execution_count": 11,
   "metadata": {
    "colab": {
     "base_uri": "https://localhost:8080/"
    },
    "executionInfo": {
     "elapsed": 1411,
     "status": "ok",
     "timestamp": 1605558037991,
     "user": {
      "displayName": "Fidan Karimova",
      "photoUrl": "https://lh3.googleusercontent.com/a-/AOh14GheAIyUCt4VuO0U0HiniUvyjuqvryBORyB1PNL8=s64",
      "userId": "01107110239791336542"
     },
     "user_tz": -120
    },
    "id": "xrUmC6YgjyBw",
    "outputId": "bd64481f-e941-41eb-df53-3219edfcfa35"
   },
   "outputs": [
    {
     "name": "stdout",
     "output_type": "stream",
     "text": [
      "x_data shape: (70000, 28, 28)\n",
      "y_data shape: (70000,)\n"
     ]
    }
   ],
   "source": [
    "x_data = np.concatenate([x_train, x_test], axis=0)\n",
    "y_data = np.concatenate([y_train, y_test], axis=0)\n",
    "print(\"x_data shape:\", x_data.shape)\n",
    "print(\"y_data shape:\", y_data.shape)"
   ]
  },
  {
   "cell_type": "markdown",
   "metadata": {
    "id": "4FXQx0pzA3J-"
   },
   "source": [
    "##Split test data (holdout)"
   ]
  },
  {
   "cell_type": "code",
   "execution_count": 12,
   "metadata": {
    "colab": {
     "base_uri": "https://localhost:8080/"
    },
    "executionInfo": {
     "elapsed": 583,
     "status": "ok",
     "timestamp": 1605558039733,
     "user": {
      "displayName": "Fidan Karimova",
      "photoUrl": "https://lh3.googleusercontent.com/a-/AOh14GheAIyUCt4VuO0U0HiniUvyjuqvryBORyB1PNL8=s64",
      "userId": "01107110239791336542"
     },
     "user_tz": -120
    },
    "id": "bdmANJFNA_c8",
    "outputId": "f9cf1a1e-3b46-47de-859f-ed77411d6dd7"
   },
   "outputs": [
    {
     "name": "stdout",
     "output_type": "stream",
     "text": [
      "x_data shape: (63000, 28, 28)\n",
      "x_test shape: (7000, 28, 28)\n",
      "y_data shape: (63000,)\n",
      "y_test shape: (7000,)\n"
     ]
    }
   ],
   "source": [
    "from sklearn.model_selection import train_test_split\n",
    "\n",
    "x_data, x_test, y_data, y_test = train_test_split(x_data, y_data, train_size= 0.9, test_size= 0.1)\n",
    "\n",
    "print(\"x_data shape:\", x_data.shape)\n",
    "print(\"x_test shape:\", x_test.shape)\n",
    "print(\"y_data shape:\", y_data.shape)\n",
    "print(\"y_test shape:\", y_test.shape)"
   ]
  },
  {
   "cell_type": "markdown",
   "metadata": {
    "id": "yaSdl7Fkm6wR"
   },
   "source": [
    "#Model (Loop)"
   ]
  },
  {
   "cell_type": "markdown",
   "metadata": {
    "id": "Yzhq8e73HcxL"
   },
   "source": [
    "##>>> Experiment"
   ]
  },
  {
   "cell_type": "code",
   "execution_count": 13,
   "metadata": {
    "executionInfo": {
     "elapsed": 601,
     "status": "ok",
     "timestamp": 1605558043107,
     "user": {
      "displayName": "Fidan Karimova",
      "photoUrl": "https://lh3.googleusercontent.com/a-/AOh14GheAIyUCt4VuO0U0HiniUvyjuqvryBORyB1PNL8=s64",
      "userId": "01107110239791336542"
     },
     "user_tz": -120
    },
    "id": "xAOfmVErptoo"
   },
   "outputs": [],
   "source": [
    "looped = True\n",
    "if looped:\n",
    "  looped = 'looped_'\n",
    "else:\n",
    "  looped = ''\n",
    "\n",
    "ds_path = '/content/drive/My Drive/Thesis Notebooks/' + DataSet + '/'\n",
    "exp_path = ds_path + ModelName + '/Group_' + group_idx + '/Exp' + exp_idx + '/'"
   ]
  },
  {
   "cell_type": "code",
   "execution_count": 14,
   "metadata": {
    "executionInfo": {
     "elapsed": 1202,
     "status": "ok",
     "timestamp": 1605558047171,
     "user": {
      "displayName": "Fidan Karimova",
      "photoUrl": "https://lh3.googleusercontent.com/a-/AOh14GheAIyUCt4VuO0U0HiniUvyjuqvryBORyB1PNL8=s64",
      "userId": "01107110239791336542"
     },
     "user_tz": -120
    },
    "id": "XwuyC_I0sWdN"
   },
   "outputs": [],
   "source": [
    "def plotResults(DataSet, ModelName, group_idx, exp_idx, history, loop_no=''):\n",
    "  # plot the loss and accuracy\n",
    "  global exp_path\n",
    "\n",
    "  loop_no = str(loop_no)\n",
    "  plot_path = exp_path + 'plot'\n",
    "\n",
    "  acc = history.history['acc']\n",
    "  val_acc = history.history['val_acc']\n",
    "  loss = history.history['loss']\n",
    "  val_loss = history.history['val_loss']\n",
    "  epochs = range(1, len(acc) + 1)\n",
    "\n",
    "  plt.title('Training and validation accuracy')\n",
    "  plt.plot(epochs, acc, 'red', label='Training acc')\n",
    "  plt.plot(epochs, val_acc, 'blue', label='Validation acc')\n",
    "  plt.legend()\n",
    "\n",
    "  plt.savefig(f'{plot_path}/{loop_no}TrainValidAcc.jpg')\n",
    "\n",
    "  plt.figure()\n",
    "  plt.title('Training and validation loss')\n",
    "  plt.plot(epochs, loss, 'red', label='Training loss')\n",
    "  plt.plot(epochs, val_loss, 'blue', label='Validation loss')\n",
    "  plt.legend()\n",
    "  plt.savefig(f'{plot_path}/{loop_no}TrainValidAcc&Loss.jpg')\n",
    "\n",
    "  plt.show()"
   ]
  },
  {
   "cell_type": "markdown",
   "metadata": {
    "id": "-kjmGObDRuBf"
   },
   "source": [
    "#Looped Experiment"
   ]
  },
  {
   "cell_type": "code",
   "execution_count": 15,
   "metadata": {
    "colab": {
     "base_uri": "https://localhost:8080/",
     "height": 1000
    },
    "executionInfo": {
     "elapsed": 1699101,
     "status": "ok",
     "timestamp": 1605561394518,
     "user": {
      "displayName": "Fidan Karimova",
      "photoUrl": "https://lh3.googleusercontent.com/a-/AOh14GheAIyUCt4VuO0U0HiniUvyjuqvryBORyB1PNL8=s64",
      "userId": "01107110239791336542"
     },
     "user_tz": -120
    },
    "id": "EGLKgCtwRy2j",
    "outputId": "d034a7ea-91b3-42aa-8e27-d51ed6a129de"
   },
   "outputs": [
    {
     "name": "stdout",
     "output_type": "stream",
     "text": [
      "*****************************\n",
      "Experiment 0 starts\n",
      "*****************************\n",
      "(44100, 28, 28) (44100,)\n",
      "(18900, 28, 28) (18900,)\n",
      "(7000, 28, 28) (7000,)\n",
      "x_train_X shape: (44100, 28, 28)\n",
      "x_valid_X shape: (18900, 28, 28)\n",
      "x_test_X shape: (7000, 28, 28)\n",
      "Downloading data from https://storage.googleapis.com/tensorflow/keras-applications/vgg16/vgg16_weights_tf_dim_ordering_tf_kernels_notop.h5\n",
      "58892288/58889256 [==============================] - 1s 0us/step\n",
      "<<< VGG Model is prepared >>>\n",
      "Model: \"functional_1\"\n",
      "_________________________________________________________________\n",
      "Layer (type)                 Output Shape              Param #   \n",
      "=================================================================\n",
      "input_1 (InputLayer)         [(None, 48, 48, 3)]       0         \n",
      "_________________________________________________________________\n",
      "block1_conv1 (Conv2D)        (None, 48, 48, 64)        1792      \n",
      "_________________________________________________________________\n",
      "block1_conv2 (Conv2D)        (None, 48, 48, 64)        36928     \n",
      "_________________________________________________________________\n",
      "block1_pool (MaxPooling2D)   (None, 24, 24, 64)        0         \n",
      "_________________________________________________________________\n",
      "block2_conv1 (Conv2D)        (None, 24, 24, 128)       73856     \n",
      "_________________________________________________________________\n",
      "block2_conv2 (Conv2D)        (None, 24, 24, 128)       147584    \n",
      "_________________________________________________________________\n",
      "block2_pool (MaxPooling2D)   (None, 12, 12, 128)       0         \n",
      "_________________________________________________________________\n",
      "block3_conv1 (Conv2D)        (None, 12, 12, 256)       295168    \n",
      "_________________________________________________________________\n",
      "block3_conv2 (Conv2D)        (None, 12, 12, 256)       590080    \n",
      "_________________________________________________________________\n",
      "block3_conv3 (Conv2D)        (None, 12, 12, 256)       590080    \n",
      "_________________________________________________________________\n",
      "block3_pool (MaxPooling2D)   (None, 6, 6, 256)         0         \n",
      "_________________________________________________________________\n",
      "block4_conv1 (Conv2D)        (None, 6, 6, 512)         1180160   \n",
      "_________________________________________________________________\n",
      "block4_conv2 (Conv2D)        (None, 6, 6, 512)         2359808   \n",
      "_________________________________________________________________\n",
      "block4_conv3 (Conv2D)        (None, 6, 6, 512)         2359808   \n",
      "_________________________________________________________________\n",
      "block4_pool (MaxPooling2D)   (None, 3, 3, 512)         0         \n",
      "_________________________________________________________________\n",
      "block5_conv1 (Conv2D)        (None, 3, 3, 512)         2359808   \n",
      "_________________________________________________________________\n",
      "block5_conv2 (Conv2D)        (None, 3, 3, 512)         2359808   \n",
      "_________________________________________________________________\n",
      "block5_conv3 (Conv2D)        (None, 3, 3, 512)         2359808   \n",
      "_________________________________________________________________\n",
      "block5_pool (MaxPooling2D)   (None, 1, 1, 512)         0         \n",
      "_________________________________________________________________\n",
      "flatten (Flatten)            (None, 512)               0         \n",
      "_________________________________________________________________\n",
      "dense (Dense)                (None, 1000)              513000    \n",
      "_________________________________________________________________\n",
      "dense_1 (Dense)              (None, 10)                10010     \n",
      "=================================================================\n",
      "Total params: 15,237,698\n",
      "Trainable params: 15,237,698\n",
      "Non-trainable params: 0\n",
      "_________________________________________________________________\n",
      "Epoch 1/20\n",
      "1379/1379 [==============================] - 17s 12ms/step - loss: 1.5323 - acc: 0.4468 - val_loss: 1.1397 - val_acc: 0.5621\n",
      "Epoch 2/20\n",
      "1379/1379 [==============================] - 16s 12ms/step - loss: 1.0597 - acc: 0.6119 - val_loss: 1.0194 - val_acc: 0.6331\n",
      "Epoch 3/20\n",
      "1379/1379 [==============================] - 16s 12ms/step - loss: 0.9619 - acc: 0.6482 - val_loss: 0.9553 - val_acc: 0.6209\n",
      "Epoch 4/20\n",
      "1379/1379 [==============================] - 17s 12ms/step - loss: 0.9107 - acc: 0.6654 - val_loss: 0.9065 - val_acc: 0.6624\n",
      "Epoch 5/20\n",
      "1379/1379 [==============================] - 16s 12ms/step - loss: 0.8904 - acc: 0.6732 - val_loss: 0.9244 - val_acc: 0.6441\n",
      "Epoch 6/20\n",
      "1379/1379 [==============================] - 16s 12ms/step - loss: 0.8651 - acc: 0.6809 - val_loss: 0.8328 - val_acc: 0.7010\n",
      "Epoch 7/20\n",
      "1379/1379 [==============================] - 16s 12ms/step - loss: 0.8619 - acc: 0.6834 - val_loss: 0.7976 - val_acc: 0.7184\n",
      "Epoch 8/20\n",
      "1379/1379 [==============================] - 16s 12ms/step - loss: 0.8334 - acc: 0.6956 - val_loss: 0.8971 - val_acc: 0.6728\n",
      "Epoch 9/20\n",
      "1378/1379 [============================>.] - ETA: 0s - loss: 0.8165 - acc: 0.7003\n",
      "Epoch 00009: ReduceLROnPlateau reducing learning rate to 0.00020000000949949026.\n",
      "1379/1379 [==============================] - 16s 12ms/step - loss: 0.8165 - acc: 0.7003 - val_loss: 0.8070 - val_acc: 0.7065\n",
      "Epoch 10/20\n",
      "1379/1379 [==============================] - 16s 12ms/step - loss: 0.7522 - acc: 0.7320 - val_loss: 0.7452 - val_acc: 0.7371\n",
      "Epoch 11/20\n",
      "1379/1379 [==============================] - 16s 12ms/step - loss: 0.7463 - acc: 0.7333 - val_loss: 0.7334 - val_acc: 0.7370\n",
      "Epoch 12/20\n",
      "1379/1379 [==============================] - 16s 12ms/step - loss: 0.7426 - acc: 0.7346 - val_loss: 0.7366 - val_acc: 0.7384\n",
      "Epoch 13/20\n",
      "1376/1379 [============================>.] - ETA: 0s - loss: 0.7383 - acc: 0.7357\n",
      "Epoch 00013: ReduceLROnPlateau reducing learning rate to 4.0000001899898055e-05.\n",
      "1379/1379 [==============================] - 16s 12ms/step - loss: 0.7384 - acc: 0.7356 - val_loss: 0.7368 - val_acc: 0.7395\n",
      "Epoch 14/20\n",
      "1379/1379 [==============================] - 16s 12ms/step - loss: 0.7203 - acc: 0.7440 - val_loss: 0.7164 - val_acc: 0.7470\n",
      "Epoch 15/20\n",
      "1379/1379 [==============================] - 16s 12ms/step - loss: 0.7185 - acc: 0.7441 - val_loss: 0.7175 - val_acc: 0.7411\n",
      "Epoch 16/20\n",
      "1379/1379 [==============================] - 16s 11ms/step - loss: 0.7175 - acc: 0.7450 - val_loss: 0.7153 - val_acc: 0.7432\n",
      "Epoch 17/20\n",
      "1379/1379 [==============================] - 16s 11ms/step - loss: 0.7165 - acc: 0.7458 - val_loss: 0.7162 - val_acc: 0.7453\n",
      "Epoch 18/20\n",
      "1379/1379 [==============================] - 16s 11ms/step - loss: 0.7151 - acc: 0.7458 - val_loss: 0.7120 - val_acc: 0.7490\n",
      "Epoch 19/20\n",
      "1379/1379 [==============================] - 16s 11ms/step - loss: 0.7140 - acc: 0.7475 - val_loss: 0.7130 - val_acc: 0.7475\n",
      "Epoch 20/20\n",
      "1379/1379 [==============================] - 16s 12ms/step - loss: 0.7139 - acc: 0.7467 - val_loss: 0.7112 - val_acc: 0.7481\n",
      "*********************************************\n",
      "Model training accuracy: 0.7467346787452698\n",
      "Model validation accuracy: 0.7111967206001282\n",
      "Model training loss: 0.7467346787452698\n",
      "Model validation loss: 0.7111967206001282\n",
      "*********************************************\n",
      "Model testing accuracy: 0.64\n",
      "Model testing precision: 0.8128327992834503\n",
      "Model testing recall: 0.64\n",
      "Model testing hamming loss: 0.048685714285714284\n"
     ]
    },
    {
     "data": {
      "image/png": "[encoded data removed]",
      "text/plain": [
       "<Figure size 432x288 with 1 Axes>"
      ]
     },
     "metadata": {
      "needs_background": "light",
      "tags": []
     },
     "output_type": "display_data"
    },
    {
     "data": {
      "image/png": "[encoded data removed]",
      "text/plain": [
       "<Figure size 432x288 with 1 Axes>"
      ]
     },
     "metadata": {
      "needs_background": "light",
      "tags": []
     },
     "output_type": "display_data"
    },
    {
     "name": "stdout",
     "output_type": "stream",
     "text": [
      "*****************************\n",
      "Experiment 0 ends\n",
      "*****************************\n",
      "*****************************\n",
      "Experiment 1 starts\n",
      "*****************************\n",
      "(44100, 28, 28) (44100,)\n",
      "(18900, 28, 28) (18900,)\n",
      "(7000, 28, 28) (7000,)\n",
      "x_train_X shape: (44100, 28, 28)\n",
      "x_valid_X shape: (18900, 28, 28)\n",
      "x_test_X shape: (7000, 28, 28)\n",
      "<<< VGG Model is prepared >>>\n",
      "Model: \"functional_1\"\n",
      "_________________________________________________________________\n",
      "Layer (type)                 Output Shape              Param #   \n",
      "=================================================================\n",
      "input_1 (InputLayer)         [(None, 48, 48, 3)]       0         \n",
      "_________________________________________________________________\n",
      "block1_conv1 (Conv2D)        (None, 48, 48, 64)        1792      \n",
      "_________________________________________________________________\n",
      "block1_conv2 (Conv2D)        (None, 48, 48, 64)        36928     \n",
      "_________________________________________________________________\n",
      "block1_pool (MaxPooling2D)   (None, 24, 24, 64)        0         \n",
      "_________________________________________________________________\n",
      "block2_conv1 (Conv2D)        (None, 24, 24, 128)       73856     \n",
      "_________________________________________________________________\n",
      "block2_conv2 (Conv2D)        (None, 24, 24, 128)       147584    \n",
      "_________________________________________________________________\n",
      "block2_pool (MaxPooling2D)   (None, 12, 12, 128)       0         \n",
      "_________________________________________________________________\n",
      "block3_conv1 (Conv2D)        (None, 12, 12, 256)       295168    \n",
      "_________________________________________________________________\n",
      "block3_conv2 (Conv2D)        (None, 12, 12, 256)       590080    \n",
      "_________________________________________________________________\n",
      "block3_conv3 (Conv2D)        (None, 12, 12, 256)       590080    \n",
      "_________________________________________________________________\n",
      "block3_pool (MaxPooling2D)   (None, 6, 6, 256)         0         \n",
      "_________________________________________________________________\n",
      "block4_conv1 (Conv2D)        (None, 6, 6, 512)         1180160   \n",
      "_________________________________________________________________\n",
      "block4_conv2 (Conv2D)        (None, 6, 6, 512)         2359808   \n",
      "_________________________________________________________________\n",
      "block4_conv3 (Conv2D)        (None, 6, 6, 512)         2359808   \n",
      "_________________________________________________________________\n",
      "block4_pool (MaxPooling2D)   (None, 3, 3, 512)         0         \n",
      "_________________________________________________________________\n",
      "block5_conv1 (Conv2D)        (None, 3, 3, 512)         2359808   \n",
      "_________________________________________________________________\n",
      "block5_conv2 (Conv2D)        (None, 3, 3, 512)         2359808   \n",
      "_________________________________________________________________\n",
      "block5_conv3 (Conv2D)        (None, 3, 3, 512)         2359808   \n",
      "_________________________________________________________________\n",
      "block5_pool (MaxPooling2D)   (None, 1, 1, 512)         0         \n",
      "_________________________________________________________________\n",
      "flatten (Flatten)            (None, 512)               0         \n",
      "_________________________________________________________________\n",
      "dense (Dense)                (None, 1000)              513000    \n",
      "_________________________________________________________________\n",
      "dense_1 (Dense)              (None, 10)                10010     \n",
      "=================================================================\n",
      "Total params: 15,237,698\n",
      "Trainable params: 15,237,698\n",
      "Non-trainable params: 0\n",
      "_________________________________________________________________\n",
      "Epoch 1/20\n",
      "1379/1379 [==============================] - 16s 12ms/step - loss: 1.4976 - acc: 0.4586 - val_loss: 1.2010 - val_acc: 0.5302\n",
      "Epoch 2/20\n",
      "1379/1379 [==============================] - 16s 12ms/step - loss: 1.0645 - acc: 0.6122 - val_loss: 1.0381 - val_acc: 0.6184\n",
      "Epoch 3/20\n",
      "1379/1379 [==============================] - 16s 12ms/step - loss: 0.9655 - acc: 0.6475 - val_loss: 0.9936 - val_acc: 0.6416\n",
      "Epoch 4/20\n",
      "1379/1379 [==============================] - 16s 12ms/step - loss: 0.9133 - acc: 0.6679 - val_loss: 0.9557 - val_acc: 0.6537\n",
      "Epoch 5/20\n",
      "1379/1379 [==============================] - 16s 12ms/step - loss: 0.8890 - acc: 0.6734 - val_loss: 0.9076 - val_acc: 0.6610\n",
      "Epoch 6/20\n",
      "1379/1379 [==============================] - 16s 12ms/step - loss: 0.8654 - acc: 0.6815 - val_loss: 0.8692 - val_acc: 0.6651\n",
      "Epoch 7/20\n",
      "1379/1379 [==============================] - 16s 12ms/step - loss: 0.8460 - acc: 0.6890 - val_loss: 0.8485 - val_acc: 0.6908\n",
      "Epoch 8/20\n",
      "1379/1379 [==============================] - 16s 12ms/step - loss: 0.8273 - acc: 0.6957 - val_loss: 0.8117 - val_acc: 0.6993\n",
      "Epoch 9/20\n",
      "1379/1379 [==============================] - 16s 12ms/step - loss: 0.8174 - acc: 0.7013 - val_loss: 0.8013 - val_acc: 0.7150\n",
      "Epoch 10/20\n",
      "1379/1379 [==============================] - 16s 11ms/step - loss: 0.8029 - acc: 0.7070 - val_loss: 0.8033 - val_acc: 0.7053\n",
      "Epoch 11/20\n",
      "1379/1379 [==============================] - 16s 11ms/step - loss: 0.7985 - acc: 0.7078 - val_loss: 0.7797 - val_acc: 0.7128\n",
      "Epoch 12/20\n",
      "1379/1379 [==============================] - 16s 11ms/step - loss: 0.7880 - acc: 0.7133 - val_loss: 0.7410 - val_acc: 0.7263\n",
      "Epoch 13/20\n",
      "1379/1379 [==============================] - 16s 11ms/step - loss: 0.7779 - acc: 0.7153 - val_loss: 0.7761 - val_acc: 0.7185\n",
      "Epoch 14/20\n",
      "1377/1379 [============================>.] - ETA: 0s - loss: 0.7778 - acc: 0.7146\n",
      "Epoch 00014: ReduceLROnPlateau reducing learning rate to 0.00020000000949949026.\n",
      "1379/1379 [==============================] - 16s 12ms/step - loss: 0.7777 - acc: 0.7146 - val_loss: 0.7415 - val_acc: 0.7386\n",
      "Epoch 15/20\n",
      "1379/1379 [==============================] - 16s 11ms/step - loss: 0.7114 - acc: 0.7451 - val_loss: 0.7166 - val_acc: 0.7446\n",
      "Epoch 16/20\n",
      "1379/1379 [==============================] - 16s 11ms/step - loss: 0.7077 - acc: 0.7461 - val_loss: 0.7064 - val_acc: 0.7463\n",
      "Epoch 17/20\n",
      "1379/1379 [==============================] - 16s 11ms/step - loss: 0.7054 - acc: 0.7462 - val_loss: 0.6999 - val_acc: 0.7534\n",
      "Epoch 18/20\n",
      "1379/1379 [==============================] - 16s 11ms/step - loss: 0.7010 - acc: 0.7476 - val_loss: 0.7133 - val_acc: 0.7381\n",
      "Epoch 19/20\n",
      "1375/1379 [============================>.] - ETA: 0s - loss: 0.7007 - acc: 0.7493\n",
      "Epoch 00019: ReduceLROnPlateau reducing learning rate to 4.0000001899898055e-05.\n",
      "1379/1379 [==============================] - 16s 12ms/step - loss: 0.7006 - acc: 0.7493 - val_loss: 0.7047 - val_acc: 0.7442\n",
      "Epoch 20/20\n",
      "1379/1379 [==============================] - 16s 11ms/step - loss: 0.6844 - acc: 0.7559 - val_loss: 0.6870 - val_acc: 0.7562\n",
      "*********************************************\n",
      "Model training accuracy: 0.7558503150939941\n",
      "Model validation accuracy: 0.6870103478431702\n",
      "Model training loss: 0.7558503150939941\n",
      "Model validation loss: 0.6870103478431702\n",
      "*********************************************\n",
      "Model testing accuracy: 0.6621428571428571\n",
      "Model testing precision: 0.8224066261689794\n",
      "Model testing recall: 0.6621428571428571\n",
      "Model testing hamming loss: 0.046414285714285713\n"
     ]
    },
    {
     "data": {
      "image/png": "[encoded data removed]",
      "text/plain": [
       "<Figure size 432x288 with 1 Axes>"
      ]
     },
     "metadata": {
      "needs_background": "light",
      "tags": []
     },
     "output_type": "display_data"
    },
    {
     "data": {
      "image/png": "[encoded data removed]",
      "text/plain": [
       "<Figure size 432x288 with 1 Axes>"
      ]
     },
     "metadata": {
      "needs_background": "light",
      "tags": []
     },
     "output_type": "display_data"
    },
    {
     "name": "stdout",
     "output_type": "stream",
     "text": [
      "*****************************\n",
      "Experiment 1 ends\n",
      "*****************************\n",
      "*****************************\n",
      "Experiment 2 starts\n",
      "*****************************\n",
      "(44100, 28, 28) (44100,)\n",
      "(18900, 28, 28) (18900,)\n",
      "(7000, 28, 28) (7000,)\n",
      "x_train_X shape: (44100, 28, 28)\n",
      "x_valid_X shape: (18900, 28, 28)\n",
      "x_test_X shape: (7000, 28, 28)\n",
      "<<< VGG Model is prepared >>>\n",
      "Model: \"functional_1\"\n",
      "_________________________________________________________________\n",
      "Layer (type)                 Output Shape              Param #   \n",
      "=================================================================\n",
      "input_1 (InputLayer)         [(None, 48, 48, 3)]       0         \n",
      "_________________________________________________________________\n",
      "block1_conv1 (Conv2D)        (None, 48, 48, 64)        1792      \n",
      "_________________________________________________________________\n",
      "block1_conv2 (Conv2D)        (None, 48, 48, 64)        36928     \n",
      "_________________________________________________________________\n",
      "block1_pool (MaxPooling2D)   (None, 24, 24, 64)        0         \n",
      "_________________________________________________________________\n",
      "block2_conv1 (Conv2D)        (None, 24, 24, 128)       73856     \n",
      "_________________________________________________________________\n",
      "block2_conv2 (Conv2D)        (None, 24, 24, 128)       147584    \n",
      "_________________________________________________________________\n",
      "block2_pool (MaxPooling2D)   (None, 12, 12, 128)       0         \n",
      "_________________________________________________________________\n",
      "block3_conv1 (Conv2D)        (None, 12, 12, 256)       295168    \n",
      "_________________________________________________________________\n",
      "block3_conv2 (Conv2D)        (None, 12, 12, 256)       590080    \n",
      "_________________________________________________________________\n",
      "block3_conv3 (Conv2D)        (None, 12, 12, 256)       590080    \n",
      "_________________________________________________________________\n",
      "block3_pool (MaxPooling2D)   (None, 6, 6, 256)         0         \n",
      "_________________________________________________________________\n",
      "block4_conv1 (Conv2D)        (None, 6, 6, 512)         1180160   \n",
      "_________________________________________________________________\n",
      "block4_conv2 (Conv2D)        (None, 6, 6, 512)         2359808   \n",
      "_________________________________________________________________\n",
      "block4_conv3 (Conv2D)        (None, 6, 6, 512)         2359808   \n",
      "_________________________________________________________________\n",
      "block4_pool (MaxPooling2D)   (None, 3, 3, 512)         0         \n",
      "_________________________________________________________________\n",
      "block5_conv1 (Conv2D)        (None, 3, 3, 512)         2359808   \n",
      "_________________________________________________________________\n",
      "block5_conv2 (Conv2D)        (None, 3, 3, 512)         2359808   \n",
      "_________________________________________________________________\n",
      "block5_conv3 (Conv2D)        (None, 3, 3, 512)         2359808   \n",
      "_________________________________________________________________\n",
      "block5_pool (MaxPooling2D)   (None, 1, 1, 512)         0         \n",
      "_________________________________________________________________\n",
      "flatten (Flatten)            (None, 512)               0         \n",
      "_________________________________________________________________\n",
      "dense (Dense)                (None, 1000)              513000    \n",
      "_________________________________________________________________\n",
      "dense_1 (Dense)              (None, 10)                10010     \n",
      "=================================================================\n",
      "Total params: 15,237,698\n",
      "Trainable params: 15,237,698\n",
      "Non-trainable params: 0\n",
      "_________________________________________________________________\n",
      "Epoch 1/20\n",
      "1379/1379 [==============================] - 17s 12ms/step - loss: 1.4830 - acc: 0.4584 - val_loss: 1.0852 - val_acc: 0.6077\n",
      "Epoch 2/20\n",
      "1379/1379 [==============================] - 16s 11ms/step - loss: 1.0634 - acc: 0.6095 - val_loss: 0.9143 - val_acc: 0.6756\n",
      "Epoch 3/20\n",
      "1379/1379 [==============================] - 16s 12ms/step - loss: 0.9643 - acc: 0.6468 - val_loss: 1.0985 - val_acc: 0.5915\n",
      "Epoch 4/20\n",
      "1379/1379 [==============================] - 16s 11ms/step - loss: 0.9163 - acc: 0.6652 - val_loss: 0.8513 - val_acc: 0.6905\n",
      "Epoch 5/20\n",
      "1379/1379 [==============================] - 16s 11ms/step - loss: 0.8846 - acc: 0.6756 - val_loss: 0.9572 - val_acc: 0.6581\n",
      "Epoch 6/20\n",
      "1375/1379 [============================>.] - ETA: 0s - loss: 0.8607 - acc: 0.6841\n",
      "Epoch 00006: ReduceLROnPlateau reducing learning rate to 0.00020000000949949026.\n",
      "1379/1379 [==============================] - 16s 11ms/step - loss: 0.8607 - acc: 0.6841 - val_loss: 0.8876 - val_acc: 0.6671\n",
      "Epoch 7/20\n",
      "1379/1379 [==============================] - 16s 11ms/step - loss: 0.7836 - acc: 0.7214 - val_loss: 0.7808 - val_acc: 0.7193\n",
      "Epoch 8/20\n",
      "1379/1379 [==============================] - 16s 11ms/step - loss: 0.7757 - acc: 0.7240 - val_loss: 0.7590 - val_acc: 0.7306\n",
      "Epoch 9/20\n",
      "1379/1379 [==============================] - 16s 11ms/step - loss: 0.7677 - acc: 0.7259 - val_loss: 0.7584 - val_acc: 0.7211\n",
      "Epoch 10/20\n",
      "1379/1379 [==============================] - 16s 11ms/step - loss: 0.7621 - acc: 0.7265 - val_loss: 0.7645 - val_acc: 0.7297\n",
      "Epoch 11/20\n",
      "1378/1379 [============================>.] - ETA: 0s - loss: 0.7584 - acc: 0.7290\n",
      "Epoch 00011: ReduceLROnPlateau reducing learning rate to 4.0000001899898055e-05.\n",
      "1379/1379 [==============================] - 16s 11ms/step - loss: 0.7584 - acc: 0.7290 - val_loss: 0.7669 - val_acc: 0.7249\n",
      "Epoch 12/20\n",
      "1379/1379 [==============================] - 16s 11ms/step - loss: 0.7354 - acc: 0.7391 - val_loss: 0.7343 - val_acc: 0.7292\n",
      "Epoch 13/20\n",
      "1379/1379 [==============================] - 16s 11ms/step - loss: 0.7331 - acc: 0.7406 - val_loss: 0.7300 - val_acc: 0.7377\n",
      "Epoch 14/20\n",
      "1379/1379 [==============================] - 16s 11ms/step - loss: 0.7319 - acc: 0.7408 - val_loss: 0.7310 - val_acc: 0.7375\n",
      "Epoch 15/20\n",
      "1379/1379 [==============================] - 16s 11ms/step - loss: 0.7305 - acc: 0.7422 - val_loss: 0.7268 - val_acc: 0.7354\n",
      "Epoch 16/20\n",
      "1379/1379 [==============================] - 16s 11ms/step - loss: 0.7291 - acc: 0.7414 - val_loss: 0.7253 - val_acc: 0.7392\n",
      "Epoch 17/20\n",
      "1379/1379 [==============================] - 16s 11ms/step - loss: 0.7273 - acc: 0.7422 - val_loss: 0.7249 - val_acc: 0.7397\n",
      "Epoch 18/20\n",
      "1379/1379 [==============================] - 16s 11ms/step - loss: 0.7264 - acc: 0.7420 - val_loss: 0.7215 - val_acc: 0.7411\n",
      "Epoch 19/20\n",
      "1379/1379 [==============================] - 16s 11ms/step - loss: 0.7248 - acc: 0.7447 - val_loss: 0.7226 - val_acc: 0.7415\n",
      "Epoch 20/20\n",
      "1376/1379 [============================>.] - ETA: 0s - loss: 0.7237 - acc: 0.7439\n",
      "Epoch 00020: ReduceLROnPlateau reducing learning rate to 8.000000525498762e-06.\n",
      "1379/1379 [==============================] - 16s 12ms/step - loss: 0.7238 - acc: 0.7438 - val_loss: 0.7250 - val_acc: 0.7364\n",
      "*********************************************\n",
      "Model training accuracy: 0.7438321709632874\n",
      "Model validation accuracy: 0.7249664664268494\n",
      "Model training loss: 0.7438321709632874\n",
      "Model validation loss: 0.7249664664268494\n",
      "*********************************************\n",
      "Model testing accuracy: 0.6292857142857143\n",
      "Model testing precision: 0.8102240928168551\n",
      "Model testing recall: 0.6292857142857143\n",
      "Model testing hamming loss: 0.04977142857142857\n"
     ]
    },
    {
     "data": {
      "image/png": "[encoded data removed]",
      "text/plain": [
       "<Figure size 432x288 with 1 Axes>"
      ]
     },
     "metadata": {
      "needs_background": "light",
      "tags": []
     },
     "output_type": "display_data"
    },
    {
     "data": {
      "image/png": "[encoded data removed]",
      "text/plain": [
       "<Figure size 432x288 with 1 Axes>"
      ]
     },
     "metadata": {
      "needs_background": "light",
      "tags": []
     },
     "output_type": "display_data"
    },
    {
     "name": "stdout",
     "output_type": "stream",
     "text": [
      "*****************************\n",
      "Experiment 2 ends\n",
      "*****************************\n",
      "*****************************\n",
      "Experiment 3 starts\n",
      "*****************************\n",
      "(44100, 28, 28) (44100,)\n",
      "(18900, 28, 28) (18900,)\n",
      "(7000, 28, 28) (7000,)\n",
      "x_train_X shape: (44100, 28, 28)\n",
      "x_valid_X shape: (18900, 28, 28)\n",
      "x_test_X shape: (7000, 28, 28)\n",
      "<<< VGG Model is prepared >>>\n",
      "Model: \"functional_1\"\n",
      "_________________________________________________________________\n",
      "Layer (type)                 Output Shape              Param #   \n",
      "=================================================================\n",
      "input_1 (InputLayer)         [(None, 48, 48, 3)]       0         \n",
      "_________________________________________________________________\n",
      "block1_conv1 (Conv2D)        (None, 48, 48, 64)        1792      \n",
      "_________________________________________________________________\n",
      "block1_conv2 (Conv2D)        (None, 48, 48, 64)        36928     \n",
      "_________________________________________________________________\n",
      "block1_pool (MaxPooling2D)   (None, 24, 24, 64)        0         \n",
      "_________________________________________________________________\n",
      "block2_conv1 (Conv2D)        (None, 24, 24, 128)       73856     \n",
      "_________________________________________________________________\n",
      "block2_conv2 (Conv2D)        (None, 24, 24, 128)       147584    \n",
      "_________________________________________________________________\n",
      "block2_pool (MaxPooling2D)   (None, 12, 12, 128)       0         \n",
      "_________________________________________________________________\n",
      "block3_conv1 (Conv2D)        (None, 12, 12, 256)       295168    \n",
      "_________________________________________________________________\n",
      "block3_conv2 (Conv2D)        (None, 12, 12, 256)       590080    \n",
      "_________________________________________________________________\n",
      "block3_conv3 (Conv2D)        (None, 12, 12, 256)       590080    \n",
      "_________________________________________________________________\n",
      "block3_pool (MaxPooling2D)   (None, 6, 6, 256)         0         \n",
      "_________________________________________________________________\n",
      "block4_conv1 (Conv2D)        (None, 6, 6, 512)         1180160   \n",
      "_________________________________________________________________\n",
      "block4_conv2 (Conv2D)        (None, 6, 6, 512)         2359808   \n",
      "_________________________________________________________________\n",
      "block4_conv3 (Conv2D)        (None, 6, 6, 512)         2359808   \n",
      "_________________________________________________________________\n",
      "block4_pool (MaxPooling2D)   (None, 3, 3, 512)         0         \n",
      "_________________________________________________________________\n",
      "block5_conv1 (Conv2D)        (None, 3, 3, 512)         2359808   \n",
      "_________________________________________________________________\n",
      "block5_conv2 (Conv2D)        (None, 3, 3, 512)         2359808   \n",
      "_________________________________________________________________\n",
      "block5_conv3 (Conv2D)        (None, 3, 3, 512)         2359808   \n",
      "_________________________________________________________________\n",
      "block5_pool (MaxPooling2D)   (None, 1, 1, 512)         0         \n",
      "_________________________________________________________________\n",
      "flatten (Flatten)            (None, 512)               0         \n",
      "_________________________________________________________________\n",
      "dense (Dense)                (None, 1000)              513000    \n",
      "_________________________________________________________________\n",
      "dense_1 (Dense)              (None, 10)                10010     \n",
      "=================================================================\n",
      "Total params: 15,237,698\n",
      "Trainable params: 15,237,698\n",
      "Non-trainable params: 0\n",
      "_________________________________________________________________\n",
      "Epoch 1/20\n",
      "1379/1379 [==============================] - 16s 12ms/step - loss: 1.4901 - acc: 0.4602 - val_loss: 1.1228 - val_acc: 0.6071\n",
      "Epoch 2/20\n",
      "1379/1379 [==============================] - 16s 11ms/step - loss: 1.0543 - acc: 0.6148 - val_loss: 0.9629 - val_acc: 0.6507\n",
      "Epoch 3/20\n",
      "1379/1379 [==============================] - 16s 11ms/step - loss: 0.9616 - acc: 0.6481 - val_loss: 0.9298 - val_acc: 0.6697\n",
      "Epoch 4/20\n",
      "1379/1379 [==============================] - 16s 11ms/step - loss: 0.9132 - acc: 0.6640 - val_loss: 0.8878 - val_acc: 0.6731\n",
      "Epoch 5/20\n",
      "1379/1379 [==============================] - 16s 11ms/step - loss: 0.8867 - acc: 0.6740 - val_loss: 0.8747 - val_acc: 0.6796\n",
      "Epoch 6/20\n",
      "1379/1379 [==============================] - 16s 11ms/step - loss: 0.8655 - acc: 0.6825 - val_loss: 0.8506 - val_acc: 0.6766\n",
      "Epoch 7/20\n",
      "1379/1379 [==============================] - 16s 11ms/step - loss: 0.8475 - acc: 0.6893 - val_loss: 0.8504 - val_acc: 0.6781\n",
      "Epoch 8/20\n",
      "1379/1379 [==============================] - 16s 11ms/step - loss: 0.8375 - acc: 0.6940 - val_loss: 0.9286 - val_acc: 0.6416\n",
      "Epoch 9/20\n",
      "1379/1379 [==============================] - 16s 11ms/step - loss: 0.8226 - acc: 0.7002 - val_loss: 0.8311 - val_acc: 0.6981\n",
      "Epoch 10/20\n",
      "1379/1379 [==============================] - 16s 11ms/step - loss: 0.8168 - acc: 0.7009 - val_loss: 0.8295 - val_acc: 0.6848\n",
      "Epoch 11/20\n",
      "1379/1379 [==============================] - 16s 11ms/step - loss: 0.8030 - acc: 0.7078 - val_loss: 0.8804 - val_acc: 0.6732\n",
      "Epoch 12/20\n",
      "1379/1379 [==============================] - 16s 11ms/step - loss: 0.7955 - acc: 0.7105 - val_loss: 0.8142 - val_acc: 0.7108\n",
      "Epoch 13/20\n",
      "1379/1379 [==============================] - 16s 11ms/step - loss: 0.7881 - acc: 0.7130 - val_loss: 0.8017 - val_acc: 0.7060\n",
      "Epoch 14/20\n",
      "1379/1379 [==============================] - 16s 11ms/step - loss: 0.7797 - acc: 0.7154 - val_loss: 0.8508 - val_acc: 0.6889\n",
      "Epoch 15/20\n",
      "1379/1379 [==============================] - ETA: 0s - loss: 0.7762 - acc: 0.7182\n",
      "Epoch 00015: ReduceLROnPlateau reducing learning rate to 0.00020000000949949026.\n",
      "1379/1379 [==============================] - 16s 11ms/step - loss: 0.7762 - acc: 0.7182 - val_loss: 0.8074 - val_acc: 0.7010\n",
      "Epoch 16/20\n",
      "1379/1379 [==============================] - 16s 11ms/step - loss: 0.7157 - acc: 0.7455 - val_loss: 0.7270 - val_acc: 0.7375\n",
      "Epoch 17/20\n",
      "1379/1379 [==============================] - 16s 11ms/step - loss: 0.7119 - acc: 0.7464 - val_loss: 0.7149 - val_acc: 0.7438\n",
      "Epoch 18/20\n",
      "1379/1379 [==============================] - 16s 11ms/step - loss: 0.7103 - acc: 0.7461 - val_loss: 0.7136 - val_acc: 0.7445\n",
      "Epoch 19/20\n",
      "1379/1379 [==============================] - 16s 12ms/step - loss: 0.7059 - acc: 0.7476 - val_loss: 0.7014 - val_acc: 0.7516\n",
      "Epoch 20/20\n",
      "1379/1379 [==============================] - 16s 11ms/step - loss: 0.7057 - acc: 0.7480 - val_loss: 0.6961 - val_acc: 0.7532\n",
      "*********************************************\n",
      "Model training accuracy: 0.74798184633255\n",
      "Model validation accuracy: 0.696053683757782\n",
      "Model training loss: 0.74798184633255\n",
      "Model validation loss: 0.696053683757782\n",
      "*********************************************\n",
      "Model testing accuracy: 0.6481428571428571\n",
      "Model testing precision: 0.8161415653211355\n",
      "Model testing recall: 0.6481428571428571\n",
      "Model testing hamming loss: 0.04792857142857143\n"
     ]
    },
    {
     "data": {
      "image/png": "[encoded data removed]",
      "text/plain": [
       "<Figure size 432x288 with 1 Axes>"
      ]
     },
     "metadata": {
      "needs_background": "light",
      "tags": []
     },
     "output_type": "display_data"
    },
    {
     "data": {
      "image/png": "[encoded data removed]",
      "text/plain": [
       "<Figure size 432x288 with 1 Axes>"
      ]
     },
     "metadata": {
      "needs_background": "light",
      "tags": []
     },
     "output_type": "display_data"
    },
    {
     "name": "stdout",
     "output_type": "stream",
     "text": [
      "*****************************\n",
      "Experiment 3 ends\n",
      "*****************************\n",
      "*****************************\n",
      "Experiment 4 starts\n",
      "*****************************\n",
      "(44100, 28, 28) (44100,)\n",
      "(18900, 28, 28) (18900,)\n",
      "(7000, 28, 28) (7000,)\n",
      "x_train_X shape: (44100, 28, 28)\n",
      "x_valid_X shape: (18900, 28, 28)\n",
      "x_test_X shape: (7000, 28, 28)\n",
      "<<< VGG Model is prepared >>>\n",
      "Model: \"functional_1\"\n",
      "_________________________________________________________________\n",
      "Layer (type)                 Output Shape              Param #   \n",
      "=================================================================\n",
      "input_1 (InputLayer)         [(None, 48, 48, 3)]       0         \n",
      "_________________________________________________________________\n",
      "block1_conv1 (Conv2D)        (None, 48, 48, 64)        1792      \n",
      "_________________________________________________________________\n",
      "block1_conv2 (Conv2D)        (None, 48, 48, 64)        36928     \n",
      "_________________________________________________________________\n",
      "block1_pool (MaxPooling2D)   (None, 24, 24, 64)        0         \n",
      "_________________________________________________________________\n",
      "block2_conv1 (Conv2D)        (None, 24, 24, 128)       73856     \n",
      "_________________________________________________________________\n",
      "block2_conv2 (Conv2D)        (None, 24, 24, 128)       147584    \n",
      "_________________________________________________________________\n",
      "block2_pool (MaxPooling2D)   (None, 12, 12, 128)       0         \n",
      "_________________________________________________________________\n",
      "block3_conv1 (Conv2D)        (None, 12, 12, 256)       295168    \n",
      "_________________________________________________________________\n",
      "block3_conv2 (Conv2D)        (None, 12, 12, 256)       590080    \n",
      "_________________________________________________________________\n",
      "block3_conv3 (Conv2D)        (None, 12, 12, 256)       590080    \n",
      "_________________________________________________________________\n",
      "block3_pool (MaxPooling2D)   (None, 6, 6, 256)         0         \n",
      "_________________________________________________________________\n",
      "block4_conv1 (Conv2D)        (None, 6, 6, 512)         1180160   \n",
      "_________________________________________________________________\n",
      "block4_conv2 (Conv2D)        (None, 6, 6, 512)         2359808   \n",
      "_________________________________________________________________\n",
      "block4_conv3 (Conv2D)        (None, 6, 6, 512)         2359808   \n",
      "_________________________________________________________________\n",
      "block4_pool (MaxPooling2D)   (None, 3, 3, 512)         0         \n",
      "_________________________________________________________________\n",
      "block5_conv1 (Conv2D)        (None, 3, 3, 512)         2359808   \n",
      "_________________________________________________________________\n",
      "block5_conv2 (Conv2D)        (None, 3, 3, 512)         2359808   \n",
      "_________________________________________________________________\n",
      "block5_conv3 (Conv2D)        (None, 3, 3, 512)         2359808   \n",
      "_________________________________________________________________\n",
      "block5_pool (MaxPooling2D)   (None, 1, 1, 512)         0         \n",
      "_________________________________________________________________\n",
      "flatten (Flatten)            (None, 512)               0         \n",
      "_________________________________________________________________\n",
      "dense (Dense)                (None, 1000)              513000    \n",
      "_________________________________________________________________\n",
      "dense_1 (Dense)              (None, 10)                10010     \n",
      "=================================================================\n",
      "Total params: 15,237,698\n",
      "Trainable params: 15,237,698\n",
      "Non-trainable params: 0\n",
      "_________________________________________________________________\n",
      "Epoch 1/20\n",
      "1379/1379 [==============================] - 16s 12ms/step - loss: 1.4708 - acc: 0.4607 - val_loss: 1.0936 - val_acc: 0.5862\n",
      "Epoch 2/20\n",
      "1379/1379 [==============================] - 16s 11ms/step - loss: 1.0555 - acc: 0.6116 - val_loss: 0.9296 - val_acc: 0.6719\n",
      "Epoch 3/20\n",
      "1379/1379 [==============================] - 16s 11ms/step - loss: 0.9621 - acc: 0.6454 - val_loss: 0.9527 - val_acc: 0.6383\n",
      "Epoch 4/20\n",
      "1379/1379 [==============================] - 16s 11ms/step - loss: 0.9134 - acc: 0.6647 - val_loss: 0.8251 - val_acc: 0.7081\n",
      "Epoch 5/20\n",
      "1379/1379 [==============================] - 16s 11ms/step - loss: 0.8843 - acc: 0.6739 - val_loss: 0.8891 - val_acc: 0.6740\n",
      "Epoch 6/20\n",
      "1374/1379 [============================>.] - ETA: 0s - loss: 0.8640 - acc: 0.6843\n",
      "Epoch 00006: ReduceLROnPlateau reducing learning rate to 0.00020000000949949026.\n",
      "1379/1379 [==============================] - 16s 11ms/step - loss: 0.8641 - acc: 0.6841 - val_loss: 0.8285 - val_acc: 0.6960\n",
      "Epoch 7/20\n",
      "1379/1379 [==============================] - 16s 11ms/step - loss: 0.7854 - acc: 0.7200 - val_loss: 0.7873 - val_acc: 0.7123\n",
      "Epoch 8/20\n",
      "1379/1379 [==============================] - 16s 11ms/step - loss: 0.7749 - acc: 0.7234 - val_loss: 0.7825 - val_acc: 0.7106\n",
      "Epoch 9/20\n",
      "1379/1379 [==============================] - 16s 11ms/step - loss: 0.7680 - acc: 0.7246 - val_loss: 0.7834 - val_acc: 0.7165\n",
      "Epoch 10/20\n",
      "1379/1379 [==============================] - 16s 11ms/step - loss: 0.7608 - acc: 0.7277 - val_loss: 0.7536 - val_acc: 0.7305\n",
      "Epoch 11/20\n",
      "1379/1379 [==============================] - 16s 11ms/step - loss: 0.7548 - acc: 0.7321 - val_loss: 0.7431 - val_acc: 0.7368\n",
      "Epoch 12/20\n",
      "1379/1379 [==============================] - 16s 11ms/step - loss: 0.7497 - acc: 0.7318 - val_loss: 0.7411 - val_acc: 0.7357\n",
      "Epoch 13/20\n",
      "1379/1379 [==============================] - 16s 11ms/step - loss: 0.7472 - acc: 0.7339 - val_loss: 0.7399 - val_acc: 0.7355\n",
      "Epoch 14/20\n",
      "1379/1379 [==============================] - 16s 11ms/step - loss: 0.7401 - acc: 0.7349 - val_loss: 0.7522 - val_acc: 0.7193\n",
      "Epoch 15/20\n",
      "1379/1379 [==============================] - 16s 11ms/step - loss: 0.7372 - acc: 0.7361 - val_loss: 0.7222 - val_acc: 0.7416\n",
      "Epoch 16/20\n",
      "1379/1379 [==============================] - 16s 11ms/step - loss: 0.7309 - acc: 0.7396 - val_loss: 0.7239 - val_acc: 0.7430\n",
      "Epoch 17/20\n",
      "1379/1379 [==============================] - 16s 12ms/step - loss: 0.7265 - acc: 0.7398 - val_loss: 0.7150 - val_acc: 0.7413\n",
      "Epoch 18/20\n",
      "1379/1379 [==============================] - 17s 12ms/step - loss: 0.7252 - acc: 0.7401 - val_loss: 0.7173 - val_acc: 0.7468\n",
      "Epoch 19/20\n",
      "1379/1379 [==============================] - 16s 11ms/step - loss: 0.7217 - acc: 0.7407 - val_loss: 0.7094 - val_acc: 0.7454\n",
      "Epoch 20/20\n",
      "1379/1379 [==============================] - 16s 11ms/step - loss: 0.7192 - acc: 0.7407 - val_loss: 0.7161 - val_acc: 0.7415\n",
      "*********************************************\n",
      "Model training accuracy: 0.7407029271125793\n",
      "Model validation accuracy: 0.7160684466362\n",
      "Model training loss: 0.7407029271125793\n",
      "Model validation loss: 0.7160684466362\n",
      "*********************************************\n",
      "Model testing accuracy: 0.6474285714285715\n",
      "Model testing precision: 0.8010489563761477\n",
      "Model testing recall: 0.6474285714285715\n",
      "Model testing hamming loss: 0.0495\n"
     ]
    },
    {
     "data": {
      "image/png": "[encoded data removed]",
      "text/plain": [
       "<Figure size 432x288 with 1 Axes>"
      ]
     },
     "metadata": {
      "needs_background": "light",
      "tags": []
     },
     "output_type": "display_data"
    },
    {
     "data": {
      "image/png": "[encoded data removed]",
      "text/plain": [
       "<Figure size 432x288 with 1 Axes>"
      ]
     },
     "metadata": {
      "needs_background": "light",
      "tags": []
     },
     "output_type": "display_data"
    },
    {
     "name": "stdout",
     "output_type": "stream",
     "text": [
      "*****************************\n",
      "Experiment 4 ends\n",
      "*****************************\n",
      "*****************************\n",
      "Experiment 5 starts\n",
      "*****************************\n",
      "(44100, 28, 28) (44100,)\n",
      "(18900, 28, 28) (18900,)\n",
      "(7000, 28, 28) (7000,)\n",
      "x_train_X shape: (44100, 28, 28)\n",
      "x_valid_X shape: (18900, 28, 28)\n",
      "x_test_X shape: (7000, 28, 28)\n",
      "<<< VGG Model is prepared >>>\n",
      "Model: \"functional_1\"\n",
      "_________________________________________________________________\n",
      "Layer (type)                 Output Shape              Param #   \n",
      "=================================================================\n",
      "input_1 (InputLayer)         [(None, 48, 48, 3)]       0         \n",
      "_________________________________________________________________\n",
      "block1_conv1 (Conv2D)        (None, 48, 48, 64)        1792      \n",
      "_________________________________________________________________\n",
      "block1_conv2 (Conv2D)        (None, 48, 48, 64)        36928     \n",
      "_________________________________________________________________\n",
      "block1_pool (MaxPooling2D)   (None, 24, 24, 64)        0         \n",
      "_________________________________________________________________\n",
      "block2_conv1 (Conv2D)        (None, 24, 24, 128)       73856     \n",
      "_________________________________________________________________\n",
      "block2_conv2 (Conv2D)        (None, 24, 24, 128)       147584    \n",
      "_________________________________________________________________\n",
      "block2_pool (MaxPooling2D)   (None, 12, 12, 128)       0         \n",
      "_________________________________________________________________\n",
      "block3_conv1 (Conv2D)        (None, 12, 12, 256)       295168    \n",
      "_________________________________________________________________\n",
      "block3_conv2 (Conv2D)        (None, 12, 12, 256)       590080    \n",
      "_________________________________________________________________\n",
      "block3_conv3 (Conv2D)        (None, 12, 12, 256)       590080    \n",
      "_________________________________________________________________\n",
      "block3_pool (MaxPooling2D)   (None, 6, 6, 256)         0         \n",
      "_________________________________________________________________\n",
      "block4_conv1 (Conv2D)        (None, 6, 6, 512)         1180160   \n",
      "_________________________________________________________________\n",
      "block4_conv2 (Conv2D)        (None, 6, 6, 512)         2359808   \n",
      "_________________________________________________________________\n",
      "block4_conv3 (Conv2D)        (None, 6, 6, 512)         2359808   \n",
      "_________________________________________________________________\n",
      "block4_pool (MaxPooling2D)   (None, 3, 3, 512)         0         \n",
      "_________________________________________________________________\n",
      "block5_conv1 (Conv2D)        (None, 3, 3, 512)         2359808   \n",
      "_________________________________________________________________\n",
      "block5_conv2 (Conv2D)        (None, 3, 3, 512)         2359808   \n",
      "_________________________________________________________________\n",
      "block5_conv3 (Conv2D)        (None, 3, 3, 512)         2359808   \n",
      "_________________________________________________________________\n",
      "block5_pool (MaxPooling2D)   (None, 1, 1, 512)         0         \n",
      "_________________________________________________________________\n",
      "flatten (Flatten)            (None, 512)               0         \n",
      "_________________________________________________________________\n",
      "dense (Dense)                (None, 1000)              513000    \n",
      "_________________________________________________________________\n",
      "dense_1 (Dense)              (None, 10)                10010     \n",
      "=================================================================\n",
      "Total params: 15,237,698\n",
      "Trainable params: 15,237,698\n",
      "Non-trainable params: 0\n",
      "_________________________________________________________________\n",
      "Epoch 1/20\n",
      "1379/1379 [==============================] - 16s 12ms/step - loss: 1.4748 - acc: 0.4665 - val_loss: 1.1210 - val_acc: 0.5847\n",
      "Epoch 2/20\n",
      "1379/1379 [==============================] - 16s 11ms/step - loss: 1.0476 - acc: 0.6162 - val_loss: 1.0380 - val_acc: 0.6143\n",
      "Epoch 3/20\n",
      "1379/1379 [==============================] - 16s 11ms/step - loss: 0.9595 - acc: 0.6472 - val_loss: 0.8675 - val_acc: 0.6970\n",
      "Epoch 4/20\n",
      "1379/1379 [==============================] - 16s 11ms/step - loss: 0.9128 - acc: 0.6674 - val_loss: 0.8826 - val_acc: 0.6890\n",
      "Epoch 5/20\n",
      "1379/1379 [==============================] - 16s 11ms/step - loss: 0.8939 - acc: 0.6692 - val_loss: 0.8669 - val_acc: 0.6759\n",
      "Epoch 6/20\n",
      "1379/1379 [==============================] - 16s 11ms/step - loss: 0.8545 - acc: 0.6847 - val_loss: 0.9061 - val_acc: 0.6767\n",
      "Epoch 7/20\n",
      "1379/1379 [==============================] - 16s 11ms/step - loss: 0.8518 - acc: 0.6895 - val_loss: 0.8603 - val_acc: 0.6901\n",
      "Epoch 8/20\n",
      "1379/1379 [==============================] - 16s 11ms/step - loss: 0.8286 - acc: 0.6971 - val_loss: 0.7991 - val_acc: 0.7068\n",
      "Epoch 9/20\n",
      "1379/1379 [==============================] - 16s 11ms/step - loss: 0.8198 - acc: 0.6993 - val_loss: 0.7999 - val_acc: 0.7033\n",
      "Epoch 10/20\n",
      "1377/1379 [============================>.] - ETA: 0s - loss: 0.8075 - acc: 0.7057\n",
      "Epoch 00010: ReduceLROnPlateau reducing learning rate to 0.00020000000949949026.\n",
      "1379/1379 [==============================] - 16s 11ms/step - loss: 0.8078 - acc: 0.7057 - val_loss: 0.9594 - val_acc: 0.6539\n",
      "Epoch 11/20\n",
      "1379/1379 [==============================] - 16s 11ms/step - loss: 0.7371 - acc: 0.7368 - val_loss: 0.7457 - val_acc: 0.7326\n",
      "Epoch 12/20\n",
      "1379/1379 [==============================] - 16s 11ms/step - loss: 0.7308 - acc: 0.7391 - val_loss: 0.7345 - val_acc: 0.7377\n",
      "Epoch 13/20\n",
      "1379/1379 [==============================] - 16s 11ms/step - loss: 0.7273 - acc: 0.7397 - val_loss: 0.7625 - val_acc: 0.7291\n",
      "Epoch 14/20\n",
      "1379/1379 [==============================] - 16s 11ms/step - loss: 0.7239 - acc: 0.7409 - val_loss: 0.7246 - val_acc: 0.7424\n",
      "Epoch 15/20\n",
      "1379/1379 [==============================] - 16s 12ms/step - loss: 0.7203 - acc: 0.7433 - val_loss: 0.7307 - val_acc: 0.7356\n",
      "Epoch 16/20\n",
      "1375/1379 [============================>.] - ETA: 0s - loss: 0.7164 - acc: 0.7433\n",
      "Epoch 00016: ReduceLROnPlateau reducing learning rate to 4.0000001899898055e-05.\n",
      "1379/1379 [==============================] - 16s 12ms/step - loss: 0.7163 - acc: 0.7432 - val_loss: 0.7290 - val_acc: 0.7367\n",
      "Epoch 17/20\n",
      "1379/1379 [==============================] - 16s 12ms/step - loss: 0.6997 - acc: 0.7531 - val_loss: 0.7099 - val_acc: 0.7476\n",
      "Epoch 18/20\n",
      "1379/1379 [==============================] - 16s 11ms/step - loss: 0.6977 - acc: 0.7534 - val_loss: 0.7072 - val_acc: 0.7454\n",
      "Epoch 19/20\n",
      "1379/1379 [==============================] - 16s 11ms/step - loss: 0.6970 - acc: 0.7533 - val_loss: 0.7066 - val_acc: 0.7466\n",
      "Epoch 20/20\n",
      "1379/1379 [==============================] - 16s 11ms/step - loss: 0.6958 - acc: 0.7534 - val_loss: 0.7084 - val_acc: 0.7462\n",
      "*********************************************\n",
      "Model training accuracy: 0.7533559799194336\n",
      "Model validation accuracy: 0.7083562612533569\n",
      "Model training loss: 0.7533559799194336\n",
      "Model validation loss: 0.7083562612533569\n",
      "*********************************************\n",
      "Model testing accuracy: 0.6521428571428571\n",
      "Model testing precision: 0.8168091444036779\n",
      "Model testing recall: 0.6521428571428571\n",
      "Model testing hamming loss: 0.04745714285714286\n"
     ]
    },
    {
     "data": {
      "image/png": "[encoded data removed]",
      "text/plain": [
       "<Figure size 432x288 with 1 Axes>"
      ]
     },
     "metadata": {
      "needs_background": "light",
      "tags": []
     },
     "output_type": "display_data"
    },
    {
     "data": {
      "image/png": "[encoded data removed]",
      "text/plain": [
       "<Figure size 432x288 with 1 Axes>"
      ]
     },
     "metadata": {
      "needs_background": "light",
      "tags": []
     },
     "output_type": "display_data"
    },
    {
     "name": "stdout",
     "output_type": "stream",
     "text": [
      "*****************************\n",
      "Experiment 5 ends\n",
      "*****************************\n",
      "*****************************\n",
      "Experiment 6 starts\n",
      "*****************************\n",
      "(44100, 28, 28) (44100,)\n",
      "(18900, 28, 28) (18900,)\n",
      "(7000, 28, 28) (7000,)\n",
      "x_train_X shape: (44100, 28, 28)\n",
      "x_valid_X shape: (18900, 28, 28)\n",
      "x_test_X shape: (7000, 28, 28)\n",
      "<<< VGG Model is prepared >>>\n",
      "Model: \"functional_1\"\n",
      "_________________________________________________________________\n",
      "Layer (type)                 Output Shape              Param #   \n",
      "=================================================================\n",
      "input_1 (InputLayer)         [(None, 48, 48, 3)]       0         \n",
      "_________________________________________________________________\n",
      "block1_conv1 (Conv2D)        (None, 48, 48, 64)        1792      \n",
      "_________________________________________________________________\n",
      "block1_conv2 (Conv2D)        (None, 48, 48, 64)        36928     \n",
      "_________________________________________________________________\n",
      "block1_pool (MaxPooling2D)   (None, 24, 24, 64)        0         \n",
      "_________________________________________________________________\n",
      "block2_conv1 (Conv2D)        (None, 24, 24, 128)       73856     \n",
      "_________________________________________________________________\n",
      "block2_conv2 (Conv2D)        (None, 24, 24, 128)       147584    \n",
      "_________________________________________________________________\n",
      "block2_pool (MaxPooling2D)   (None, 12, 12, 128)       0         \n",
      "_________________________________________________________________\n",
      "block3_conv1 (Conv2D)        (None, 12, 12, 256)       295168    \n",
      "_________________________________________________________________\n",
      "block3_conv2 (Conv2D)        (None, 12, 12, 256)       590080    \n",
      "_________________________________________________________________\n",
      "block3_conv3 (Conv2D)        (None, 12, 12, 256)       590080    \n",
      "_________________________________________________________________\n",
      "block3_pool (MaxPooling2D)   (None, 6, 6, 256)         0         \n",
      "_________________________________________________________________\n",
      "block4_conv1 (Conv2D)        (None, 6, 6, 512)         1180160   \n",
      "_________________________________________________________________\n",
      "block4_conv2 (Conv2D)        (None, 6, 6, 512)         2359808   \n",
      "_________________________________________________________________\n",
      "block4_conv3 (Conv2D)        (None, 6, 6, 512)         2359808   \n",
      "_________________________________________________________________\n",
      "block4_pool (MaxPooling2D)   (None, 3, 3, 512)         0         \n",
      "_________________________________________________________________\n",
      "block5_conv1 (Conv2D)        (None, 3, 3, 512)         2359808   \n",
      "_________________________________________________________________\n",
      "block5_conv2 (Conv2D)        (None, 3, 3, 512)         2359808   \n",
      "_________________________________________________________________\n",
      "block5_conv3 (Conv2D)        (None, 3, 3, 512)         2359808   \n",
      "_________________________________________________________________\n",
      "block5_pool (MaxPooling2D)   (None, 1, 1, 512)         0         \n",
      "_________________________________________________________________\n",
      "flatten (Flatten)            (None, 512)               0         \n",
      "_________________________________________________________________\n",
      "dense (Dense)                (None, 1000)              513000    \n",
      "_________________________________________________________________\n",
      "dense_1 (Dense)              (None, 10)                10010     \n",
      "=================================================================\n",
      "Total params: 15,237,698\n",
      "Trainable params: 15,237,698\n",
      "Non-trainable params: 0\n",
      "_________________________________________________________________\n",
      "Epoch 1/20\n",
      "1379/1379 [==============================] - 16s 12ms/step - loss: 1.4655 - acc: 0.4605 - val_loss: 1.1193 - val_acc: 0.5871\n",
      "Epoch 2/20\n",
      "1379/1379 [==============================] - 16s 11ms/step - loss: 1.0545 - acc: 0.6133 - val_loss: 0.9731 - val_acc: 0.6392\n",
      "Epoch 3/20\n",
      "1379/1379 [==============================] - 16s 11ms/step - loss: 0.9521 - acc: 0.6534 - val_loss: 0.9011 - val_acc: 0.6738\n",
      "Epoch 4/20\n",
      "1379/1379 [==============================] - 16s 11ms/step - loss: 0.9119 - acc: 0.6637 - val_loss: 0.9113 - val_acc: 0.6448\n",
      "Epoch 5/20\n",
      "1378/1379 [============================>.] - ETA: 0s - loss: 0.8897 - acc: 0.6717\n",
      "Epoch 00005: ReduceLROnPlateau reducing learning rate to 0.00020000000949949026.\n",
      "1379/1379 [==============================] - 16s 11ms/step - loss: 0.8897 - acc: 0.6717 - val_loss: 0.9035 - val_acc: 0.6678\n",
      "Epoch 6/20\n",
      "1379/1379 [==============================] - 16s 11ms/step - loss: 0.7965 - acc: 0.7155 - val_loss: 0.8079 - val_acc: 0.7128\n",
      "Epoch 7/20\n",
      "1379/1379 [==============================] - 16s 11ms/step - loss: 0.7868 - acc: 0.7193 - val_loss: 0.8002 - val_acc: 0.7122\n",
      "Epoch 8/20\n",
      "1379/1379 [==============================] - 16s 11ms/step - loss: 0.7783 - acc: 0.7225 - val_loss: 0.7832 - val_acc: 0.7198\n",
      "Epoch 9/20\n",
      "1379/1379 [==============================] - 16s 11ms/step - loss: 0.7729 - acc: 0.7223 - val_loss: 0.7578 - val_acc: 0.7297\n",
      "Epoch 10/20\n",
      "1379/1379 [==============================] - 16s 11ms/step - loss: 0.7661 - acc: 0.7252 - val_loss: 0.7570 - val_acc: 0.7349\n",
      "Epoch 11/20\n",
      "1379/1379 [==============================] - 16s 11ms/step - loss: 0.7605 - acc: 0.7274 - val_loss: 0.7522 - val_acc: 0.7378\n",
      "Epoch 12/20\n",
      "1379/1379 [==============================] - 16s 11ms/step - loss: 0.7551 - acc: 0.7292 - val_loss: 0.7724 - val_acc: 0.7124\n",
      "Epoch 13/20\n",
      "1379/1379 [==============================] - ETA: 0s - loss: 0.7502 - acc: 0.7298\n",
      "Epoch 00013: ReduceLROnPlateau reducing learning rate to 4.0000001899898055e-05.\n",
      "1379/1379 [==============================] - 16s 11ms/step - loss: 0.7502 - acc: 0.7298 - val_loss: 0.7524 - val_acc: 0.7335\n",
      "Epoch 14/20\n",
      "1379/1379 [==============================] - 16s 11ms/step - loss: 0.7264 - acc: 0.7424 - val_loss: 0.7296 - val_acc: 0.7456\n",
      "Epoch 15/20\n",
      "1379/1379 [==============================] - 16s 12ms/step - loss: 0.7255 - acc: 0.7428 - val_loss: 0.7266 - val_acc: 0.7446\n",
      "Epoch 16/20\n",
      "1379/1379 [==============================] - 16s 11ms/step - loss: 0.7231 - acc: 0.7430 - val_loss: 0.7227 - val_acc: 0.7481\n",
      "Epoch 17/20\n",
      "1379/1379 [==============================] - 16s 11ms/step - loss: 0.7222 - acc: 0.7436 - val_loss: 0.7231 - val_acc: 0.7467\n",
      "Epoch 18/20\n",
      "1379/1379 [==============================] - 16s 11ms/step - loss: 0.7211 - acc: 0.7434 - val_loss: 0.7224 - val_acc: 0.7485\n",
      "Epoch 19/20\n",
      "1379/1379 [==============================] - 16s 11ms/step - loss: 0.7204 - acc: 0.7439 - val_loss: 0.7188 - val_acc: 0.7490\n",
      "Epoch 20/20\n",
      "1379/1379 [==============================] - 16s 11ms/step - loss: 0.7186 - acc: 0.7449 - val_loss: 0.7191 - val_acc: 0.7496\n",
      "*********************************************\n",
      "Model training accuracy: 0.7448753118515015\n",
      "Model validation accuracy: 0.7191348671913147\n",
      "Model training loss: 0.7448753118515015\n",
      "Model validation loss: 0.7191348671913147\n",
      "*********************************************\n",
      "Model testing accuracy: 0.6365714285714286\n",
      "Model testing precision: 0.8106983160211175\n",
      "Model testing recall: 0.6365714285714286\n",
      "Model testing hamming loss: 0.04901428571428571\n"
     ]
    },
    {
     "data": {
      "image/png": "[encoded data removed]",
      "text/plain": [
       "<Figure size 432x288 with 1 Axes>"
      ]
     },
     "metadata": {
      "needs_background": "light",
      "tags": []
     },
     "output_type": "display_data"
    },
    {
     "data": {
      "image/png": "[encoded data removed]",
      "text/plain": [
       "<Figure size 432x288 with 1 Axes>"
      ]
     },
     "metadata": {
      "needs_background": "light",
      "tags": []
     },
     "output_type": "display_data"
    },
    {
     "name": "stdout",
     "output_type": "stream",
     "text": [
      "*****************************\n",
      "Experiment 6 ends\n",
      "*****************************\n",
      "*****************************\n",
      "Experiment 7 starts\n",
      "*****************************\n",
      "(44100, 28, 28) (44100,)\n",
      "(18900, 28, 28) (18900,)\n",
      "(7000, 28, 28) (7000,)\n",
      "x_train_X shape: (44100, 28, 28)\n",
      "x_valid_X shape: (18900, 28, 28)\n",
      "x_test_X shape: (7000, 28, 28)\n",
      "<<< VGG Model is prepared >>>\n",
      "Model: \"functional_1\"\n",
      "_________________________________________________________________\n",
      "Layer (type)                 Output Shape              Param #   \n",
      "=================================================================\n",
      "input_1 (InputLayer)         [(None, 48, 48, 3)]       0         \n",
      "_________________________________________________________________\n",
      "block1_conv1 (Conv2D)        (None, 48, 48, 64)        1792      \n",
      "_________________________________________________________________\n",
      "block1_conv2 (Conv2D)        (None, 48, 48, 64)        36928     \n",
      "_________________________________________________________________\n",
      "block1_pool (MaxPooling2D)   (None, 24, 24, 64)        0         \n",
      "_________________________________________________________________\n",
      "block2_conv1 (Conv2D)        (None, 24, 24, 128)       73856     \n",
      "_________________________________________________________________\n",
      "block2_conv2 (Conv2D)        (None, 24, 24, 128)       147584    \n",
      "_________________________________________________________________\n",
      "block2_pool (MaxPooling2D)   (None, 12, 12, 128)       0         \n",
      "_________________________________________________________________\n",
      "block3_conv1 (Conv2D)        (None, 12, 12, 256)       295168    \n",
      "_________________________________________________________________\n",
      "block3_conv2 (Conv2D)        (None, 12, 12, 256)       590080    \n",
      "_________________________________________________________________\n",
      "block3_conv3 (Conv2D)        (None, 12, 12, 256)       590080    \n",
      "_________________________________________________________________\n",
      "block3_pool (MaxPooling2D)   (None, 6, 6, 256)         0         \n",
      "_________________________________________________________________\n",
      "block4_conv1 (Conv2D)        (None, 6, 6, 512)         1180160   \n",
      "_________________________________________________________________\n",
      "block4_conv2 (Conv2D)        (None, 6, 6, 512)         2359808   \n",
      "_________________________________________________________________\n",
      "block4_conv3 (Conv2D)        (None, 6, 6, 512)         2359808   \n",
      "_________________________________________________________________\n",
      "block4_pool (MaxPooling2D)   (None, 3, 3, 512)         0         \n",
      "_________________________________________________________________\n",
      "block5_conv1 (Conv2D)        (None, 3, 3, 512)         2359808   \n",
      "_________________________________________________________________\n",
      "block5_conv2 (Conv2D)        (None, 3, 3, 512)         2359808   \n",
      "_________________________________________________________________\n",
      "block5_conv3 (Conv2D)        (None, 3, 3, 512)         2359808   \n",
      "_________________________________________________________________\n",
      "block5_pool (MaxPooling2D)   (None, 1, 1, 512)         0         \n",
      "_________________________________________________________________\n",
      "flatten (Flatten)            (None, 512)               0         \n",
      "_________________________________________________________________\n",
      "dense (Dense)                (None, 1000)              513000    \n",
      "_________________________________________________________________\n",
      "dense_1 (Dense)              (None, 10)                10010     \n",
      "=================================================================\n",
      "Total params: 15,237,698\n",
      "Trainable params: 15,237,698\n",
      "Non-trainable params: 0\n",
      "_________________________________________________________________\n",
      "Epoch 1/20\n",
      "1379/1379 [==============================] - 16s 12ms/step - loss: 1.4691 - acc: 0.4656 - val_loss: 1.1917 - val_acc: 0.5363\n",
      "Epoch 2/20\n",
      "1379/1379 [==============================] - 16s 11ms/step - loss: 1.0504 - acc: 0.6163 - val_loss: 0.9541 - val_acc: 0.6524\n",
      "Epoch 3/20\n",
      "1379/1379 [==============================] - 16s 11ms/step - loss: 0.9583 - acc: 0.6496 - val_loss: 1.1840 - val_acc: 0.5361\n",
      "Epoch 4/20\n",
      "1373/1379 [============================>.] - ETA: 0s - loss: 0.9148 - acc: 0.6635\n",
      "Epoch 00004: ReduceLROnPlateau reducing learning rate to 0.00020000000949949026.\n",
      "1379/1379 [==============================] - 16s 11ms/step - loss: 0.9144 - acc: 0.6636 - val_loss: 0.9810 - val_acc: 0.6326\n",
      "Epoch 5/20\n",
      "1379/1379 [==============================] - 16s 11ms/step - loss: 0.8200 - acc: 0.7116 - val_loss: 0.8076 - val_acc: 0.7118\n",
      "Epoch 6/20\n",
      "1379/1379 [==============================] - 16s 11ms/step - loss: 0.8082 - acc: 0.7127 - val_loss: 0.8260 - val_acc: 0.7048\n",
      "Epoch 7/20\n",
      "1379/1379 [==============================] - 16s 11ms/step - loss: 0.7965 - acc: 0.7149 - val_loss: 0.7915 - val_acc: 0.7140\n",
      "Epoch 8/20\n",
      "1379/1379 [==============================] - 16s 11ms/step - loss: 0.7880 - acc: 0.7191 - val_loss: 0.7960 - val_acc: 0.7132\n",
      "Epoch 9/20\n",
      "1379/1379 [==============================] - 16s 11ms/step - loss: 0.7773 - acc: 0.7224 - val_loss: 0.7838 - val_acc: 0.7147\n",
      "Epoch 10/20\n",
      "1379/1379 [==============================] - 16s 11ms/step - loss: 0.7697 - acc: 0.7259 - val_loss: 0.7678 - val_acc: 0.7158\n",
      "Epoch 11/20\n",
      "1379/1379 [==============================] - 16s 11ms/step - loss: 0.7632 - acc: 0.7265 - val_loss: 0.7554 - val_acc: 0.7295\n",
      "Epoch 12/20\n",
      "1379/1379 [==============================] - 16s 11ms/step - loss: 0.7591 - acc: 0.7279 - val_loss: 0.7562 - val_acc: 0.7263\n",
      "Epoch 13/20\n",
      "1378/1379 [============================>.] - ETA: 0s - loss: 0.7517 - acc: 0.7307\n",
      "Epoch 00013: ReduceLROnPlateau reducing learning rate to 4.0000001899898055e-05.\n",
      "1379/1379 [==============================] - 16s 11ms/step - loss: 0.7517 - acc: 0.7307 - val_loss: 0.7616 - val_acc: 0.7211\n",
      "Epoch 14/20\n",
      "1379/1379 [==============================] - 16s 12ms/step - loss: 0.7281 - acc: 0.7410 - val_loss: 0.7357 - val_acc: 0.7334\n",
      "Epoch 15/20\n",
      "1379/1379 [==============================] - 16s 11ms/step - loss: 0.7256 - acc: 0.7426 - val_loss: 0.7311 - val_acc: 0.7403\n",
      "Epoch 16/20\n",
      "1379/1379 [==============================] - 16s 11ms/step - loss: 0.7243 - acc: 0.7441 - val_loss: 0.7323 - val_acc: 0.7379\n",
      "Epoch 17/20\n",
      "1373/1379 [============================>.] - ETA: 0s - loss: 0.7230 - acc: 0.7431\n",
      "Epoch 00017: ReduceLROnPlateau reducing learning rate to 8.000000525498762e-06.\n",
      "1379/1379 [==============================] - 16s 11ms/step - loss: 0.7231 - acc: 0.7430 - val_loss: 0.7319 - val_acc: 0.7350\n",
      "Epoch 18/20\n",
      "1379/1379 [==============================] - 16s 11ms/step - loss: 0.7174 - acc: 0.7468 - val_loss: 0.7261 - val_acc: 0.7428\n",
      "Epoch 19/20\n",
      "1379/1379 [==============================] - 16s 11ms/step - loss: 0.7170 - acc: 0.7472 - val_loss: 0.7264 - val_acc: 0.7414\n",
      "Epoch 20/20\n",
      "1379/1379 [==============================] - 16s 11ms/step - loss: 0.7168 - acc: 0.7471 - val_loss: 0.7256 - val_acc: 0.7422\n",
      "*********************************************\n",
      "Model training accuracy: 0.7470748424530029\n",
      "Model validation accuracy: 0.7255883812904358\n",
      "Model training loss: 0.7470748424530029\n",
      "Model validation loss: 0.7255883812904358\n",
      "*********************************************\n",
      "Model testing accuracy: 0.6364285714285715\n",
      "Model testing precision: 0.8064905363311226\n",
      "Model testing recall: 0.6364285714285715\n",
      "Model testing hamming loss: 0.04922857142857143\n"
     ]
    },
    {
     "data": {
      "image/png": "[encoded data removed]",
      "text/plain": [
       "<Figure size 432x288 with 1 Axes>"
      ]
     },
     "metadata": {
      "needs_background": "light",
      "tags": []
     },
     "output_type": "display_data"
    },
    {
     "data": {
      "image/png": "[encoded data removed]",
      "text/plain": [
       "<Figure size 432x288 with 1 Axes>"
      ]
     },
     "metadata": {
      "needs_background": "light",
      "tags": []
     },
     "output_type": "display_data"
    },
    {
     "name": "stdout",
     "output_type": "stream",
     "text": [
      "*****************************\n",
      "Experiment 7 ends\n",
      "*****************************\n",
      "*****************************\n",
      "Experiment 8 starts\n",
      "*****************************\n",
      "(44100, 28, 28) (44100,)\n",
      "(18900, 28, 28) (18900,)\n",
      "(7000, 28, 28) (7000,)\n",
      "x_train_X shape: (44100, 28, 28)\n",
      "x_valid_X shape: (18900, 28, 28)\n",
      "x_test_X shape: (7000, 28, 28)\n",
      "<<< VGG Model is prepared >>>\n",
      "Model: \"functional_1\"\n",
      "_________________________________________________________________\n",
      "Layer (type)                 Output Shape              Param #   \n",
      "=================================================================\n",
      "input_1 (InputLayer)         [(None, 48, 48, 3)]       0         \n",
      "_________________________________________________________________\n",
      "block1_conv1 (Conv2D)        (None, 48, 48, 64)        1792      \n",
      "_________________________________________________________________\n",
      "block1_conv2 (Conv2D)        (None, 48, 48, 64)        36928     \n",
      "_________________________________________________________________\n",
      "block1_pool (MaxPooling2D)   (None, 24, 24, 64)        0         \n",
      "_________________________________________________________________\n",
      "block2_conv1 (Conv2D)        (None, 24, 24, 128)       73856     \n",
      "_________________________________________________________________\n",
      "block2_conv2 (Conv2D)        (None, 24, 24, 128)       147584    \n",
      "_________________________________________________________________\n",
      "block2_pool (MaxPooling2D)   (None, 12, 12, 128)       0         \n",
      "_________________________________________________________________\n",
      "block3_conv1 (Conv2D)        (None, 12, 12, 256)       295168    \n",
      "_________________________________________________________________\n",
      "block3_conv2 (Conv2D)        (None, 12, 12, 256)       590080    \n",
      "_________________________________________________________________\n",
      "block3_conv3 (Conv2D)        (None, 12, 12, 256)       590080    \n",
      "_________________________________________________________________\n",
      "block3_pool (MaxPooling2D)   (None, 6, 6, 256)         0         \n",
      "_________________________________________________________________\n",
      "block4_conv1 (Conv2D)        (None, 6, 6, 512)         1180160   \n",
      "_________________________________________________________________\n",
      "block4_conv2 (Conv2D)        (None, 6, 6, 512)         2359808   \n",
      "_________________________________________________________________\n",
      "block4_conv3 (Conv2D)        (None, 6, 6, 512)         2359808   \n",
      "_________________________________________________________________\n",
      "block4_pool (MaxPooling2D)   (None, 3, 3, 512)         0         \n",
      "_________________________________________________________________\n",
      "block5_conv1 (Conv2D)        (None, 3, 3, 512)         2359808   \n",
      "_________________________________________________________________\n",
      "block5_conv2 (Conv2D)        (None, 3, 3, 512)         2359808   \n",
      "_________________________________________________________________\n",
      "block5_conv3 (Conv2D)        (None, 3, 3, 512)         2359808   \n",
      "_________________________________________________________________\n",
      "block5_pool (MaxPooling2D)   (None, 1, 1, 512)         0         \n",
      "_________________________________________________________________\n",
      "flatten (Flatten)            (None, 512)               0         \n",
      "_________________________________________________________________\n",
      "dense (Dense)                (None, 1000)              513000    \n",
      "_________________________________________________________________\n",
      "dense_1 (Dense)              (None, 10)                10010     \n",
      "=================================================================\n",
      "Total params: 15,237,698\n",
      "Trainable params: 15,237,698\n",
      "Non-trainable params: 0\n",
      "_________________________________________________________________\n",
      "Epoch 1/20\n",
      "1379/1379 [==============================] - 16s 12ms/step - loss: 1.4890 - acc: 0.4580 - val_loss: 1.1461 - val_acc: 0.5845\n",
      "Epoch 2/20\n",
      "1379/1379 [==============================] - 16s 11ms/step - loss: 1.0594 - acc: 0.6137 - val_loss: 0.9597 - val_acc: 0.6256\n",
      "Epoch 3/20\n",
      "1379/1379 [==============================] - 16s 11ms/step - loss: 0.9527 - acc: 0.6540 - val_loss: 0.9143 - val_acc: 0.6703\n",
      "Epoch 4/20\n",
      "1379/1379 [==============================] - 16s 11ms/step - loss: 0.9204 - acc: 0.6631 - val_loss: 0.8504 - val_acc: 0.6917\n",
      "Epoch 5/20\n",
      "1379/1379 [==============================] - 16s 11ms/step - loss: 0.8871 - acc: 0.6744 - val_loss: 1.0138 - val_acc: 0.6196\n",
      "Epoch 6/20\n",
      "1373/1379 [============================>.] - ETA: 0s - loss: 0.8618 - acc: 0.6834\n",
      "Epoch 00006: ReduceLROnPlateau reducing learning rate to 0.00020000000949949026.\n",
      "1379/1379 [==============================] - 16s 12ms/step - loss: 0.8618 - acc: 0.6836 - val_loss: 0.8728 - val_acc: 0.6798\n",
      "Epoch 7/20\n",
      "1379/1379 [==============================] - 16s 11ms/step - loss: 0.7823 - acc: 0.7202 - val_loss: 0.8036 - val_acc: 0.6975\n",
      "Epoch 8/20\n",
      "1379/1379 [==============================] - 16s 11ms/step - loss: 0.7742 - acc: 0.7217 - val_loss: 0.7660 - val_acc: 0.7269\n",
      "Epoch 9/20\n",
      "1379/1379 [==============================] - 16s 11ms/step - loss: 0.7664 - acc: 0.7253 - val_loss: 0.7565 - val_acc: 0.7272\n",
      "Epoch 10/20\n",
      "1379/1379 [==============================] - 16s 12ms/step - loss: 0.7612 - acc: 0.7255 - val_loss: 0.7682 - val_acc: 0.7260\n",
      "Epoch 11/20\n",
      "1379/1379 [==============================] - 16s 11ms/step - loss: 0.7546 - acc: 0.7289 - val_loss: 0.7529 - val_acc: 0.7311\n",
      "Epoch 12/20\n",
      "1379/1379 [==============================] - 16s 12ms/step - loss: 0.7503 - acc: 0.7316 - val_loss: 0.7741 - val_acc: 0.7213\n",
      "Epoch 13/20\n",
      "1379/1379 [==============================] - 16s 12ms/step - loss: 0.7451 - acc: 0.7320 - val_loss: 0.7492 - val_acc: 0.7294\n",
      "Epoch 14/20\n",
      "1379/1379 [==============================] - 16s 11ms/step - loss: 0.7397 - acc: 0.7351 - val_loss: 0.7443 - val_acc: 0.7339\n",
      "Epoch 15/20\n",
      "1379/1379 [==============================] - 16s 11ms/step - loss: 0.7368 - acc: 0.7364 - val_loss: 0.7495 - val_acc: 0.7338\n",
      "Epoch 16/20\n",
      "1379/1379 [==============================] - 16s 11ms/step - loss: 0.7316 - acc: 0.7370 - val_loss: 0.7200 - val_acc: 0.7418\n",
      "Epoch 17/20\n",
      "1379/1379 [==============================] - 16s 11ms/step - loss: 0.7289 - acc: 0.7390 - val_loss: 0.7312 - val_acc: 0.7379\n",
      "Epoch 18/20\n",
      "1376/1379 [============================>.] - ETA: 0s - loss: 0.7249 - acc: 0.7394\n",
      "Epoch 00018: ReduceLROnPlateau reducing learning rate to 4.0000001899898055e-05.\n",
      "1379/1379 [==============================] - 16s 11ms/step - loss: 0.7252 - acc: 0.7393 - val_loss: 0.7405 - val_acc: 0.7312\n",
      "Epoch 19/20\n",
      "1379/1379 [==============================] - 16s 11ms/step - loss: 0.7043 - acc: 0.7493 - val_loss: 0.7026 - val_acc: 0.7522\n",
      "Epoch 20/20\n",
      "1379/1379 [==============================] - 16s 11ms/step - loss: 0.7018 - acc: 0.7505 - val_loss: 0.7040 - val_acc: 0.7488\n",
      "*********************************************\n",
      "Model training accuracy: 0.750453531742096\n",
      "Model validation accuracy: 0.7040062546730042\n",
      "Model training loss: 0.750453531742096\n",
      "Model validation loss: 0.7040062546730042\n",
      "*********************************************\n",
      "Model testing accuracy: 0.6482857142857142\n",
      "Model testing precision: 0.821571923356596\n",
      "Model testing recall: 0.6482857142857142\n",
      "Model testing hamming loss: 0.047214285714285716\n"
     ]
    },
    {
     "data": {
      "image/png": "[encoded data removed]",
      "text/plain": [
       "<Figure size 432x288 with 1 Axes>"
      ]
     },
     "metadata": {
      "needs_background": "light",
      "tags": []
     },
     "output_type": "display_data"
    },
    {
     "data": {
      "image/png": "[encoded data removed]",
      "text/plain": [
       "<Figure size 432x288 with 1 Axes>"
      ]
     },
     "metadata": {
      "needs_background": "light",
      "tags": []
     },
     "output_type": "display_data"
    },
    {
     "name": "stdout",
     "output_type": "stream",
     "text": [
      "*****************************\n",
      "Experiment 8 ends\n",
      "*****************************\n",
      "*****************************\n",
      "Experiment 9 starts\n",
      "*****************************\n",
      "(44100, 28, 28) (44100,)\n",
      "(18900, 28, 28) (18900,)\n",
      "(7000, 28, 28) (7000,)\n",
      "x_train_X shape: (44100, 28, 28)\n",
      "x_valid_X shape: (18900, 28, 28)\n",
      "x_test_X shape: (7000, 28, 28)\n",
      "<<< VGG Model is prepared >>>\n",
      "Model: \"functional_1\"\n",
      "_________________________________________________________________\n",
      "Layer (type)                 Output Shape              Param #   \n",
      "=================================================================\n",
      "input_1 (InputLayer)         [(None, 48, 48, 3)]       0         \n",
      "_________________________________________________________________\n",
      "block1_conv1 (Conv2D)        (None, 48, 48, 64)        1792      \n",
      "_________________________________________________________________\n",
      "block1_conv2 (Conv2D)        (None, 48, 48, 64)        36928     \n",
      "_________________________________________________________________\n",
      "block1_pool (MaxPooling2D)   (None, 24, 24, 64)        0         \n",
      "_________________________________________________________________\n",
      "block2_conv1 (Conv2D)        (None, 24, 24, 128)       73856     \n",
      "_________________________________________________________________\n",
      "block2_conv2 (Conv2D)        (None, 24, 24, 128)       147584    \n",
      "_________________________________________________________________\n",
      "block2_pool (MaxPooling2D)   (None, 12, 12, 128)       0         \n",
      "_________________________________________________________________\n",
      "block3_conv1 (Conv2D)        (None, 12, 12, 256)       295168    \n",
      "_________________________________________________________________\n",
      "block3_conv2 (Conv2D)        (None, 12, 12, 256)       590080    \n",
      "_________________________________________________________________\n",
      "block3_conv3 (Conv2D)        (None, 12, 12, 256)       590080    \n",
      "_________________________________________________________________\n",
      "block3_pool (MaxPooling2D)   (None, 6, 6, 256)         0         \n",
      "_________________________________________________________________\n",
      "block4_conv1 (Conv2D)        (None, 6, 6, 512)         1180160   \n",
      "_________________________________________________________________\n",
      "block4_conv2 (Conv2D)        (None, 6, 6, 512)         2359808   \n",
      "_________________________________________________________________\n",
      "block4_conv3 (Conv2D)        (None, 6, 6, 512)         2359808   \n",
      "_________________________________________________________________\n",
      "block4_pool (MaxPooling2D)   (None, 3, 3, 512)         0         \n",
      "_________________________________________________________________\n",
      "block5_conv1 (Conv2D)        (None, 3, 3, 512)         2359808   \n",
      "_________________________________________________________________\n",
      "block5_conv2 (Conv2D)        (None, 3, 3, 512)         2359808   \n",
      "_________________________________________________________________\n",
      "block5_conv3 (Conv2D)        (None, 3, 3, 512)         2359808   \n",
      "_________________________________________________________________\n",
      "block5_pool (MaxPooling2D)   (None, 1, 1, 512)         0         \n",
      "_________________________________________________________________\n",
      "flatten (Flatten)            (None, 512)               0         \n",
      "_________________________________________________________________\n",
      "dense (Dense)                (None, 1000)              513000    \n",
      "_________________________________________________________________\n",
      "dense_1 (Dense)              (None, 10)                10010     \n",
      "=================================================================\n",
      "Total params: 15,237,698\n",
      "Trainable params: 15,237,698\n",
      "Non-trainable params: 0\n",
      "_________________________________________________________________\n",
      "Epoch 1/20\n",
      "1379/1379 [==============================] - 16s 12ms/step - loss: 1.4701 - acc: 0.4643 - val_loss: 1.1782 - val_acc: 0.5846\n",
      "Epoch 2/20\n",
      "1379/1379 [==============================] - 16s 11ms/step - loss: 1.0452 - acc: 0.6151 - val_loss: 0.9228 - val_acc: 0.6783\n",
      "Epoch 3/20\n",
      "1379/1379 [==============================] - 16s 11ms/step - loss: 0.9573 - acc: 0.6493 - val_loss: 1.0077 - val_acc: 0.6260\n",
      "Epoch 4/20\n",
      "1379/1379 [==============================] - 16s 11ms/step - loss: 0.9144 - acc: 0.6648 - val_loss: 0.8667 - val_acc: 0.6750\n",
      "Epoch 5/20\n",
      "1379/1379 [==============================] - 16s 11ms/step - loss: 0.8870 - acc: 0.6774 - val_loss: 0.9561 - val_acc: 0.6534\n",
      "Epoch 6/20\n",
      "1375/1379 [============================>.] - ETA: 0s - loss: 0.8677 - acc: 0.6812\n",
      "Epoch 00006: ReduceLROnPlateau reducing learning rate to 0.00020000000949949026.\n",
      "1379/1379 [==============================] - 16s 11ms/step - loss: 0.8679 - acc: 0.6812 - val_loss: 0.8701 - val_acc: 0.6786\n",
      "Epoch 7/20\n",
      "1379/1379 [==============================] - 16s 11ms/step - loss: 0.7794 - acc: 0.7209 - val_loss: 0.7821 - val_acc: 0.7187\n",
      "Epoch 8/20\n",
      "1379/1379 [==============================] - 16s 11ms/step - loss: 0.7708 - acc: 0.7262 - val_loss: 0.7647 - val_acc: 0.7252\n",
      "Epoch 9/20\n",
      "1379/1379 [==============================] - 16s 12ms/step - loss: 0.7632 - acc: 0.7272 - val_loss: 0.7584 - val_acc: 0.7296\n",
      "Epoch 10/20\n",
      "1379/1379 [==============================] - 16s 11ms/step - loss: 0.7572 - acc: 0.7300 - val_loss: 0.7552 - val_acc: 0.7269\n",
      "Epoch 11/20\n",
      "1379/1379 [==============================] - 16s 12ms/step - loss: 0.7502 - acc: 0.7332 - val_loss: 0.7544 - val_acc: 0.7291\n",
      "Epoch 12/20\n",
      "1379/1379 [==============================] - 16s 11ms/step - loss: 0.7443 - acc: 0.7334 - val_loss: 0.7408 - val_acc: 0.7327\n",
      "Epoch 13/20\n",
      "1379/1379 [==============================] - 16s 11ms/step - loss: 0.7401 - acc: 0.7340 - val_loss: 0.7424 - val_acc: 0.7362\n",
      "Epoch 14/20\n",
      "1379/1379 [==============================] - 16s 11ms/step - loss: 0.7355 - acc: 0.7375 - val_loss: 0.7307 - val_acc: 0.7417\n",
      "Epoch 15/20\n",
      "1379/1379 [==============================] - 16s 11ms/step - loss: 0.7320 - acc: 0.7380 - val_loss: 0.7450 - val_acc: 0.7302\n",
      "Epoch 16/20\n",
      "1377/1379 [============================>.] - ETA: 0s - loss: 0.7281 - acc: 0.7405\n",
      "Epoch 00016: ReduceLROnPlateau reducing learning rate to 4.0000001899898055e-05.\n",
      "1379/1379 [==============================] - 16s 11ms/step - loss: 0.7281 - acc: 0.7405 - val_loss: 0.7328 - val_acc: 0.7370\n",
      "Epoch 17/20\n",
      "1379/1379 [==============================] - 16s 11ms/step - loss: 0.7056 - acc: 0.7506 - val_loss: 0.7142 - val_acc: 0.7443\n",
      "Epoch 18/20\n",
      "1379/1379 [==============================] - 16s 11ms/step - loss: 0.7042 - acc: 0.7512 - val_loss: 0.7121 - val_acc: 0.7467\n",
      "Epoch 19/20\n",
      "1379/1379 [==============================] - 16s 11ms/step - loss: 0.7031 - acc: 0.7524 - val_loss: 0.7167 - val_acc: 0.7433\n",
      "Epoch 20/20\n",
      "1374/1379 [============================>.] - ETA: 0s - loss: 0.7022 - acc: 0.7524\n",
      "Epoch 00020: ReduceLROnPlateau reducing learning rate to 8.000000525498762e-06.\n",
      "1379/1379 [==============================] - 16s 11ms/step - loss: 0.7021 - acc: 0.7523 - val_loss: 0.7141 - val_acc: 0.7450\n",
      "*********************************************\n",
      "Model training accuracy: 0.7523356080055237\n",
      "Model validation accuracy: 0.7141403555870056\n",
      "Model training loss: 0.7523356080055237\n",
      "Model validation loss: 0.7141403555870056\n",
      "*********************************************\n",
      "Model testing accuracy: 0.642\n",
      "Model testing precision: 0.8173227613820012\n",
      "Model testing recall: 0.642\n",
      "Model testing hamming loss: 0.048285714285714286\n"
     ]
    },
    {
     "data": {
      "image/png": "[encoded data removed]",
      "text/plain": [
       "<Figure size 432x288 with 1 Axes>"
      ]
     },
     "metadata": {
      "needs_background": "light",
      "tags": []
     },
     "output_type": "display_data"
    },
    {
     "data": {
      "image/png": "[encoded data removed]",
      "text/plain": [
       "<Figure size 432x288 with 1 Axes>"
      ]
     },
     "metadata": {
      "needs_background": "light",
      "tags": []
     },
     "output_type": "display_data"
    },
    {
     "name": "stdout",
     "output_type": "stream",
     "text": [
      "*****************************\n",
      "Experiment 9 ends\n",
      "*****************************\n"
     ]
    }
   ],
   "source": [
    "#Define All Results array\n",
    "All_results = []\n",
    "\n",
    "for idx in range(10):\n",
    "  \n",
    "  global exp_path\n",
    "\n",
    "  print('*****************************')\n",
    "  print(f'Experiment {str(idx)} starts')\n",
    "  print('*****************************')\n",
    "\n",
    "  ##Data Preperation\n",
    "  ###Splitting Data into 70% Train, 30% Validate\n",
    "\n",
    "  x_train_X, y_train_X, x_valid_X, y_valid_X, x_test_X, y_test_X = Fn.prepareDataGT(x_data, x_test, y_data, y_test, stratify)\n",
    "\n",
    "  print('x_train_X shape:', x_train_X.shape)\n",
    "  print('x_valid_X shape:', x_valid_X.shape)\n",
    "  print('x_test_X shape:', x_test_X.shape)\n",
    "\n",
    "  ##Train\n",
    "  thisModel = ExpModel(ModelName, DataSet, x_train_X, y_train_X, x_valid_X, y_valid_X, x_test_X, y_test_X)\n",
    "  model, history, results = thisModel.trainModel()\n",
    "\n",
    "  ##Store experiment results\n",
    "  All_results.append(results)\n",
    "\n",
    "  ##Model Saving\n",
    "  filename = str(idx) + ModelName + '_' + DataSet + '_' + group_idx + '_'+ exp_idx\n",
    "  model.save(exp_path + filename + '.h5')\n",
    "\n",
    "  # plot the loss and accuracy\n",
    "  plotResults(DataSet, ModelName, group_idx, exp_idx, history, idx)\n",
    "  \n",
    "  print('*****************************')\n",
    "  print(f'Experiment {str(idx)} ends')\n",
    "  print('*****************************')\n",
    "\n",
    "  tf.keras.backend.clear_session()"
   ]
  },
  {
   "cell_type": "markdown",
   "metadata": {
    "id": "ZdT3trA6YpBV"
   },
   "source": [
    "##Check experiments results"
   ]
  },
  {
   "cell_type": "code",
   "execution_count": 16,
   "metadata": {
    "colab": {
     "base_uri": "https://localhost:8080/"
    },
    "executionInfo": {
     "elapsed": 795,
     "status": "ok",
     "timestamp": 1605561463543,
     "user": {
      "displayName": "Fidan Karimova",
      "photoUrl": "https://lh3.googleusercontent.com/a-/AOh14GheAIyUCt4VuO0U0HiniUvyjuqvryBORyB1PNL8=s64",
      "userId": "01107110239791336542"
     },
     "user_tz": -120
    },
    "id": "xRA4uAr8YtXz",
    "outputId": "f2255dab-c9d4-4c7f-eb9a-e07e37fd9138"
   },
   "outputs": [
    {
     "name": "stdout",
     "output_type": "stream",
     "text": [
      "Results Are Complete\n"
     ]
    }
   ],
   "source": [
    "if len(All_results)==10:\n",
    "  print('Results Are Complete')\n",
    "else:\n",
    "  print('Results record has issue!!!')"
   ]
  },
  {
   "cell_type": "markdown",
   "metadata": {
    "id": "Kuy8kh87RejV"
   },
   "source": [
    "##Exporting Results to Excel"
   ]
  },
  {
   "cell_type": "code",
   "execution_count": 17,
   "metadata": {
    "colab": {
     "base_uri": "https://localhost:8080/"
    },
    "executionInfo": {
     "elapsed": 6313,
     "status": "ok",
     "timestamp": 1605561473198,
     "user": {
      "displayName": "Fidan Karimova",
      "photoUrl": "https://lh3.googleusercontent.com/a-/AOh14GheAIyUCt4VuO0U0HiniUvyjuqvryBORyB1PNL8=s64",
      "userId": "01107110239791336542"
     },
     "user_tz": -120
    },
    "id": "E55xG3NLR5Ir",
    "outputId": "569d8c75-3222-4bb4-9331-6809b09d0d1e"
   },
   "outputs": [
    {
     "name": "stdout",
     "output_type": "stream",
     "text": [
      "Collecting xlsxwriter\n",
      "\u001b[?25l  Downloading https://files.pythonhosted.org/packages/6b/41/bf1aae04932d1eaffee1fc5f8b38ca47bbbf07d765129539bc4bcce1ce0c/XlsxWriter-1.3.7-py2.py3-none-any.whl (144kB)\n",
      "\r",
      "\u001b[K     |██▎                             | 10kB 31.6MB/s eta 0:00:01\r",
      "\u001b[K     |████▌                           | 20kB 16.3MB/s eta 0:00:01\r",
      "\u001b[K     |██████▉                         | 30kB 14.3MB/s eta 0:00:01\r",
      "\u001b[K     |█████████                       | 40kB 13.3MB/s eta 0:00:01\r",
      "\u001b[K     |███████████▎                    | 51kB 8.8MB/s eta 0:00:01\r",
      "\u001b[K     |█████████████▋                  | 61kB 9.4MB/s eta 0:00:01\r",
      "\u001b[K     |███████████████▉                | 71kB 9.6MB/s eta 0:00:01\r",
      "\u001b[K     |██████████████████▏             | 81kB 10.8MB/s eta 0:00:01\r",
      "\u001b[K     |████████████████████▍           | 92kB 10.0MB/s eta 0:00:01\r",
      "\u001b[K     |██████████████████████▋         | 102kB 8.5MB/s eta 0:00:01\r",
      "\u001b[K     |█████████████████████████       | 112kB 8.5MB/s eta 0:00:01\r",
      "\u001b[K     |███████████████████████████▏    | 122kB 8.5MB/s eta 0:00:01\r",
      "\u001b[K     |█████████████████████████████▌  | 133kB 8.5MB/s eta 0:00:01\r",
      "\u001b[K     |███████████████████████████████▊| 143kB 8.5MB/s eta 0:00:01\r",
      "\u001b[K     |████████████████████████████████| 153kB 8.5MB/s \n",
      "\u001b[?25hInstalling collected packages: xlsxwriter\n",
      "Successfully installed xlsxwriter-1.3.7\n"
     ]
    }
   ],
   "source": [
    "!pip install xlsxwriter"
   ]
  },
  {
   "cell_type": "markdown",
   "metadata": {
    "id": "2uFo4BzAWzfc"
   },
   "source": [
    "###Create Excel with columns header"
   ]
  },
  {
   "cell_type": "code",
   "execution_count": 18,
   "metadata": {
    "executionInfo": {
     "elapsed": 792,
     "status": "ok",
     "timestamp": 1605561508900,
     "user": {
      "displayName": "Fidan Karimova",
      "photoUrl": "https://lh3.googleusercontent.com/a-/AOh14GheAIyUCt4VuO0U0HiniUvyjuqvryBORyB1PNL8=s64",
      "userId": "01107110239791336542"
     },
     "user_tz": -120
    },
    "id": "1HVzxZXQSwF6"
   },
   "outputs": [],
   "source": [
    "import pandas as pd\n",
    "from openpyxl import load_workbook\n",
    "\n",
    "excel_name = ModelName + '.xlsx'\n",
    "sheet_name = group_idx + '_' + exp_idx\n",
    "filepath = ds_path + excel_name\n",
    "\n",
    "column_titles = [['Idx', 'Train Acc', 'Valid Acc', 'Train Loss', 'Valid Loss',\\\n",
    "                 'Test Acc', 'Test Precision', 'Test Recall', 'Test F-score', 'Hamming Loss']]\n",
    "df = pd.DataFrame(column_titles)"
   ]
  },
  {
   "cell_type": "code",
   "execution_count": 21,
   "metadata": {
    "executionInfo": {
     "elapsed": 588,
     "status": "ok",
     "timestamp": 1605561517225,
     "user": {
      "displayName": "Fidan Karimova",
      "photoUrl": "https://lh3.googleusercontent.com/a-/AOh14GheAIyUCt4VuO0U0HiniUvyjuqvryBORyB1PNL8=s64",
      "userId": "01107110239791336542"
     },
     "user_tz": -120
    },
    "id": "wbwWm8H9WxYk"
   },
   "outputs": [],
   "source": [
    "# Create writer object with an engine xlsxwriter\n",
    "writer = pd.ExcelWriter(filepath, engine='xlsxwriter')\n",
    "# Write data to an excel\n",
    "df.to_excel(writer, sheet_name=sheet_name, index=False, header=None)\n",
    "writer.save()"
   ]
  },
  {
   "cell_type": "markdown",
   "metadata": {
    "id": "M0OBSspQxCJV"
   },
   "source": [
    "###Parse this experiment results"
   ]
  },
  {
   "cell_type": "code",
   "execution_count": 22,
   "metadata": {
    "executionInfo": {
     "elapsed": 833,
     "status": "ok",
     "timestamp": 1605561522342,
     "user": {
      "displayName": "Fidan Karimova",
      "photoUrl": "https://lh3.googleusercontent.com/a-/AOh14GheAIyUCt4VuO0U0HiniUvyjuqvryBORyB1PNL8=s64",
      "userId": "01107110239791336542"
     },
     "user_tz": -120
    },
    "id": "CuWcIk1qxI0h"
   },
   "outputs": [],
   "source": [
    "for idx, result in enumerate(All_results):\n",
    "  this_result = [idx] + result['train'] + result['test']\n",
    "  this_result = np.array(this_result).reshape(1,-1)\n",
    "  this_result = pd.DataFrame(this_result)\n",
    "\n",
    "  writer = pd.ExcelWriter(filepath, engine='openpyxl')\n",
    "  # try to open an existing workbook\n",
    "  writer.book = load_workbook(filepath)\n",
    "  # copy existing sheets\n",
    "  writer.sheets = dict((ws.title, ws) for ws in writer.book.worksheets)\n",
    "  # read existing file\n",
    "  reader = pd.read_excel(filepath)\n",
    "  # write out the new sheet\n",
    "  this_result.to_excel(writer, sheet_name=sheet_name, index=False, header=False, startrow=idx+1)\n",
    "\n",
    "  writer.close()"
   ]
  }
 ],
 "metadata": {
  "accelerator": "GPU",
  "colab": {
   "collapsed_sections": [],
   "machine_shape": "hm",
   "name": "looped_VGG_FashionMNIST_GroundTruthExp_0.ipynb",
   "provenance": [
    {
     "file_id": "1r5GUZM8--meUwWfh1NaoADm38STMRhVN",
     "timestamp": 1601990507026
    },
    {
     "file_id": "1zeYs9o6XFVKxnm3jkRur8iaVzXQK1hF1",
     "timestamp": 1584015667796
    }
   ],
   "toc_visible": true
  },
  "kernelspec": {
   "display_name": "Python 3",
   "language": "python",
   "name": "python3"
  },
  "language_info": {
   "codemirror_mode": {
    "name": "ipython",
    "version": 3
   },
   "file_extension": ".py",
   "mimetype": "text/x-python",
   "name": "python",
   "nbconvert_exporter": "python",
   "pygments_lexer": "ipython3",
   "version": "3.7.6"
  }
 },
 "nbformat": 4,
 "nbformat_minor": 1
}
