{
 "cells": [
  {
   "cell_type": "markdown",
   "metadata": {
    "id": "eC-Vn7LDUeCk"
   },
   "source": [
    "#Clone the repo"
   ]
  },
  {
   "cell_type": "code",
   "execution_count": null,
   "metadata": {
    "colab": {
     "base_uri": "https://localhost:8080/"
    },
    "executionInfo": {
     "elapsed": 1833,
     "status": "ok",
     "timestamp": 1605557890554,
     "user": {
      "displayName": "Fidan Karimova",
      "photoUrl": "https://lh3.googleusercontent.com/a-/AOh14GheAIyUCt4VuO0U0HiniUvyjuqvryBORyB1PNL8=s64",
      "userId": "01107110239791336542"
     },
     "user_tz": -120
    },
    "id": "q8syRlXZUf_o",
    "outputId": "3165b37c-0e63-4671-9fc5-b85dd3672687",
    "scrolled": true
   },
   "outputs": [],
   "source": [
    "!git clone https://github.com/Moda007/MethodicalSplit.git"
   ]
  },
  {
   "cell_type": "code",
   "execution_count": null,
   "metadata": {
    "executionInfo": {
     "elapsed": 2971,
     "status": "aborted",
     "timestamp": 1605557961433,
     "user": {
      "displayName": "Fidan Karimova",
      "photoUrl": "https://lh3.googleusercontent.com/a-/AOh14GheAIyUCt4VuO0U0HiniUvyjuqvryBORyB1PNL8=s64",
      "userId": "01107110239791336542"
     },
     "user_tz": -120
    },
    "id": "m6RA55ybUkCH"
   },
   "outputs": [],
   "source": [
    "from MethodicalSplit import Functions as Fn\n",
    "from MethodicalSplit.ExpModel import ExpModel"
   ]
  },
  {
   "cell_type": "markdown",
   "metadata": {
    "id": "8Snsq7kuUw8m"
   },
   "source": [
    "#Define experiment details"
   ]
  },
  {
   "cell_type": "code",
   "execution_count": null,
   "metadata": {
    "colab": {
     "base_uri": "https://localhost:8080/"
    },
    "executionInfo": {
     "elapsed": 12581,
     "status": "ok",
     "timestamp": 1605557981601,
     "user": {
      "displayName": "Fidan Karimova",
      "photoUrl": "https://lh3.googleusercontent.com/a-/AOh14GheAIyUCt4VuO0U0HiniUvyjuqvryBORyB1PNL8=s64",
      "userId": "01107110239791336542"
     },
     "user_tz": -120
    },
    "id": "tIetyqWxUz27",
    "outputId": "fc6b0bbf-cfc8-4312-8d51-f0f04452e193"
   },
   "outputs": [],
   "source": [
    "DataSet, ModelName, group_idx, exp_idx, Avg, Sub, Rare, stratify, train = Fn.expDetails(Fn.all_exp)"
   ]
  },
  {
   "cell_type": "markdown",
   "metadata": {
    "id": "8R5MmBJ4OWEZ"
   },
   "source": [
    "#Colab"
   ]
  },
  {
   "cell_type": "markdown",
   "metadata": {
    "id": "q5a_NWs0tl69"
   },
   "source": [
    "##Ignore Warnings"
   ]
  },
  {
   "cell_type": "code",
   "execution_count": null,
   "metadata": {
    "executionInfo": {
     "elapsed": 784,
     "status": "ok",
     "timestamp": 1605558000262,
     "user": {
      "displayName": "Fidan Karimova",
      "photoUrl": "https://lh3.googleusercontent.com/a-/AOh14GheAIyUCt4VuO0U0HiniUvyjuqvryBORyB1PNL8=s64",
      "userId": "01107110239791336542"
     },
     "user_tz": -120
    },
    "id": "D8HRA1sEseKY"
   },
   "outputs": [],
   "source": [
    "import warnings\n",
    "warnings.filterwarnings('ignore')"
   ]
  },
  {
   "cell_type": "markdown",
   "metadata": {
    "id": "ZCPkvD-LtpQ1"
   },
   "source": [
    "##Mount Drive"
   ]
  },
  {
   "cell_type": "code",
   "execution_count": null,
   "metadata": {
    "colab": {
     "base_uri": "https://localhost:8080/"
    },
    "executionInfo": {
     "elapsed": 20309,
     "status": "ok",
     "timestamp": 1605558021371,
     "user": {
      "displayName": "Fidan Karimova",
      "photoUrl": "https://lh3.googleusercontent.com/a-/AOh14GheAIyUCt4VuO0U0HiniUvyjuqvryBORyB1PNL8=s64",
      "userId": "01107110239791336542"
     },
     "user_tz": -120
    },
    "id": "nc9LE3cAStjB",
    "outputId": "c1a0e586-827e-43ce-fe7c-a4bc31180f29"
   },
   "outputs": [],
   "source": [
    "from google.colab import drive\n",
    "drive.mount('/content/drive')"
   ]
  },
  {
   "cell_type": "markdown",
   "metadata": {
    "id": "CsZngWFkkSPv"
   },
   "source": [
    "#Importing Packages and Libraries"
   ]
  },
  {
   "cell_type": "code",
   "execution_count": null,
   "metadata": {
    "executionInfo": {
     "elapsed": 652,
     "status": "ok",
     "timestamp": 1605558025474,
     "user": {
      "displayName": "Fidan Karimova",
      "photoUrl": "https://lh3.googleusercontent.com/a-/AOh14GheAIyUCt4VuO0U0HiniUvyjuqvryBORyB1PNL8=s64",
      "userId": "01107110239791336542"
     },
     "user_tz": -120
    },
    "id": "nZHqCupPl7E-"
   },
   "outputs": [],
   "source": [
    "import numpy as np\n",
    "import matplotlib.pyplot as plt\n",
    "import seaborn as sns\n",
    "import tensorflow as tf"
   ]
  },
  {
   "cell_type": "markdown",
   "metadata": {
    "id": "G4ejsZkTlsaC"
   },
   "source": [
    "#Dataset"
   ]
  },
  {
   "cell_type": "markdown",
   "metadata": {
    "id": "tY7yX9KHmYpx"
   },
   "source": [
    "##Importing Dataset"
   ]
  },
  {
   "cell_type": "code",
   "execution_count": null,
   "metadata": {
    "colab": {
     "base_uri": "https://localhost:8080/"
    },
    "executionInfo": {
     "elapsed": 1798,
     "status": "ok",
     "timestamp": 1605558029070,
     "user": {
      "displayName": "Fidan Karimova",
      "photoUrl": "https://lh3.googleusercontent.com/a-/AOh14GheAIyUCt4VuO0U0HiniUvyjuqvryBORyB1PNL8=s64",
      "userId": "01107110239791336542"
     },
     "user_tz": -120
    },
    "id": "PkdXdi9HmL-H",
    "outputId": "265ed489-3c98-42dc-d850-fc620634bf4b"
   },
   "outputs": [],
   "source": [
    "from keras.datasets import fashion_mnist\n",
    "(x_train, y_train), (x_test, y_test) = fashion_mnist.load_data()"
   ]
  },
  {
   "cell_type": "code",
   "execution_count": null,
   "metadata": {
    "colab": {
     "base_uri": "https://localhost:8080/"
    },
    "executionInfo": {
     "elapsed": 659,
     "status": "ok",
     "timestamp": 1605558032702,
     "user": {
      "displayName": "Fidan Karimova",
      "photoUrl": "https://lh3.googleusercontent.com/a-/AOh14GheAIyUCt4VuO0U0HiniUvyjuqvryBORyB1PNL8=s64",
      "userId": "01107110239791336542"
     },
     "user_tz": -120
    },
    "id": "5b32ImdjvZ_9",
    "outputId": "2717d470-bb84-497d-f97f-c6fa94b431bf"
   },
   "outputs": [],
   "source": [
    "print(\"x_train shape:\", x_train.shape)\n",
    "print(\"x_test shape:\", x_test.shape)\n",
    "print(\"y_train shape:\", y_train.shape)\n",
    "print(\"y_test shape:\", y_test.shape)"
   ]
  },
  {
   "cell_type": "markdown",
   "metadata": {
    "id": "lsOf-c-emcvm"
   },
   "source": [
    "##Concatenate train and test dataset"
   ]
  },
  {
   "cell_type": "code",
   "execution_count": null,
   "metadata": {
    "colab": {
     "base_uri": "https://localhost:8080/"
    },
    "executionInfo": {
     "elapsed": 1411,
     "status": "ok",
     "timestamp": 1605558037991,
     "user": {
      "displayName": "Fidan Karimova",
      "photoUrl": "https://lh3.googleusercontent.com/a-/AOh14GheAIyUCt4VuO0U0HiniUvyjuqvryBORyB1PNL8=s64",
      "userId": "01107110239791336542"
     },
     "user_tz": -120
    },
    "id": "xrUmC6YgjyBw",
    "outputId": "bd64481f-e941-41eb-df53-3219edfcfa35"
   },
   "outputs": [],
   "source": [
    "x_data = np.concatenate([x_train, x_test], axis=0)\n",
    "y_data = np.concatenate([y_train, y_test], axis=0)\n",
    "print(\"x_data shape:\", x_data.shape)\n",
    "print(\"y_data shape:\", y_data.shape)"
   ]
  },
  {
   "cell_type": "markdown",
   "metadata": {
    "id": "4FXQx0pzA3J-"
   },
   "source": [
    "##Split test data (holdout)"
   ]
  },
  {
   "cell_type": "code",
   "execution_count": null,
   "metadata": {
    "colab": {
     "base_uri": "https://localhost:8080/"
    },
    "executionInfo": {
     "elapsed": 583,
     "status": "ok",
     "timestamp": 1605558039733,
     "user": {
      "displayName": "Fidan Karimova",
      "photoUrl": "https://lh3.googleusercontent.com/a-/AOh14GheAIyUCt4VuO0U0HiniUvyjuqvryBORyB1PNL8=s64",
      "userId": "01107110239791336542"
     },
     "user_tz": -120
    },
    "id": "bdmANJFNA_c8",
    "outputId": "f9cf1a1e-3b46-47de-859f-ed77411d6dd7"
   },
   "outputs": [],
   "source": [
    "from sklearn.model_selection import train_test_split\n",
    "\n",
    "x_data, x_test, y_data, y_test = train_test_split(x_data, y_data, train_size= 0.9, test_size= 0.1)\n",
    "\n",
    "print(\"x_data shape:\", x_data.shape)\n",
    "print(\"x_test shape:\", x_test.shape)\n",
    "print(\"y_data shape:\", y_data.shape)\n",
    "print(\"y_test shape:\", y_test.shape)"
   ]
  },
  {
   "cell_type": "markdown",
   "metadata": {
    "id": "yaSdl7Fkm6wR"
   },
   "source": [
    "#Model (Loop)"
   ]
  },
  {
   "cell_type": "markdown",
   "metadata": {
    "id": "Yzhq8e73HcxL"
   },
   "source": [
    "##>>> Experiment"
   ]
  },
  {
   "cell_type": "code",
   "execution_count": null,
   "metadata": {
    "executionInfo": {
     "elapsed": 601,
     "status": "ok",
     "timestamp": 1605558043107,
     "user": {
      "displayName": "Fidan Karimova",
      "photoUrl": "https://lh3.googleusercontent.com/a-/AOh14GheAIyUCt4VuO0U0HiniUvyjuqvryBORyB1PNL8=s64",
      "userId": "01107110239791336542"
     },
     "user_tz": -120
    },
    "id": "xAOfmVErptoo"
   },
   "outputs": [],
   "source": [
    "looped = True\n",
    "if looped:\n",
    "  looped = 'looped_'\n",
    "else:\n",
    "  looped = ''\n",
    "\n",
    "ds_path = '/content/drive/My Drive/Thesis Notebooks/' + DataSet + '/'\n",
    "exp_path = ds_path + ModelName + '/Group_' + group_idx + '/Exp' + exp_idx + '/'"
   ]
  },
  {
   "cell_type": "code",
   "execution_count": null,
   "metadata": {
    "executionInfo": {
     "elapsed": 1202,
     "status": "ok",
     "timestamp": 1605558047171,
     "user": {
      "displayName": "Fidan Karimova",
      "photoUrl": "https://lh3.googleusercontent.com/a-/AOh14GheAIyUCt4VuO0U0HiniUvyjuqvryBORyB1PNL8=s64",
      "userId": "01107110239791336542"
     },
     "user_tz": -120
    },
    "id": "XwuyC_I0sWdN"
   },
   "outputs": [],
   "source": [
    "def plotResults(DataSet, ModelName, group_idx, exp_idx, history, loop_no=''):\n",
    "  # plot the loss and accuracy\n",
    "  global exp_path\n",
    "\n",
    "  loop_no = str(loop_no)\n",
    "  plot_path = exp_path + 'plot'\n",
    "\n",
    "  acc = history.history['acc']\n",
    "  val_acc = history.history['val_acc']\n",
    "  loss = history.history['loss']\n",
    "  val_loss = history.history['val_loss']\n",
    "  epochs = range(1, len(acc) + 1)\n",
    "\n",
    "  plt.title('Training and validation accuracy')\n",
    "  plt.plot(epochs, acc, 'red', label='Training acc')\n",
    "  plt.plot(epochs, val_acc, 'blue', label='Validation acc')\n",
    "  plt.legend()\n",
    "\n",
    "  plt.savefig(f'{plot_path}/{loop_no}TrainValidAcc.jpg')\n",
    "\n",
    "  plt.figure()\n",
    "  plt.title('Training and validation loss')\n",
    "  plt.plot(epochs, loss, 'red', label='Training loss')\n",
    "  plt.plot(epochs, val_loss, 'blue', label='Validation loss')\n",
    "  plt.legend()\n",
    "  plt.savefig(f'{plot_path}/{loop_no}TrainValidAcc&Loss.jpg')\n",
    "\n",
    "  plt.show()"
   ]
  },
  {
   "cell_type": "markdown",
   "metadata": {
    "id": "-kjmGObDRuBf"
   },
   "source": [
    "#Looped Experiment"
   ]
  },
  {
   "cell_type": "code",
   "execution_count": null,
   "metadata": {
    "colab": {
     "base_uri": "https://localhost:8080/",
     "height": 1000
    },
    "executionInfo": {
     "elapsed": 1699101,
     "status": "ok",
     "timestamp": 1605561394518,
     "user": {
      "displayName": "Fidan Karimova",
      "photoUrl": "https://lh3.googleusercontent.com/a-/AOh14GheAIyUCt4VuO0U0HiniUvyjuqvryBORyB1PNL8=s64",
      "userId": "01107110239791336542"
     },
     "user_tz": -120
    },
    "id": "EGLKgCtwRy2j",
    "outputId": "d034a7ea-91b3-42aa-8e27-d51ed6a129de"
   },
   "outputs": [],
   "source": [
    "#Define All Results array\n",
    "All_results = []\n",
    "\n",
    "for idx in range(10):\n",
    "  \n",
    "  global exp_path\n",
    "\n",
    "  print('*****************************')\n",
    "  print(f'Experiment {str(idx)} starts')\n",
    "  print('*****************************')\n",
    "\n",
    "  ##Data Preperation\n",
    "  ###Splitting Data into 70% Train, 30% Validate\n",
    "\n",
    "  x_train_X, y_train_X, x_valid_X, y_valid_X, x_test_X, y_test_X = Fn.prepareDataGT(x_data, x_test, y_data, y_test, stratify)\n",
    "\n",
    "  print('x_train_X shape:', x_train_X.shape)\n",
    "  print('x_valid_X shape:', x_valid_X.shape)\n",
    "  print('x_test_X shape:', x_test_X.shape)\n",
    "\n",
    "  ##Train\n",
    "  thisModel = ExpModel(ModelName, DataSet, x_train_X, y_train_X, x_valid_X, y_valid_X, x_test_X, y_test_X)\n",
    "  model, history, results = thisModel.trainModel()\n",
    "\n",
    "  ##Store experiment results\n",
    "  All_results.append(results)\n",
    "\n",
    "  ##Model Saving\n",
    "  filename = str(idx) + ModelName + '_' + DataSet + '_' + group_idx + '_'+ exp_idx\n",
    "  model.save(exp_path + filename + '.h5')\n",
    "\n",
    "  # plot the loss and accuracy\n",
    "  plotResults(DataSet, ModelName, group_idx, exp_idx, history, idx)\n",
    "  \n",
    "  print('*****************************')\n",
    "  print(f'Experiment {str(idx)} ends')\n",
    "  print('*****************************')\n",
    "\n",
    "  tf.keras.backend.clear_session()"
   ]
  },
  {
   "cell_type": "markdown",
   "metadata": {
    "id": "ZdT3trA6YpBV"
   },
   "source": [
    "##Check experiments results"
   ]
  },
  {
   "cell_type": "code",
   "execution_count": null,
   "metadata": {
    "colab": {
     "base_uri": "https://localhost:8080/"
    },
    "executionInfo": {
     "elapsed": 795,
     "status": "ok",
     "timestamp": 1605561463543,
     "user": {
      "displayName": "Fidan Karimova",
      "photoUrl": "https://lh3.googleusercontent.com/a-/AOh14GheAIyUCt4VuO0U0HiniUvyjuqvryBORyB1PNL8=s64",
      "userId": "01107110239791336542"
     },
     "user_tz": -120
    },
    "id": "xRA4uAr8YtXz",
    "outputId": "f2255dab-c9d4-4c7f-eb9a-e07e37fd9138"
   },
   "outputs": [],
   "source": [
    "if len(All_results)==10:\n",
    "  print('Results Are Complete')\n",
    "else:\n",
    "  print('Results record has issue!!!')"
   ]
  },
  {
   "cell_type": "markdown",
   "metadata": {
    "id": "Kuy8kh87RejV"
   },
   "source": [
    "##Exporting Results to Excel"
   ]
  },
  {
   "cell_type": "code",
   "execution_count": null,
   "metadata": {
    "colab": {
     "base_uri": "https://localhost:8080/"
    },
    "executionInfo": {
     "elapsed": 6313,
     "status": "ok",
     "timestamp": 1605561473198,
     "user": {
      "displayName": "Fidan Karimova",
      "photoUrl": "https://lh3.googleusercontent.com/a-/AOh14GheAIyUCt4VuO0U0HiniUvyjuqvryBORyB1PNL8=s64",
      "userId": "01107110239791336542"
     },
     "user_tz": -120
    },
    "id": "E55xG3NLR5Ir",
    "outputId": "569d8c75-3222-4bb4-9331-6809b09d0d1e"
   },
   "outputs": [],
   "source": [
    "!pip install xlsxwriter"
   ]
  },
  {
   "cell_type": "markdown",
   "metadata": {
    "id": "2uFo4BzAWzfc"
   },
   "source": [
    "###Create Excel with columns header"
   ]
  },
  {
   "cell_type": "code",
   "execution_count": null,
   "metadata": {
    "executionInfo": {
     "elapsed": 792,
     "status": "ok",
     "timestamp": 1605561508900,
     "user": {
      "displayName": "Fidan Karimova",
      "photoUrl": "https://lh3.googleusercontent.com/a-/AOh14GheAIyUCt4VuO0U0HiniUvyjuqvryBORyB1PNL8=s64",
      "userId": "01107110239791336542"
     },
     "user_tz": -120
    },
    "id": "1HVzxZXQSwF6"
   },
   "outputs": [],
   "source": [
    "import pandas as pd\n",
    "from openpyxl import load_workbook\n",
    "\n",
    "excel_name = ModelName + '.xlsx'\n",
    "sheet_name = group_idx + '_' + exp_idx\n",
    "filepath = ds_path + excel_name\n",
    "\n",
    "column_titles = [['Idx', 'Train Acc', 'Valid Acc', 'Train Loss', 'Valid Loss',\\\n",
    "                 'Test Acc', 'Test Precision', 'Test Recall', 'Test F-score', 'Hamming Loss']]\n",
    "df = pd.DataFrame(column_titles)"
   ]
  },
  {
   "cell_type": "code",
   "execution_count": null,
   "metadata": {
    "executionInfo": {
     "elapsed": 588,
     "status": "ok",
     "timestamp": 1605561517225,
     "user": {
      "displayName": "Fidan Karimova",
      "photoUrl": "https://lh3.googleusercontent.com/a-/AOh14GheAIyUCt4VuO0U0HiniUvyjuqvryBORyB1PNL8=s64",
      "userId": "01107110239791336542"
     },
     "user_tz": -120
    },
    "id": "wbwWm8H9WxYk"
   },
   "outputs": [],
   "source": [
    "# Create writer object with an engine xlsxwriter\n",
    "writer = pd.ExcelWriter(filepath, engine='xlsxwriter')\n",
    "# Write data to an excel\n",
    "df.to_excel(writer, sheet_name=sheet_name, index=False, header=None)\n",
    "writer.save()"
   ]
  },
  {
   "cell_type": "markdown",
   "metadata": {
    "id": "M0OBSspQxCJV"
   },
   "source": [
    "###Parse this experiment results"
   ]
  },
  {
   "cell_type": "code",
   "execution_count": null,
   "metadata": {
    "executionInfo": {
     "elapsed": 833,
     "status": "ok",
     "timestamp": 1605561522342,
     "user": {
      "displayName": "Fidan Karimova",
      "photoUrl": "https://lh3.googleusercontent.com/a-/AOh14GheAIyUCt4VuO0U0HiniUvyjuqvryBORyB1PNL8=s64",
      "userId": "01107110239791336542"
     },
     "user_tz": -120
    },
    "id": "CuWcIk1qxI0h"
   },
   "outputs": [],
   "source": [
    "for idx, result in enumerate(All_results):\n",
    "  this_result = [idx] + result['train'] + result['test']\n",
    "  this_result = np.array(this_result).reshape(1,-1)\n",
    "  this_result = pd.DataFrame(this_result)\n",
    "\n",
    "  writer = pd.ExcelWriter(filepath, engine='openpyxl')\n",
    "  # try to open an existing workbook\n",
    "  writer.book = load_workbook(filepath)\n",
    "  # copy existing sheets\n",
    "  writer.sheets = dict((ws.title, ws) for ws in writer.book.worksheets)\n",
    "  # read existing file\n",
    "  reader = pd.read_excel(filepath)\n",
    "  # write out the new sheet\n",
    "  this_result.to_excel(writer, sheet_name=sheet_name, index=False, header=False, startrow=idx+1)\n",
    "\n",
    "  writer.close()"
   ]
  }
 ],
 "metadata": {
  "accelerator": "GPU",
  "colab": {
   "collapsed_sections": [],
   "machine_shape": "hm",
   "name": "looped_VGG_FashionMNIST_GroundTruthExp_0.ipynb",
   "provenance": [
    {
     "file_id": "1r5GUZM8--meUwWfh1NaoADm38STMRhVN",
     "timestamp": 1601990507026
    },
    {
     "file_id": "1zeYs9o6XFVKxnm3jkRur8iaVzXQK1hF1",
     "timestamp": 1584015667796
    }
   ],
   "toc_visible": true
  },
  "kernelspec": {
   "display_name": "Python 3",
   "language": "python",
   "name": "python3"
  },
  "language_info": {
   "codemirror_mode": {
    "name": "ipython",
    "version": 3
   },
   "file_extension": ".py",
   "mimetype": "text/x-python",
   "name": "python",
   "nbconvert_exporter": "python",
   "pygments_lexer": "ipython3",
   "version": "3.7.6"
  }
 },
 "nbformat": 4,
 "nbformat_minor": 1
}
