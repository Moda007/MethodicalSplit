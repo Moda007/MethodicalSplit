{
 "cells": [
  {
   "cell_type": "markdown",
   "metadata": {
    "id": "eC-Vn7LDUeCk"
   },
   "source": [
    "#Clone the repo"
   ]
  },
  {
   "cell_type": "code",
   "execution_count": null,
   "metadata": {
    "colab": {
     "base_uri": "https://localhost:8080/"
    },
    "executionInfo": {
     "elapsed": 1246,
     "status": "ok",
     "timestamp": 1609947778971,
     "user": {
      "displayName": "Thesis Modafar",
      "photoUrl": "",
      "userId": "04085889877448088796"
     },
     "user_tz": -180
    },
    "id": "q8syRlXZUf_o",
    "outputId": "4995f179-fb73-458e-d2f9-fab4af0d913b"
   },
   "outputs": [],
   "source": [
    "!git clone https://github.com/Moda007/MethodicalSplit.git"
   ]
  },
  {
   "cell_type": "code",
   "execution_count": null,
   "metadata": {
    "executionInfo": {
     "elapsed": 7802,
     "status": "ok",
     "timestamp": 1609947785550,
     "user": {
      "displayName": "Thesis Modafar",
      "photoUrl": "",
      "userId": "04085889877448088796"
     },
     "user_tz": -180
    },
    "id": "m6RA55ybUkCH"
   },
   "outputs": [],
   "source": [
    "from MethodicalSplit import Functions as Fn\n",
    "from MethodicalSplit.ExpModel import ExpModel"
   ]
  },
  {
   "cell_type": "markdown",
   "metadata": {
    "id": "8Snsq7kuUw8m"
   },
   "source": [
    "#Define experiment details"
   ]
  },
  {
   "cell_type": "code",
   "execution_count": null,
   "metadata": {
    "colab": {
     "base_uri": "https://localhost:8080/"
    },
    "executionInfo": {
     "elapsed": 24108,
     "status": "ok",
     "timestamp": 1609947802000,
     "user": {
      "displayName": "Thesis Modafar",
      "photoUrl": "",
      "userId": "04085889877448088796"
     },
     "user_tz": -180
    },
    "id": "tIetyqWxUz27",
    "outputId": "ea0f48ca-ca39-4125-d3d4-a7b39c44d124"
   },
   "outputs": [],
   "source": [
    "DataSet, ModelName, group_idx, exp_idx, Avg, Sub, Rare, stratify, train = Fn.expDetails(Fn.all_exp)"
   ]
  },
  {
   "cell_type": "code",
   "execution_count": null,
   "metadata": {
    "executionInfo": {
     "elapsed": 1752,
     "status": "ok",
     "timestamp": 1609947803412,
     "user": {
      "displayName": "Thesis Modafar",
      "photoUrl": "",
      "userId": "04085889877448088796"
     },
     "user_tz": -180
    },
    "id": "ZcxxW7f17-NQ"
   },
   "outputs": [],
   "source": [
    "no_exp_loops = 1"
   ]
  },
  {
   "cell_type": "markdown",
   "metadata": {
    "id": "8R5MmBJ4OWEZ"
   },
   "source": [
    "#Colab"
   ]
  },
  {
   "cell_type": "markdown",
   "metadata": {
    "id": "q5a_NWs0tl69"
   },
   "source": [
    "##Ignore Warnings"
   ]
  },
  {
   "cell_type": "code",
   "execution_count": null,
   "metadata": {
    "executionInfo": {
     "elapsed": 1291,
     "status": "ok",
     "timestamp": 1609947804358,
     "user": {
      "displayName": "Thesis Modafar",
      "photoUrl": "",
      "userId": "04085889877448088796"
     },
     "user_tz": -180
    },
    "id": "D8HRA1sEseKY"
   },
   "outputs": [],
   "source": [
    "import warnings\n",
    "warnings.filterwarnings('ignore')"
   ]
  },
  {
   "cell_type": "markdown",
   "metadata": {
    "id": "ZCPkvD-LtpQ1"
   },
   "source": [
    "##Mount Drive"
   ]
  },
  {
   "cell_type": "code",
   "execution_count": null,
   "metadata": {
    "colab": {
     "base_uri": "https://localhost:8080/"
    },
    "executionInfo": {
     "elapsed": 25932,
     "status": "ok",
     "timestamp": 1609947829678,
     "user": {
      "displayName": "Thesis Modafar",
      "photoUrl": "",
      "userId": "04085889877448088796"
     },
     "user_tz": -180
    },
    "id": "nc9LE3cAStjB",
    "outputId": "4958891d-9e30-4312-e65f-8ee04d64dacd"
   },
   "outputs": [],
   "source": [
    "from google.colab import drive\n",
    "drive.mount('/content/drive')"
   ]
  },
  {
   "cell_type": "markdown",
   "metadata": {
    "id": "CsZngWFkkSPv"
   },
   "source": [
    "#Importing Packages and Libraries"
   ]
  },
  {
   "cell_type": "code",
   "execution_count": null,
   "metadata": {
    "executionInfo": {
     "elapsed": 2031,
     "status": "ok",
     "timestamp": 1609947829686,
     "user": {
      "displayName": "Thesis Modafar",
      "photoUrl": "",
      "userId": "04085889877448088796"
     },
     "user_tz": -180
    },
    "id": "nZHqCupPl7E-"
   },
   "outputs": [],
   "source": [
    "import numpy as np\n",
    "import matplotlib.pyplot as plt\n",
    "import seaborn as sns\n",
    "import tensorflow as tf\n",
    "\n",
    "import umap\n",
    "from sklearn import cluster, mixture\n",
    "from sklearn.metrics import adjusted_rand_score, adjusted_mutual_info_score"
   ]
  },
  {
   "cell_type": "markdown",
   "metadata": {
    "id": "G4ejsZkTlsaC"
   },
   "source": [
    "#Dataset"
   ]
  },
  {
   "cell_type": "markdown",
   "metadata": {
    "id": "tY7yX9KHmYpx"
   },
   "source": [
    "##Importing Dataset"
   ]
  },
  {
   "cell_type": "code",
   "execution_count": null,
   "metadata": {
    "colab": {
     "base_uri": "https://localhost:8080/",
     "height": 252,
     "referenced_widgets": [
      "5ff1eba565074204970b3794e62b51ef",
      "9d6af5bc052d49ed917f7e0689612daa",
      "5c1728c7b30b48aab4a71db9e8252086",
      "e3b41a79f4d94492914cdb5231bcce73",
      "6815a4dc831e4d0393fc460bddee3bd3",
      "4015f2d3b9294a2793c6770df14a5b2f",
      "52021c0b277f4cf2a6b25d15c073c5c0",
      "45344f28091d4471bff1e675ad634f34",
      "56f941c6f3a7498e8e7abd3f368d30b1",
      "02e07d735a2549d08837e97f50e28174",
      "e3d4eeb7554241d3827d79a6a6d113b8",
      "711640a20373471eba6221d62d158f6c",
      "aed0010d9ca14692925065464e25f0dd",
      "ae067f5d8546418ebcd2f64672f4abac",
      "8f2c20c71c254fc0bd25a717f29da244",
      "b736382a03424545854c09516abe17fd",
      "4605624425744ebfbd9fa568ef4fcbdc",
      "ed892297629d4f42ac12b0c1b62c4038",
      "e50bbdc8d4f649618208c5f2e42ca8b7",
      "8bf07e2797804ba28b2af19f5c5ada76",
      "c7baebb9aecf435aaee12c7192705c7e",
      "161470e731de46efaf07480ca0776dfe",
      "301ab739d0fd4ef9b98dbf386e089269",
      "f03f9b45f5f04378814b3b0aa64f453c",
      "c83445d04c1d4a6eb0237c1bde9a5ff9",
      "5045835dee7444e4bb815b463f2abf56",
      "ced0e56c12f94b7e81a1881474a9c84b",
      "b1f5d145625947f0b353c051716f4401",
      "40f2b5a8bcbf41f59cf937d789f1ce64",
      "9f19cb76aed645ab87f706b222b9963a",
      "5de482bcc80043a2925610a1cdce6d91",
      "6b71c7656f4448a28ba960090c26734c"
     ]
    },
    "executionInfo": {
     "elapsed": 1244061,
     "status": "ok",
     "timestamp": 1609949074054,
     "user": {
      "displayName": "Thesis Modafar",
      "photoUrl": "",
      "userId": "04085889877448088796"
     },
     "user_tz": -180
    },
    "id": "msfRTTUvkXhi",
    "outputId": "ce8ada49-7517-4a07-936a-ded97865ad6f"
   },
   "outputs": [],
   "source": [
    "import tensorflow_datasets as tfds\n",
    "data = tfds.load('shapes3d', split=\"train\", shuffle_files=True, batch_size=-1)\n",
    "data = tfds.as_numpy(data)\n",
    "is_colored = True"
   ]
  },
  {
   "cell_type": "code",
   "execution_count": null,
   "metadata": {
    "executionInfo": {
     "elapsed": 1247247,
     "status": "ok",
     "timestamp": 1609949077646,
     "user": {
      "displayName": "Thesis Modafar",
      "photoUrl": "",
      "userId": "04085889877448088796"
     },
     "user_tz": -180
    },
    "id": "_3hnI0IHXuBn"
   },
   "outputs": [],
   "source": [
    "x_data = []\n",
    "for i in range(0, data['image'].shape[0], 8): # use 60,000/480,000 images to avoid \"memory outage\"\n",
    "  x_data.append(data['image'][i].astype('float32')/255)\n",
    "x_data = np.array(x_data)"
   ]
  },
  {
   "cell_type": "code",
   "execution_count": null,
   "metadata": {
    "executionInfo": {
     "elapsed": 1246455,
     "status": "ok",
     "timestamp": 1609949077648,
     "user": {
      "displayName": "Thesis Modafar",
      "photoUrl": "",
      "userId": "04085889877448088796"
     },
     "user_tz": -180
    },
    "id": "aMLkHjpmXut6"
   },
   "outputs": [],
   "source": [
    "label = 'label_shape'\n",
    "y_data = []\n",
    "for i in range(0, data['image'].shape[0], 8):\n",
    "  y_data.append(data[label][i])\n",
    "\n",
    "y_data = np.array(y_data)"
   ]
  },
  {
   "cell_type": "code",
   "execution_count": null,
   "metadata": {
    "colab": {
     "base_uri": "https://localhost:8080/"
    },
    "executionInfo": {
     "elapsed": 1245961,
     "status": "ok",
     "timestamp": 1609949077651,
     "user": {
      "displayName": "Thesis Modafar",
      "photoUrl": "",
      "userId": "04085889877448088796"
     },
     "user_tz": -180
    },
    "id": "wiK6Zaf9kXhj",
    "outputId": "715e0bdb-b938-4190-eba6-da089632e177"
   },
   "outputs": [],
   "source": [
    "print(\"x_data shape:\", x_data.shape)\n",
    "print(\"y_data shape:\", y_data.shape)"
   ]
  },
  {
   "cell_type": "markdown",
   "metadata": {
    "id": "wuftUZ_zmmbq"
   },
   "source": [
    "##Flatten dataset"
   ]
  },
  {
   "cell_type": "code",
   "execution_count": null,
   "metadata": {
    "colab": {
     "base_uri": "https://localhost:8080/"
    },
    "executionInfo": {
     "elapsed": 1244377,
     "status": "ok",
     "timestamp": 1609949077654,
     "user": {
      "displayName": "Thesis Modafar",
      "photoUrl": "",
      "userId": "04085889877448088796"
     },
     "user_tz": -180
    },
    "id": "tik1wkfKmPt-",
    "outputId": "edaea221-c3f2-45c1-8a50-4d54e6e065e7"
   },
   "outputs": [],
   "source": [
    "flatten_x = x_data.reshape((x_data.shape[0], -1))\n",
    "print(\"flatten_x shape:\", flatten_x.shape)"
   ]
  },
  {
   "cell_type": "markdown",
   "metadata": {
    "id": "yaSdl7Fkm6wR"
   },
   "source": [
    "#Model (Loop)"
   ]
  },
  {
   "cell_type": "markdown",
   "metadata": {
    "id": "Yzhq8e73HcxL"
   },
   "source": [
    "##>>> Experiment"
   ]
  },
  {
   "cell_type": "code",
   "execution_count": null,
   "metadata": {
    "executionInfo": {
     "elapsed": 1241332,
     "status": "ok",
     "timestamp": 1609949077662,
     "user": {
      "displayName": "Thesis Modafar",
      "photoUrl": "",
      "userId": "04085889877448088796"
     },
     "user_tz": -180
    },
    "id": "xAOfmVErptoo"
   },
   "outputs": [],
   "source": [
    "looped = True\n",
    "if looped:\n",
    "  looped = 'looped_'\n",
    "else:\n",
    "  looped = ''\n",
    "\n",
    "ds_path = '/content/drive/My Drive/Thesis Notebooks/' + DataSet + '/'\n",
    "exp_path = ds_path + ModelName + '/Group_' + group_idx + '/Exp' + exp_idx + '/'"
   ]
  },
  {
   "cell_type": "code",
   "execution_count": null,
   "metadata": {
    "executionInfo": {
     "elapsed": 1240691,
     "status": "ok",
     "timestamp": 1609949077664,
     "user": {
      "displayName": "Thesis Modafar",
      "photoUrl": "",
      "userId": "04085889877448088796"
     },
     "user_tz": -180
    },
    "id": "XwuyC_I0sWdN"
   },
   "outputs": [],
   "source": [
    "def plotResults(DataSet, ModelName, group_idx, exp_idx, history, loop_no=''):\n",
    "  # plot the loss and accuracy\n",
    "  global exp_path\n",
    "\n",
    "  loop_no = str(loop_no)\n",
    "  plot_path = exp_path + 'plot'\n",
    "\n",
    "  acc = history.history['acc']\n",
    "  val_acc = history.history['val_acc']\n",
    "  loss = history.history['loss']\n",
    "  val_loss = history.history['val_loss']\n",
    "  epochs = range(1, len(acc) + 1)\n",
    "\n",
    "  plt.title('Training and validation accuracy')\n",
    "  plt.plot(epochs, acc, 'red', label='Training acc')\n",
    "  plt.plot(epochs, val_acc, 'blue', label='Validation acc')\n",
    "  plt.legend()\n",
    "\n",
    "  plt.savefig(f'{plot_path}/{loop_no}TrainValidAcc.jpg')\n",
    "\n",
    "  plt.figure()\n",
    "  plt.title('Training and validation loss')\n",
    "  plt.plot(epochs, loss, 'red', label='Training loss')\n",
    "  plt.plot(epochs, val_loss, 'blue', label='Validation loss')\n",
    "  plt.legend()\n",
    "  plt.savefig(f'{plot_path}/{loop_no}TrainValidAcc&Loss.jpg')\n",
    "\n",
    "  plt.show()"
   ]
  },
  {
   "cell_type": "markdown",
   "metadata": {
    "id": "-kjmGObDRuBf"
   },
   "source": [
    "#Looped Experiment"
   ]
  },
  {
   "cell_type": "code",
   "execution_count": null,
   "metadata": {
    "colab": {
     "base_uri": "https://localhost:8080/",
     "height": 1000
    },
    "executionInfo": {
     "elapsed": 2411763,
     "status": "ok",
     "timestamp": 1609950263516,
     "user": {
      "displayName": "Thesis Modafar",
      "photoUrl": "",
      "userId": "04085889877448088796"
     },
     "user_tz": -180
    },
    "id": "XTOA540_9qya",
    "outputId": "63cb8aaf-87bf-4ee9-96c0-f261735d1465"
   },
   "outputs": [],
   "source": [
    "#Define All Results array\n",
    "All_results = []\n",
    "\n",
    "for idx in range(no_exp_loops):\n",
    "  \n",
    "  global exp_path\n",
    "  plot_path = exp_path +  'plot'\n",
    "  print('*****************************')\n",
    "  print(f'Experiment {str(idx)} starts')\n",
    "  print('*****************************')\n",
    "\n",
    "  #2D Embedding - UMAP\n",
    "  standard_embedding = umap.UMAP(random_state=42, n_neighbors=30, min_dist=0.0, n_components=2).fit_transform(flatten_x)\n",
    "  #Plotting with Original Labels\n",
    "  ##2D - Plotting\n",
    "  plt.scatter(standard_embedding[:, 0], standard_embedding[:, 1], c=y_data, s=0.1, cmap='Spectral')\n",
    "  plt.savefig(f'{plot_path}/{idx}2DOriginalScatter.jpg')\n",
    "  plt. clf()\n",
    "  sns.distplot(standard_embedding, kde=True, rug=True, bins=15)\n",
    "  plt.savefig(f'{plot_path}/{idx}2DOriginalhistogram.jpg')\n",
    "  plt. clf()\n",
    "\n",
    "  #Clustering - HDBSCAN\n",
    "  gmm_labels = mixture.GaussianMixture(n_components=10, n_init=1).fit_predict(standard_embedding)\n",
    "  no_of_clusters = Fn.clustersDet(gmm_labels)\n",
    "\n",
    "  ##Plotting with Cluster Labels\n",
    "  ### 2D - Plotting\n",
    "  plt.scatter(standard_embedding[:, 0], standard_embedding[:, 1], c=gmm_labels, s=0.1, cmap='Spectral')\n",
    "  plt.savefig(f'{plot_path}/{idx}2DClustersScatter.jpg')\n",
    "  plt. clf()\n",
    "  \n",
    "  #1D  Embedding per Cluster on the original Data\n",
    "  #Using UMAP =>>> random_state=42, n_neighbors=30, min_dist=0, n_components=1\n",
    "  clusters_list, labels_list, original_images_list = Fn.embedding1D(no_of_clusters, flatten_x, gmm_labels, y_data, False)\n",
    "  #Plotting Clusters Scatter Diagram\n",
    "  ##All Clusters\n",
    "  #Plotting scatter diagram for all clusters together\n",
    "  #define a list of colors for clusters\n",
    "  color_maps=['tab10', 'hsv', 'gist_stern', 'Accent', 'Dark2', 'Spectral', 'rainbow', 'brg', 'Pastel1', 'coolwarm']\n",
    "\n",
    "  for u in range(no_of_clusters):\n",
    "    plt.scatter(standard_embedding[gmm_labels==u][:, 0], standard_embedding[gmm_labels==u][:, 1],\\\n",
    "              c=gmm_labels[gmm_labels==u], s=0.1, cmap=color_maps[u])\n",
    "  plt.savefig(f'{plot_path}/{idx}1DClustersScatter.jpg')\n",
    "  plt. clf()\n",
    "  for u in range(no_of_clusters):\n",
    "    plt.scatter(standard_embedding[gmm_labels==u][:, 0], standard_embedding[gmm_labels==u][:, 1],\\\n",
    "              c=gmm_labels[gmm_labels==u], s=0.1, cmap=color_maps[u])\n",
    "    plt.savefig(f'{plot_path}/{idx}1DCluster{str(u)}Scatter.jpg')\n",
    "    plt. clf()\n",
    "  \n",
    "  #Data Splitting (per cluster) using Quantile\n",
    "  Region_1, Region_2, Region_3,\\\n",
    "  Region_1_labels, Region_2_labels, Region_3_labels,\\\n",
    "  Region_1_original, Region_2_original, Region_3_original = Fn.splitData(no_of_clusters, Avg, Sub, Rare, clusters_list,\\\n",
    "                                                                       labels_list, original_images_list)\n",
    "  for u in range(no_of_clusters):\n",
    "    Fn.showSplit(Region_1, Region_2, Region_3, u)\n",
    "    plt.savefig(f'{plot_path}/{idx}Cluster{str(u)}SplitHistogram.jpg')\n",
    "    plt. clf()\n",
    "    Fn.showSamples(Region_1_original[u], Region_2_original[u], Region_3_original[u], Region_1_labels[u], Region_2_labels[u], Region_3_labels[u])\n",
    "    plt.savefig(f'{plot_path}/{idx}Samples{str(u)}.jpg')\n",
    "    plt. clf()\n",
    "  ##Data Preperation\n",
    "  ###Splitting Data into 63% Train, 27% Validate, 10%Test\n",
    "  x_train_X, y_train_X, x_valid_X, y_valid_X, x_test_X, y_test_X = Fn.prepareDataExtreme(no_of_clusters, Region_1_original,\\\n",
    "                                                                                       Region_1_labels, Region_2_original,\\\n",
    "                                                                                       Region_2_labels, Region_3_original,\\\n",
    "                                                                                       Region_3_labels, exp_idx, is_colored)\n",
    "\n",
    "  print('x_train_X shape:', x_train_X.shape)\n",
    "  print('x_valid_X shape:', x_valid_X.shape)\n",
    "  print('x_test_X shape:', x_test_X.shape)\n",
    "\n",
    "  ##Train\n",
    "  thisModel = ExpModel(ModelName, DataSet, x_train_X, y_train_X, x_valid_X, y_valid_X, x_test_X, y_test_X)\n",
    "  model, history, results = thisModel.trainModel()\n",
    "\n",
    "  ##Store experiment results\n",
    "  All_results.append(results)\n",
    "\n",
    "  ##Model Saving\n",
    "  filename = str(idx) + ModelName + '_' + DataSet + '_' + group_idx + '_'+ exp_idx\n",
    "  model.save(exp_path + filename + '.h5')\n",
    "\n",
    "  # plot the loss and accuracy\n",
    "  plotResults(DataSet, ModelName, group_idx, exp_idx, history, idx)\n",
    "  \n",
    "  print('*****************************')\n",
    "  print(f'Experiment {str(idx)} ends')\n",
    "  print('*****************************')\n",
    "\n",
    "  # tf.keras.backend.clear_session()"
   ]
  },
  {
   "cell_type": "markdown",
   "metadata": {
    "id": "ZdT3trA6YpBV"
   },
   "source": [
    "##Check experiments results"
   ]
  },
  {
   "cell_type": "code",
   "execution_count": null,
   "metadata": {
    "colab": {
     "base_uri": "https://localhost:8080/"
    },
    "executionInfo": {
     "elapsed": 2410713,
     "status": "ok",
     "timestamp": 1609950263840,
     "user": {
      "displayName": "Thesis Modafar",
      "photoUrl": "",
      "userId": "04085889877448088796"
     },
     "user_tz": -180
    },
    "id": "xRA4uAr8YtXz",
    "outputId": "a283fd3b-b123-4b4f-abbc-a1b2880324bb"
   },
   "outputs": [],
   "source": [
    "if len(All_results)==no_exp_loops:\n",
    "  print('Results Are Complete')\n",
    "else:\n",
    "  print('Results record has issue!!!')"
   ]
  },
  {
   "cell_type": "markdown",
   "metadata": {
    "id": "Kuy8kh87RejV"
   },
   "source": [
    "##Exporting Results to Excel"
   ]
  },
  {
   "cell_type": "code",
   "execution_count": null,
   "metadata": {
    "colab": {
     "base_uri": "https://localhost:8080/"
    },
    "executionInfo": {
     "elapsed": 2414788,
     "status": "ok",
     "timestamp": 1609950268442,
     "user": {
      "displayName": "Thesis Modafar",
      "photoUrl": "",
      "userId": "04085889877448088796"
     },
     "user_tz": -180
    },
    "id": "E55xG3NLR5Ir",
    "outputId": "28ce2108-7350-4919-dbc4-2e28b34e669b"
   },
   "outputs": [],
   "source": [
    "!pip install xlsxwriter"
   ]
  },
  {
   "cell_type": "markdown",
   "metadata": {
    "id": "2uFo4BzAWzfc"
   },
   "source": [
    "###Create Excel with columns header"
   ]
  },
  {
   "cell_type": "code",
   "execution_count": null,
   "metadata": {
    "executionInfo": {
     "elapsed": 2415026,
     "status": "ok",
     "timestamp": 1609950269016,
     "user": {
      "displayName": "Thesis Modafar",
      "photoUrl": "",
      "userId": "04085889877448088796"
     },
     "user_tz": -180
    },
    "id": "1HVzxZXQSwF6"
   },
   "outputs": [],
   "source": [
    "import pandas as pd\n",
    "from openpyxl import load_workbook\n",
    "\n",
    "excel_name = ModelName + '.xlsx'\n",
    "sheet_name = group_idx + '_' + exp_idx\n",
    "filepath = ds_path + excel_name\n",
    "\n",
    "column_titles = [['Idx', 'Train Acc', 'Valid Acc', 'Train Loss', 'Valid Loss',\\\n",
    "                 'Test Acc', 'Test Precision', 'Test Recall', 'Test F-score', 'Hamming Loss']]\n",
    "df = pd.DataFrame(column_titles)"
   ]
  },
  {
   "cell_type": "code",
   "execution_count": null,
   "metadata": {
    "executionInfo": {
     "elapsed": 2415123,
     "status": "ok",
     "timestamp": 1609950269300,
     "user": {
      "displayName": "Thesis Modafar",
      "photoUrl": "",
      "userId": "04085889877448088796"
     },
     "user_tz": -180
    },
    "id": "2Em1e9YkAK9F"
   },
   "outputs": [],
   "source": [
    "from pathlib import Path\n",
    "\n",
    "if not Path(filepath).exists():\n",
    "  # Create writer object with an engine xlsxwriter\n",
    "  writer = pd.ExcelWriter(filepath, engine='xlsxwriter')\n",
    "  # Write data to an excel\n",
    "  df.to_excel(writer, sheet_name=sheet_name, index=False, header=None)\n",
    "  writer.save()\n",
    "else:\n",
    "  book = load_workbook(filepath)\n",
    "  with pd.ExcelWriter(filepath, engine='openpyxl') as writer:\n",
    "    writer.book = book\n",
    "    writer.sheets = dict((ws.title, ws) for ws in book.worksheets)    \n",
    "    ##dataframe to append. \n",
    "    df.to_excel(writer, sheet_name=sheet_name, index=False, header=None)  \n",
    "    writer.save() "
   ]
  },
  {
   "cell_type": "markdown",
   "metadata": {
    "id": "M0OBSspQxCJV"
   },
   "source": [
    "###Parse this experiment results"
   ]
  },
  {
   "cell_type": "code",
   "execution_count": null,
   "metadata": {
    "executionInfo": {
     "elapsed": 2414179,
     "status": "ok",
     "timestamp": 1609950269302,
     "user": {
      "displayName": "Thesis Modafar",
      "photoUrl": "",
      "userId": "04085889877448088796"
     },
     "user_tz": -180
    },
    "id": "CuWcIk1qxI0h"
   },
   "outputs": [],
   "source": [
    "for idx, result in enumerate(All_results):\n",
    "  this_result = [idx] + result['train'] + result['test']\n",
    "  this_result = np.array(this_result).reshape(1,-1)\n",
    "  this_result = pd.DataFrame(this_result)\n",
    "\n",
    "  writer = pd.ExcelWriter(filepath, engine='openpyxl')\n",
    "  # try to open an existing workbook\n",
    "  writer.book = load_workbook(filepath)\n",
    "  # copy existing sheets\n",
    "  writer.sheets = dict((ws.title, ws) for ws in writer.book.worksheets)\n",
    "  # read existing file\n",
    "  reader = pd.read_excel(filepath)\n",
    "  # write out the new sheet\n",
    "  this_result.to_excel(writer, sheet_name=sheet_name, index=False, header=False, startrow=idx+1)\n",
    "\n",
    "  writer.close()"
   ]
  },
  {
   "cell_type": "code",
   "execution_count": null,
   "metadata": {
    "executionInfo": {
     "elapsed": 2414066,
     "status": "ok",
     "timestamp": 1609950269304,
     "user": {
      "displayName": "Thesis Modafar",
      "photoUrl": "",
      "userId": "04085889877448088796"
     },
     "user_tz": -180
    },
    "id": "YV1HTYe2XrdB"
   },
   "outputs": [],
   "source": []
  }
 ],
 "metadata": {
  "accelerator": "GPU",
  "colab": {
   "collapsed_sections": [],
   "machine_shape": "hm",
   "name": "looped_ResNet_Shapes3Dshape_Exp_20.ipynb",
   "provenance": [
    {
     "file_id": "1r5GUZM8--meUwWfh1NaoADm38STMRhVN",
     "timestamp": 1601990507026
    },
    {
     "file_id": "1zeYs9o6XFVKxnm3jkRur8iaVzXQK1hF1",
     "timestamp": 1584015667796
    }
   ]
  },
  "kernelspec": {
   "display_name": "Python 3",
   "language": "python",
   "name": "python3"
  },
  "language_info": {
   "codemirror_mode": {
    "name": "ipython",
    "version": 3
   },
   "file_extension": ".py",
   "mimetype": "text/x-python",
   "name": "python",
   "nbconvert_exporter": "python",
   "pygments_lexer": "ipython3",
   "version": "3.7.6"
  },
  "widgets": {
   "application/vnd.jupyter.widget-state+json": {
    "02e07d735a2549d08837e97f50e28174": {
     "model_module": "@jupyter-widgets/base",
     "model_name": "LayoutModel",
     "state": {
      "_model_module": "@jupyter-widgets/base",
      "_model_module_version": "1.2.0",
      "_model_name": "LayoutModel",
      "_view_count": null,
      "_view_module": "@jupyter-widgets/base",
      "_view_module_version": "1.2.0",
      "_view_name": "LayoutView",
      "align_content": null,
      "align_items": null,
      "align_self": null,
      "border": null,
      "bottom": null,
      "display": null,
      "flex": null,
      "flex_flow": null,
      "grid_area": null,
      "grid_auto_columns": null,
      "grid_auto_flow": null,
      "grid_auto_rows": null,
      "grid_column": null,
      "grid_gap": null,
      "grid_row": null,
      "grid_template_areas": null,
      "grid_template_columns": null,
      "grid_template_rows": null,
      "height": null,
      "justify_content": null,
      "justify_items": null,
      "left": null,
      "margin": null,
      "max_height": null,
      "max_width": null,
      "min_height": null,
      "min_width": null,
      "object_fit": null,
      "object_position": null,
      "order": null,
      "overflow": null,
      "overflow_x": null,
      "overflow_y": null,
      "padding": null,
      "right": null,
      "top": null,
      "visibility": null,
      "width": null
     }
    },
    "161470e731de46efaf07480ca0776dfe": {
     "model_module": "@jupyter-widgets/base",
     "model_name": "LayoutModel",
     "state": {
      "_model_module": "@jupyter-widgets/base",
      "_model_module_version": "1.2.0",
      "_model_name": "LayoutModel",
      "_view_count": null,
      "_view_module": "@jupyter-widgets/base",
      "_view_module_version": "1.2.0",
      "_view_name": "LayoutView",
      "align_content": null,
      "align_items": null,
      "align_self": null,
      "border": null,
      "bottom": null,
      "display": null,
      "flex": null,
      "flex_flow": null,
      "grid_area": null,
      "grid_auto_columns": null,
      "grid_auto_flow": null,
      "grid_auto_rows": null,
      "grid_column": null,
      "grid_gap": null,
      "grid_row": null,
      "grid_template_areas": null,
      "grid_template_columns": null,
      "grid_template_rows": null,
      "height": null,
      "justify_content": null,
      "justify_items": null,
      "left": null,
      "margin": null,
      "max_height": null,
      "max_width": null,
      "min_height": null,
      "min_width": null,
      "object_fit": null,
      "object_position": null,
      "order": null,
      "overflow": null,
      "overflow_x": null,
      "overflow_y": null,
      "padding": null,
      "right": null,
      "top": null,
      "visibility": null,
      "width": null
     }
    },
    "301ab739d0fd4ef9b98dbf386e089269": {
     "model_module": "@jupyter-widgets/controls",
     "model_name": "DescriptionStyleModel",
     "state": {
      "_model_module": "@jupyter-widgets/controls",
      "_model_module_version": "1.5.0",
      "_model_name": "DescriptionStyleModel",
      "_view_count": null,
      "_view_module": "@jupyter-widgets/base",
      "_view_module_version": "1.2.0",
      "_view_name": "StyleView",
      "description_width": ""
     }
    },
    "4015f2d3b9294a2793c6770df14a5b2f": {
     "model_module": "@jupyter-widgets/base",
     "model_name": "LayoutModel",
     "state": {
      "_model_module": "@jupyter-widgets/base",
      "_model_module_version": "1.2.0",
      "_model_name": "LayoutModel",
      "_view_count": null,
      "_view_module": "@jupyter-widgets/base",
      "_view_module_version": "1.2.0",
      "_view_name": "LayoutView",
      "align_content": null,
      "align_items": null,
      "align_self": null,
      "border": null,
      "bottom": null,
      "display": null,
      "flex": null,
      "flex_flow": null,
      "grid_area": null,
      "grid_auto_columns": null,
      "grid_auto_flow": null,
      "grid_auto_rows": null,
      "grid_column": null,
      "grid_gap": null,
      "grid_row": null,
      "grid_template_areas": null,
      "grid_template_columns": null,
      "grid_template_rows": null,
      "height": null,
      "justify_content": null,
      "justify_items": null,
      "left": null,
      "margin": null,
      "max_height": null,
      "max_width": null,
      "min_height": null,
      "min_width": null,
      "object_fit": null,
      "object_position": null,
      "order": null,
      "overflow": null,
      "overflow_x": null,
      "overflow_y": null,
      "padding": null,
      "right": null,
      "top": null,
      "visibility": null,
      "width": null
     }
    },
    "40f2b5a8bcbf41f59cf937d789f1ce64": {
     "model_module": "@jupyter-widgets/controls",
     "model_name": "ProgressStyleModel",
     "state": {
      "_model_module": "@jupyter-widgets/controls",
      "_model_module_version": "1.5.0",
      "_model_name": "ProgressStyleModel",
      "_view_count": null,
      "_view_module": "@jupyter-widgets/base",
      "_view_module_version": "1.2.0",
      "_view_name": "StyleView",
      "bar_color": null,
      "description_width": "initial"
     }
    },
    "45344f28091d4471bff1e675ad634f34": {
     "model_module": "@jupyter-widgets/base",
     "model_name": "LayoutModel",
     "state": {
      "_model_module": "@jupyter-widgets/base",
      "_model_module_version": "1.2.0",
      "_model_name": "LayoutModel",
      "_view_count": null,
      "_view_module": "@jupyter-widgets/base",
      "_view_module_version": "1.2.0",
      "_view_name": "LayoutView",
      "align_content": null,
      "align_items": null,
      "align_self": null,
      "border": null,
      "bottom": null,
      "display": null,
      "flex": null,
      "flex_flow": null,
      "grid_area": null,
      "grid_auto_columns": null,
      "grid_auto_flow": null,
      "grid_auto_rows": null,
      "grid_column": null,
      "grid_gap": null,
      "grid_row": null,
      "grid_template_areas": null,
      "grid_template_columns": null,
      "grid_template_rows": null,
      "height": null,
      "justify_content": null,
      "justify_items": null,
      "left": null,
      "margin": null,
      "max_height": null,
      "max_width": null,
      "min_height": null,
      "min_width": null,
      "object_fit": null,
      "object_position": null,
      "order": null,
      "overflow": null,
      "overflow_x": null,
      "overflow_y": null,
      "padding": null,
      "right": null,
      "top": null,
      "visibility": null,
      "width": null
     }
    },
    "4605624425744ebfbd9fa568ef4fcbdc": {
     "model_module": "@jupyter-widgets/controls",
     "model_name": "HBoxModel",
     "state": {
      "_dom_classes": [],
      "_model_module": "@jupyter-widgets/controls",
      "_model_module_version": "1.5.0",
      "_model_name": "HBoxModel",
      "_view_count": null,
      "_view_module": "@jupyter-widgets/controls",
      "_view_module_version": "1.5.0",
      "_view_name": "HBoxView",
      "box_style": "",
      "children": [
       "IPY_MODEL_e50bbdc8d4f649618208c5f2e42ca8b7",
       "IPY_MODEL_8bf07e2797804ba28b2af19f5c5ada76"
      ],
      "layout": "IPY_MODEL_ed892297629d4f42ac12b0c1b62c4038"
     }
    },
    "5045835dee7444e4bb815b463f2abf56": {
     "model_module": "@jupyter-widgets/base",
     "model_name": "LayoutModel",
     "state": {
      "_model_module": "@jupyter-widgets/base",
      "_model_module_version": "1.2.0",
      "_model_name": "LayoutModel",
      "_view_count": null,
      "_view_module": "@jupyter-widgets/base",
      "_view_module_version": "1.2.0",
      "_view_name": "LayoutView",
      "align_content": null,
      "align_items": null,
      "align_self": null,
      "border": null,
      "bottom": null,
      "display": null,
      "flex": null,
      "flex_flow": null,
      "grid_area": null,
      "grid_auto_columns": null,
      "grid_auto_flow": null,
      "grid_auto_rows": null,
      "grid_column": null,
      "grid_gap": null,
      "grid_row": null,
      "grid_template_areas": null,
      "grid_template_columns": null,
      "grid_template_rows": null,
      "height": null,
      "justify_content": null,
      "justify_items": null,
      "left": null,
      "margin": null,
      "max_height": null,
      "max_width": null,
      "min_height": null,
      "min_width": null,
      "object_fit": null,
      "object_position": null,
      "order": null,
      "overflow": null,
      "overflow_x": null,
      "overflow_y": null,
      "padding": null,
      "right": null,
      "top": null,
      "visibility": null,
      "width": null
     }
    },
    "52021c0b277f4cf2a6b25d15c073c5c0": {
     "model_module": "@jupyter-widgets/controls",
     "model_name": "DescriptionStyleModel",
     "state": {
      "_model_module": "@jupyter-widgets/controls",
      "_model_module_version": "1.5.0",
      "_model_name": "DescriptionStyleModel",
      "_view_count": null,
      "_view_module": "@jupyter-widgets/base",
      "_view_module_version": "1.2.0",
      "_view_name": "StyleView",
      "description_width": ""
     }
    },
    "56f941c6f3a7498e8e7abd3f368d30b1": {
     "model_module": "@jupyter-widgets/controls",
     "model_name": "HBoxModel",
     "state": {
      "_dom_classes": [],
      "_model_module": "@jupyter-widgets/controls",
      "_model_module_version": "1.5.0",
      "_model_name": "HBoxModel",
      "_view_count": null,
      "_view_module": "@jupyter-widgets/controls",
      "_view_module_version": "1.5.0",
      "_view_name": "HBoxView",
      "box_style": "",
      "children": [
       "IPY_MODEL_e3d4eeb7554241d3827d79a6a6d113b8",
       "IPY_MODEL_711640a20373471eba6221d62d158f6c"
      ],
      "layout": "IPY_MODEL_02e07d735a2549d08837e97f50e28174"
     }
    },
    "5c1728c7b30b48aab4a71db9e8252086": {
     "model_module": "@jupyter-widgets/controls",
     "model_name": "FloatProgressModel",
     "state": {
      "_dom_classes": [],
      "_model_module": "@jupyter-widgets/controls",
      "_model_module_version": "1.5.0",
      "_model_name": "FloatProgressModel",
      "_view_count": null,
      "_view_module": "@jupyter-widgets/controls",
      "_view_module_version": "1.5.0",
      "_view_name": "ProgressView",
      "bar_style": "success",
      "description": "Dl Completed...: 100%",
      "description_tooltip": null,
      "layout": "IPY_MODEL_4015f2d3b9294a2793c6770df14a5b2f",
      "max": 1,
      "min": 0,
      "orientation": "horizontal",
      "style": "IPY_MODEL_6815a4dc831e4d0393fc460bddee3bd3",
      "value": 1
     }
    },
    "5de482bcc80043a2925610a1cdce6d91": {
     "model_module": "@jupyter-widgets/controls",
     "model_name": "DescriptionStyleModel",
     "state": {
      "_model_module": "@jupyter-widgets/controls",
      "_model_module_version": "1.5.0",
      "_model_name": "DescriptionStyleModel",
      "_view_count": null,
      "_view_module": "@jupyter-widgets/base",
      "_view_module_version": "1.2.0",
      "_view_name": "StyleView",
      "description_width": ""
     }
    },
    "5ff1eba565074204970b3794e62b51ef": {
     "model_module": "@jupyter-widgets/controls",
     "model_name": "HBoxModel",
     "state": {
      "_dom_classes": [],
      "_model_module": "@jupyter-widgets/controls",
      "_model_module_version": "1.5.0",
      "_model_name": "HBoxModel",
      "_view_count": null,
      "_view_module": "@jupyter-widgets/controls",
      "_view_module_version": "1.5.0",
      "_view_name": "HBoxView",
      "box_style": "",
      "children": [
       "IPY_MODEL_5c1728c7b30b48aab4a71db9e8252086",
       "IPY_MODEL_e3b41a79f4d94492914cdb5231bcce73"
      ],
      "layout": "IPY_MODEL_9d6af5bc052d49ed917f7e0689612daa"
     }
    },
    "6815a4dc831e4d0393fc460bddee3bd3": {
     "model_module": "@jupyter-widgets/controls",
     "model_name": "ProgressStyleModel",
     "state": {
      "_model_module": "@jupyter-widgets/controls",
      "_model_module_version": "1.5.0",
      "_model_name": "ProgressStyleModel",
      "_view_count": null,
      "_view_module": "@jupyter-widgets/base",
      "_view_module_version": "1.2.0",
      "_view_name": "StyleView",
      "bar_color": null,
      "description_width": "initial"
     }
    },
    "6b71c7656f4448a28ba960090c26734c": {
     "model_module": "@jupyter-widgets/base",
     "model_name": "LayoutModel",
     "state": {
      "_model_module": "@jupyter-widgets/base",
      "_model_module_version": "1.2.0",
      "_model_name": "LayoutModel",
      "_view_count": null,
      "_view_module": "@jupyter-widgets/base",
      "_view_module_version": "1.2.0",
      "_view_name": "LayoutView",
      "align_content": null,
      "align_items": null,
      "align_self": null,
      "border": null,
      "bottom": null,
      "display": null,
      "flex": null,
      "flex_flow": null,
      "grid_area": null,
      "grid_auto_columns": null,
      "grid_auto_flow": null,
      "grid_auto_rows": null,
      "grid_column": null,
      "grid_gap": null,
      "grid_row": null,
      "grid_template_areas": null,
      "grid_template_columns": null,
      "grid_template_rows": null,
      "height": null,
      "justify_content": null,
      "justify_items": null,
      "left": null,
      "margin": null,
      "max_height": null,
      "max_width": null,
      "min_height": null,
      "min_width": null,
      "object_fit": null,
      "object_position": null,
      "order": null,
      "overflow": null,
      "overflow_x": null,
      "overflow_y": null,
      "padding": null,
      "right": null,
      "top": null,
      "visibility": null,
      "width": null
     }
    },
    "711640a20373471eba6221d62d158f6c": {
     "model_module": "@jupyter-widgets/controls",
     "model_name": "HTMLModel",
     "state": {
      "_dom_classes": [],
      "_model_module": "@jupyter-widgets/controls",
      "_model_module_version": "1.5.0",
      "_model_name": "HTMLModel",
      "_view_count": null,
      "_view_module": "@jupyter-widgets/controls",
      "_view_module_version": "1.5.0",
      "_view_name": "HTMLView",
      "description": "",
      "description_tooltip": null,
      "layout": "IPY_MODEL_b736382a03424545854c09516abe17fd",
      "placeholder": "​",
      "style": "IPY_MODEL_8f2c20c71c254fc0bd25a717f29da244",
      "value": " 255/255 [00:04&lt;00:00, 59.28 MiB/s]"
     }
    },
    "8bf07e2797804ba28b2af19f5c5ada76": {
     "model_module": "@jupyter-widgets/controls",
     "model_name": "HTMLModel",
     "state": {
      "_dom_classes": [],
      "_model_module": "@jupyter-widgets/controls",
      "_model_module_version": "1.5.0",
      "_model_name": "HTMLModel",
      "_view_count": null,
      "_view_module": "@jupyter-widgets/controls",
      "_view_module_version": "1.5.0",
      "_view_name": "HTMLView",
      "description": "",
      "description_tooltip": null,
      "layout": "IPY_MODEL_f03f9b45f5f04378814b3b0aa64f453c",
      "placeholder": "​",
      "style": "IPY_MODEL_301ab739d0fd4ef9b98dbf386e089269",
      "value": " 480000/0 [19:13&lt;00:00, 493.01 examples/s]"
     }
    },
    "8f2c20c71c254fc0bd25a717f29da244": {
     "model_module": "@jupyter-widgets/controls",
     "model_name": "DescriptionStyleModel",
     "state": {
      "_model_module": "@jupyter-widgets/controls",
      "_model_module_version": "1.5.0",
      "_model_name": "DescriptionStyleModel",
      "_view_count": null,
      "_view_module": "@jupyter-widgets/base",
      "_view_module_version": "1.2.0",
      "_view_name": "StyleView",
      "description_width": ""
     }
    },
    "9d6af5bc052d49ed917f7e0689612daa": {
     "model_module": "@jupyter-widgets/base",
     "model_name": "LayoutModel",
     "state": {
      "_model_module": "@jupyter-widgets/base",
      "_model_module_version": "1.2.0",
      "_model_name": "LayoutModel",
      "_view_count": null,
      "_view_module": "@jupyter-widgets/base",
      "_view_module_version": "1.2.0",
      "_view_name": "LayoutView",
      "align_content": null,
      "align_items": null,
      "align_self": null,
      "border": null,
      "bottom": null,
      "display": null,
      "flex": null,
      "flex_flow": null,
      "grid_area": null,
      "grid_auto_columns": null,
      "grid_auto_flow": null,
      "grid_auto_rows": null,
      "grid_column": null,
      "grid_gap": null,
      "grid_row": null,
      "grid_template_areas": null,
      "grid_template_columns": null,
      "grid_template_rows": null,
      "height": null,
      "justify_content": null,
      "justify_items": null,
      "left": null,
      "margin": null,
      "max_height": null,
      "max_width": null,
      "min_height": null,
      "min_width": null,
      "object_fit": null,
      "object_position": null,
      "order": null,
      "overflow": null,
      "overflow_x": null,
      "overflow_y": null,
      "padding": null,
      "right": null,
      "top": null,
      "visibility": null,
      "width": null
     }
    },
    "9f19cb76aed645ab87f706b222b9963a": {
     "model_module": "@jupyter-widgets/base",
     "model_name": "LayoutModel",
     "state": {
      "_model_module": "@jupyter-widgets/base",
      "_model_module_version": "1.2.0",
      "_model_name": "LayoutModel",
      "_view_count": null,
      "_view_module": "@jupyter-widgets/base",
      "_view_module_version": "1.2.0",
      "_view_name": "LayoutView",
      "align_content": null,
      "align_items": null,
      "align_self": null,
      "border": null,
      "bottom": null,
      "display": null,
      "flex": null,
      "flex_flow": null,
      "grid_area": null,
      "grid_auto_columns": null,
      "grid_auto_flow": null,
      "grid_auto_rows": null,
      "grid_column": null,
      "grid_gap": null,
      "grid_row": null,
      "grid_template_areas": null,
      "grid_template_columns": null,
      "grid_template_rows": null,
      "height": null,
      "justify_content": null,
      "justify_items": null,
      "left": null,
      "margin": null,
      "max_height": null,
      "max_width": null,
      "min_height": null,
      "min_width": null,
      "object_fit": null,
      "object_position": null,
      "order": null,
      "overflow": null,
      "overflow_x": null,
      "overflow_y": null,
      "padding": null,
      "right": null,
      "top": null,
      "visibility": null,
      "width": null
     }
    },
    "ae067f5d8546418ebcd2f64672f4abac": {
     "model_module": "@jupyter-widgets/base",
     "model_name": "LayoutModel",
     "state": {
      "_model_module": "@jupyter-widgets/base",
      "_model_module_version": "1.2.0",
      "_model_name": "LayoutModel",
      "_view_count": null,
      "_view_module": "@jupyter-widgets/base",
      "_view_module_version": "1.2.0",
      "_view_name": "LayoutView",
      "align_content": null,
      "align_items": null,
      "align_self": null,
      "border": null,
      "bottom": null,
      "display": null,
      "flex": null,
      "flex_flow": null,
      "grid_area": null,
      "grid_auto_columns": null,
      "grid_auto_flow": null,
      "grid_auto_rows": null,
      "grid_column": null,
      "grid_gap": null,
      "grid_row": null,
      "grid_template_areas": null,
      "grid_template_columns": null,
      "grid_template_rows": null,
      "height": null,
      "justify_content": null,
      "justify_items": null,
      "left": null,
      "margin": null,
      "max_height": null,
      "max_width": null,
      "min_height": null,
      "min_width": null,
      "object_fit": null,
      "object_position": null,
      "order": null,
      "overflow": null,
      "overflow_x": null,
      "overflow_y": null,
      "padding": null,
      "right": null,
      "top": null,
      "visibility": null,
      "width": null
     }
    },
    "aed0010d9ca14692925065464e25f0dd": {
     "model_module": "@jupyter-widgets/controls",
     "model_name": "ProgressStyleModel",
     "state": {
      "_model_module": "@jupyter-widgets/controls",
      "_model_module_version": "1.5.0",
      "_model_name": "ProgressStyleModel",
      "_view_count": null,
      "_view_module": "@jupyter-widgets/base",
      "_view_module_version": "1.2.0",
      "_view_name": "StyleView",
      "bar_color": null,
      "description_width": "initial"
     }
    },
    "b1f5d145625947f0b353c051716f4401": {
     "model_module": "@jupyter-widgets/controls",
     "model_name": "HTMLModel",
     "state": {
      "_dom_classes": [],
      "_model_module": "@jupyter-widgets/controls",
      "_model_module_version": "1.5.0",
      "_model_name": "HTMLModel",
      "_view_count": null,
      "_view_module": "@jupyter-widgets/controls",
      "_view_module_version": "1.5.0",
      "_view_name": "HTMLView",
      "description": "",
      "description_tooltip": null,
      "layout": "IPY_MODEL_6b71c7656f4448a28ba960090c26734c",
      "placeholder": "​",
      "style": "IPY_MODEL_5de482bcc80043a2925610a1cdce6d91",
      "value": " 476316/480000 [00:30&lt;00:00, 44836.16 examples/s]"
     }
    },
    "b736382a03424545854c09516abe17fd": {
     "model_module": "@jupyter-widgets/base",
     "model_name": "LayoutModel",
     "state": {
      "_model_module": "@jupyter-widgets/base",
      "_model_module_version": "1.2.0",
      "_model_name": "LayoutModel",
      "_view_count": null,
      "_view_module": "@jupyter-widgets/base",
      "_view_module_version": "1.2.0",
      "_view_name": "LayoutView",
      "align_content": null,
      "align_items": null,
      "align_self": null,
      "border": null,
      "bottom": null,
      "display": null,
      "flex": null,
      "flex_flow": null,
      "grid_area": null,
      "grid_auto_columns": null,
      "grid_auto_flow": null,
      "grid_auto_rows": null,
      "grid_column": null,
      "grid_gap": null,
      "grid_row": null,
      "grid_template_areas": null,
      "grid_template_columns": null,
      "grid_template_rows": null,
      "height": null,
      "justify_content": null,
      "justify_items": null,
      "left": null,
      "margin": null,
      "max_height": null,
      "max_width": null,
      "min_height": null,
      "min_width": null,
      "object_fit": null,
      "object_position": null,
      "order": null,
      "overflow": null,
      "overflow_x": null,
      "overflow_y": null,
      "padding": null,
      "right": null,
      "top": null,
      "visibility": null,
      "width": null
     }
    },
    "c7baebb9aecf435aaee12c7192705c7e": {
     "model_module": "@jupyter-widgets/controls",
     "model_name": "ProgressStyleModel",
     "state": {
      "_model_module": "@jupyter-widgets/controls",
      "_model_module_version": "1.5.0",
      "_model_name": "ProgressStyleModel",
      "_view_count": null,
      "_view_module": "@jupyter-widgets/base",
      "_view_module_version": "1.2.0",
      "_view_name": "StyleView",
      "bar_color": null,
      "description_width": "initial"
     }
    },
    "c83445d04c1d4a6eb0237c1bde9a5ff9": {
     "model_module": "@jupyter-widgets/controls",
     "model_name": "HBoxModel",
     "state": {
      "_dom_classes": [],
      "_model_module": "@jupyter-widgets/controls",
      "_model_module_version": "1.5.0",
      "_model_name": "HBoxModel",
      "_view_count": null,
      "_view_module": "@jupyter-widgets/controls",
      "_view_module_version": "1.5.0",
      "_view_name": "HBoxView",
      "box_style": "",
      "children": [
       "IPY_MODEL_ced0e56c12f94b7e81a1881474a9c84b",
       "IPY_MODEL_b1f5d145625947f0b353c051716f4401"
      ],
      "layout": "IPY_MODEL_5045835dee7444e4bb815b463f2abf56"
     }
    },
    "ced0e56c12f94b7e81a1881474a9c84b": {
     "model_module": "@jupyter-widgets/controls",
     "model_name": "FloatProgressModel",
     "state": {
      "_dom_classes": [],
      "_model_module": "@jupyter-widgets/controls",
      "_model_module_version": "1.5.0",
      "_model_name": "FloatProgressModel",
      "_view_count": null,
      "_view_module": "@jupyter-widgets/controls",
      "_view_module_version": "1.5.0",
      "_view_name": "ProgressView",
      "bar_style": "danger",
      "description": " 99%",
      "description_tooltip": null,
      "layout": "IPY_MODEL_9f19cb76aed645ab87f706b222b9963a",
      "max": 480000,
      "min": 0,
      "orientation": "horizontal",
      "style": "IPY_MODEL_40f2b5a8bcbf41f59cf937d789f1ce64",
      "value": 476316
     }
    },
    "e3b41a79f4d94492914cdb5231bcce73": {
     "model_module": "@jupyter-widgets/controls",
     "model_name": "HTMLModel",
     "state": {
      "_dom_classes": [],
      "_model_module": "@jupyter-widgets/controls",
      "_model_module_version": "1.5.0",
      "_model_name": "HTMLModel",
      "_view_count": null,
      "_view_module": "@jupyter-widgets/controls",
      "_view_module_version": "1.5.0",
      "_view_name": "HTMLView",
      "description": "",
      "description_tooltip": null,
      "layout": "IPY_MODEL_45344f28091d4471bff1e675ad634f34",
      "placeholder": "​",
      "style": "IPY_MODEL_52021c0b277f4cf2a6b25d15c073c5c0",
      "value": " 1/1 [00:04&lt;00:00,  4.33s/ url]"
     }
    },
    "e3d4eeb7554241d3827d79a6a6d113b8": {
     "model_module": "@jupyter-widgets/controls",
     "model_name": "FloatProgressModel",
     "state": {
      "_dom_classes": [],
      "_model_module": "@jupyter-widgets/controls",
      "_model_module_version": "1.5.0",
      "_model_name": "FloatProgressModel",
      "_view_count": null,
      "_view_module": "@jupyter-widgets/controls",
      "_view_module_version": "1.5.0",
      "_view_name": "ProgressView",
      "bar_style": "success",
      "description": "Dl Size...: 100%",
      "description_tooltip": null,
      "layout": "IPY_MODEL_ae067f5d8546418ebcd2f64672f4abac",
      "max": 1,
      "min": 0,
      "orientation": "horizontal",
      "style": "IPY_MODEL_aed0010d9ca14692925065464e25f0dd",
      "value": 1
     }
    },
    "e50bbdc8d4f649618208c5f2e42ca8b7": {
     "model_module": "@jupyter-widgets/controls",
     "model_name": "FloatProgressModel",
     "state": {
      "_dom_classes": [],
      "_model_module": "@jupyter-widgets/controls",
      "_model_module_version": "1.5.0",
      "_model_name": "FloatProgressModel",
      "_view_count": null,
      "_view_module": "@jupyter-widgets/controls",
      "_view_module_version": "1.5.0",
      "_view_name": "ProgressView",
      "bar_style": "info",
      "description": "",
      "description_tooltip": null,
      "layout": "IPY_MODEL_161470e731de46efaf07480ca0776dfe",
      "max": 1,
      "min": 0,
      "orientation": "horizontal",
      "style": "IPY_MODEL_c7baebb9aecf435aaee12c7192705c7e",
      "value": 1
     }
    },
    "ed892297629d4f42ac12b0c1b62c4038": {
     "model_module": "@jupyter-widgets/base",
     "model_name": "LayoutModel",
     "state": {
      "_model_module": "@jupyter-widgets/base",
      "_model_module_version": "1.2.0",
      "_model_name": "LayoutModel",
      "_view_count": null,
      "_view_module": "@jupyter-widgets/base",
      "_view_module_version": "1.2.0",
      "_view_name": "LayoutView",
      "align_content": null,
      "align_items": null,
      "align_self": null,
      "border": null,
      "bottom": null,
      "display": null,
      "flex": null,
      "flex_flow": null,
      "grid_area": null,
      "grid_auto_columns": null,
      "grid_auto_flow": null,
      "grid_auto_rows": null,
      "grid_column": null,
      "grid_gap": null,
      "grid_row": null,
      "grid_template_areas": null,
      "grid_template_columns": null,
      "grid_template_rows": null,
      "height": null,
      "justify_content": null,
      "justify_items": null,
      "left": null,
      "margin": null,
      "max_height": null,
      "max_width": null,
      "min_height": null,
      "min_width": null,
      "object_fit": null,
      "object_position": null,
      "order": null,
      "overflow": null,
      "overflow_x": null,
      "overflow_y": null,
      "padding": null,
      "right": null,
      "top": null,
      "visibility": null,
      "width": null
     }
    },
    "f03f9b45f5f04378814b3b0aa64f453c": {
     "model_module": "@jupyter-widgets/base",
     "model_name": "LayoutModel",
     "state": {
      "_model_module": "@jupyter-widgets/base",
      "_model_module_version": "1.2.0",
      "_model_name": "LayoutModel",
      "_view_count": null,
      "_view_module": "@jupyter-widgets/base",
      "_view_module_version": "1.2.0",
      "_view_name": "LayoutView",
      "align_content": null,
      "align_items": null,
      "align_self": null,
      "border": null,
      "bottom": null,
      "display": null,
      "flex": null,
      "flex_flow": null,
      "grid_area": null,
      "grid_auto_columns": null,
      "grid_auto_flow": null,
      "grid_auto_rows": null,
      "grid_column": null,
      "grid_gap": null,
      "grid_row": null,
      "grid_template_areas": null,
      "grid_template_columns": null,
      "grid_template_rows": null,
      "height": null,
      "justify_content": null,
      "justify_items": null,
      "left": null,
      "margin": null,
      "max_height": null,
      "max_width": null,
      "min_height": null,
      "min_width": null,
      "object_fit": null,
      "object_position": null,
      "order": null,
      "overflow": null,
      "overflow_x": null,
      "overflow_y": null,
      "padding": null,
      "right": null,
      "top": null,
      "visibility": null,
      "width": null
     }
    }
   }
  }
 },
 "nbformat": 4,
 "nbformat_minor": 1
}
